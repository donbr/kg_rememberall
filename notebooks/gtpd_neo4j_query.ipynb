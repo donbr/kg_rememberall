{
 "cells": [
  {
   "cell_type": "markdown",
   "metadata": {
    "id": "ShNLBi1-_2Se"
   },
   "source": [
    "# Querying the Guide to Pharmacology Database\n",
    "\n",
    "---\n",
    "This notebook initializes and works with the Guide to Pharmacology Database using Neo4j and Cypher.\n"
   ]
  },
  {
   "cell_type": "markdown",
   "metadata": {
    "id": "ugWh9WTCASLv"
   },
   "source": [
    "## Setup and Data Loading\n",
    "\n",
    "First, let's review the setup and ensure all necessary dependencies are installed."
   ]
  },
  {
   "cell_type": "markdown",
   "metadata": {},
   "source": [
    "### Installing Required Libraries\n",
    "\n",
    "This cell installs the `rdflib-neo4j` and `openpyxl` libraries, which are necessary for RDF graph handling and working with Excel files, respectively."
   ]
  },
  {
   "cell_type": "code",
   "execution_count": null,
   "metadata": {
    "colab": {
     "base_uri": "https://localhost:8080/"
    },
    "id": "hIdweyPbkPnH",
    "outputId": "b9ab718f-4a64-4f81-8605-bd48303b0671"
   },
   "outputs": [],
   "source": [
    "%pip install -q neo4j openpyxl"
   ]
  },
  {
   "cell_type": "code",
   "execution_count": 2,
   "metadata": {},
   "outputs": [],
   "source": [
    "from pathlib import Path\n",
    "\n",
    "# Define configuration constants\n",
    "INTERIM_DIR = Path(\"../data/interim\")  # Standardize path using pathlib"
   ]
  },
  {
   "cell_type": "markdown",
   "metadata": {},
   "source": [
    "### Setting up Database Connection\n",
    "\n",
    "Here, we configure the connection to the Neo4j database by using environment variables for secure access. Ensure the required environment variables (`NEO4J_LCL_URI`, `NEO4J_USERNAME`, and `NEO4J_LCL_PASSWORD`) are set before proceeding."
   ]
  },
  {
   "cell_type": "code",
   "execution_count": 3,
   "metadata": {
    "id": "XyQu2-_IkOh9"
   },
   "outputs": [],
   "source": [
    "import os\n",
    "\n",
    "NEO_DB_URI = os.getenv('NEO4J_URI')\n",
    "NEO_DB_USERNAME = os.getenv('NEO4J_USERNAME')\n",
    "NEO_DB_PWD = os.getenv('NEO4J_PASSWORD')\n"
   ]
  },
  {
   "cell_type": "code",
   "execution_count": null,
   "metadata": {},
   "outputs": [],
   "source": [
    "print(f'NEO_DB_URI: {NEO_DB_URI}')"
   ]
  },
  {
   "cell_type": "markdown",
   "metadata": {
    "id": "zc_PvQad_Lzs"
   },
   "source": [
    "## Querying the Guide to Pharmacology Data\n",
    "\n",
    "This section demonstrates how to query the database to explore the Guide to Pharmacology (GtoP) dataset using Cypher.\n"
   ]
  },
  {
   "cell_type": "markdown",
   "metadata": {},
   "source": [
    "### Initializing Neo4j Driver\n",
    "\n",
    "This cell initializes the Neo4j `GraphDatabase` driver for establishing a connection to the database. Ensure the credentials and URI are correctly configured for successful interaction.\n"
   ]
  },
  {
   "cell_type": "code",
   "execution_count": 5,
   "metadata": {
    "id": "cx7CAGZN5yBN"
   },
   "outputs": [],
   "source": [
    "from neo4j import GraphDatabase\n",
    "\n",
    "# Initialize Neo4j driver\n",
    "driver = GraphDatabase.driver(\n",
    "    NEO_DB_URI,\n",
    "    auth=(NEO_DB_USERNAME, NEO_DB_PWD)\n",
    ")"
   ]
  },
  {
   "cell_type": "markdown",
   "metadata": {},
   "source": [
    "#### Setup Reused Functions\n",
    "\n",
    "This section introduces reusable helper functions to streamline querying and interacting with the Neo4j database.\n"
   ]
  },
  {
   "cell_type": "code",
   "execution_count": 6,
   "metadata": {},
   "outputs": [],
   "source": [
    "def run_cypher_query(query):\n",
    "    with driver.session(database=\"neo4j\") as session:\n",
    "        result = session.run(query)\n",
    "        # Fetch all results and convert them into a list of dictionaries\n",
    "        return [record.data() for record in result]"
   ]
  },
  {
   "cell_type": "markdown",
   "metadata": {},
   "source": [
    "### Querying for a list of drug compounds"
   ]
  },
  {
   "cell_type": "code",
   "execution_count": 7,
   "metadata": {},
   "outputs": [],
   "source": [
    "cypher_query = \"\"\"\n",
    "MATCH (l:Resource)\n",
    "WHERE l.ligandName IN ['RGFP966', 'belinostat', 'ricolinostat', 'nexturastat A', 'pyroxamide', 'entinostat', 'resminostat', 'panobinostat', 'R306465', 'M 344', 'AR-42']\n",
    "MATCH path = (l)-[:hasLigand]-(i)-[:hasTarget]-(t)-[:hasTargetFamily]-(tf)\n",
    "    OPTIONAL MATCH (i)-[:hasAction]-(a)\n",
    "    OPTIONAL MATCH (i)-[:hasAffinity]-(af)\n",
    "    OPTIONAL MATCH (i)-[:hasReference]-(r)\n",
    "    OPTIONAL MATCH (l)-[:xref]-(xr)\n",
    "RETURN path, a, af, r\n",
    "\"\"\""
   ]
  },
  {
   "cell_type": "code",
   "execution_count": null,
   "metadata": {},
   "outputs": [],
   "source": [
    "from pprint import pprint\n",
    "\n",
    "results = run_cypher_query(cypher_query)\n",
    "\n",
    "pprint(results)"
   ]
  },
  {
   "cell_type": "code",
   "execution_count": 9,
   "metadata": {},
   "outputs": [],
   "source": [
    "export_query = f\"\"\"\n",
    "CALL apoc.export.graphml.query(\n",
    "    'MATCH (l:Resource)\n",
    "     WHERE l.ligandName IN [\"RGFP966\", \"belinostat\", \"ricolinostat\", \"nexturastat A\", \"pyroxamide\", \"entinostat\", \"resminostat\", \"panobinostat\", \"R306465\", \"M 344\", \"AR-42\"]\n",
    "     MATCH path = (l)-[:hasLigand]-(i)-[:hasTarget]-(t)-[:hasTargetFamily]-(tf)\n",
    "     OPTIONAL MATCH (i)-[:hasAction]-(a)\n",
    "     OPTIONAL MATCH (i)-[:hasAffinity]-(af)\n",
    "     OPTIONAL MATCH (i)-[:hasReference]-(r)\n",
    "     OPTIONAL MATCH (l)-[:xref]-(xr)\n",
    "     RETURN path, a, af, r',\n",
    "    null,\n",
    "    {{stream: true, useTypes: true}}\n",
    ")\n",
    "YIELD data\n",
    "RETURN data\n",
    "\"\"\"\n",
    "\n",
    "with driver.session() as session:\n",
    "    result = session.run(export_query)\n",
    "    graphml_data = result.single()['data']\n"
   ]
  },
  {
   "cell_type": "code",
   "execution_count": 10,
   "metadata": {},
   "outputs": [],
   "source": [
    "# Write the GraphML data to a file\n",
    "with open(f\"{INTERIM_DIR}/gtp_aurk_inhibitors.graphml\", 'w') as f:\n",
    "    f.write(graphml_data)"
   ]
  },
  {
   "cell_type": "markdown",
   "metadata": {},
   "source": [
    "### Querying for Lists of Compounds - Tabular Format\n",
    "\n",
    "This section begins querying the database for specific information, such as retrieving lists of compounds using Cypher.\n"
   ]
  },
  {
   "cell_type": "code",
   "execution_count": 11,
   "metadata": {},
   "outputs": [],
   "source": [
    "cypher_query_hdac = \"\"\"\n",
    "// HDAC Inhibitors\n",
    "MATCH (l:Resource)\n",
    "WHERE l.ligandName IN ['RGFP966', 'belinostat', 'ricolinostat', 'nexturastat A', 'pyroxamide', '5-nitroso-8-quinolinol', 'entinostat', 'resminostat', 'panobinostat', 'R306465', 'M 344', 'AR-42']\n",
    "MATCH path = (l)-[:hasLigand]-(i)-[:hasTarget]-(t)-[:hasTargetFamily]-(tf)\n",
    "    OPTIONAL MATCH (i)-[:hasAction]-(a)\n",
    "    OPTIONAL MATCH (i)-[:hasAffinity]-(af)\n",
    "    OPTIONAL MATCH (i)-[:hasReference]-(r)\n",
    "    OPTIONAL MATCH (l)-[:xref]-(xr)\n",
    "    OPTIONAL MATCH (af)-[:hasUnits]-(afu)\n",
    "RETURN \n",
    "    l.label as Compound,\n",
    "    l.approved as FDA_Approved,\n",
    "    t.label as Target,\n",
    "    tf.label as Target_Family,\n",
    "    a.uri as Action,\n",
    "    af.hasMedianValue as Affinity_Median,\n",
    "    af.hasLowValue as Affinity_Low,\n",
    "    af.hasHighValue as Affinity_High,\n",
    "    afu.uri as Affinity_Units,\n",
    "    r.uri as Reference,\n",
    "    l.comment as Description,\n",
    "    l.inChIKey as InChIKey,\n",
    "    l.canonicalSMILES as SMILES,\n",
    "    xr.uri as CHEMBL\n",
    "ORDER BY l.ligandName, t.nomenclature\n",
    "\"\"\"\n",
    "\n",
    "cypher_query_cdk = \"\"\"\n",
    "// CDK Inhibitors\n",
    "MATCH (l:Resource)\n",
    "WHERE l.ligandName IN ['indisulam', 'dinaciclib', 'flavopiridol', 'Bms-265246', 'AT7519', 'PHA-793887', 'riviciclib', 'R-547', '7-hydroxystaurosporine', 'zotiraciclib', 'Sns-032', 'AZD5438']\n",
    "MATCH path = (l)-[:hasLigand]-(i)-[:hasTarget]-(t)-[:hasTargetFamily]-(tf)\n",
    "    OPTIONAL MATCH (i)-[:hasAction]-(a)\n",
    "    OPTIONAL MATCH (i)-[:hasAffinity]-(af)\n",
    "    OPTIONAL MATCH (i)-[:hasReference]-(r)\n",
    "    OPTIONAL MATCH (l)-[:xref]-(xr)\n",
    "    OPTIONAL MATCH (af)-[:hasUnits]-(afu)\n",
    "RETURN \n",
    "    l.label as Compound,\n",
    "    l.approved as FDA_Approved,\n",
    "    t.label as Target,\n",
    "    tf.label as Target_Family,\n",
    "    a.uri as Action,\n",
    "    af.hasMedianValue as Affinity_Median,\n",
    "    af.hasLowValue as Affinity_Low,\n",
    "    af.hasHighValue as Affinity_High,\n",
    "    afu.uri as Affinity_Units,\n",
    "    r.uri as Reference,\n",
    "    l.comment as Description,\n",
    "    l.inChIKey as InChIKey,\n",
    "    l.canonicalSMILES as SMILES,\n",
    "    xr.uri as CHEMBL\n",
    "ORDER BY l.ligandName, t.nomenclature\n",
    "\"\"\"\n",
    "\n",
    "cypher_query_aurk = \"\"\"\n",
    "// AURK Inhibitors\n",
    "MATCH (l:Resource)\n",
    "WHERE l.ligandName IN ['AZD1152-HQPA', 'tozasertib', 'SNS-314 mesylate', 'AMG 900', 'ZM-447439', 'ENMD-2076', 'CYC116', 'alisertib', 'PF-03814735', 'CCT129202', 'CCT137690']\n",
    "MATCH path = (l)-[:hasLigand]-(i)-[:hasTarget]-(t)-[:hasTargetFamily]-(tf)\n",
    "    OPTIONAL MATCH (i)-[:hasAction]-(a)\n",
    "    OPTIONAL MATCH (i)-[:hasAffinity]-(af)\n",
    "    OPTIONAL MATCH (i)-[:hasReference]-(r)\n",
    "    OPTIONAL MATCH (l)-[:xref]-(xr)\n",
    "    OPTIONAL MATCH (af)-[:hasUnits]-(afu)\n",
    "RETURN \n",
    "    l.label as Compound,\n",
    "    l.approved as FDA_Approved,\n",
    "    t.label as Target,\n",
    "    tf.label as Target_Family,\n",
    "    a.uri as Action,\n",
    "    af.hasMedianValue as Affinity_Median,\n",
    "    af.hasLowValue as Affinity_Low,\n",
    "    af.hasHighValue as Affinity_High,\n",
    "    afu.uri as Affinity_Units,\n",
    "    r.uri as Reference,\n",
    "    l.comment as Description,\n",
    "    l.inChIKey as InChIKey,\n",
    "    l.canonicalSMILES as SMILES,\n",
    "    xr.uri as CHEMBL\n",
    "ORDER BY l.ligandName, t.nomenclature\n",
    "\"\"\""
   ]
  },
  {
   "cell_type": "code",
   "execution_count": 12,
   "metadata": {},
   "outputs": [],
   "source": [
    "import pandas as pd\n",
    "\n",
    "# Execute the query and display the results\n",
    "results_hdac = run_cypher_query(cypher_query_hdac)\n",
    "results_cdk = run_cypher_query(cypher_query_cdk)\n",
    "results_aurk = run_cypher_query(cypher_query_aurk)"
   ]
  },
  {
   "cell_type": "markdown",
   "metadata": {},
   "source": [
    "### Creating DataFrame for HDAC Data\n",
    "\n",
    "Converts the results of the HDAC inhibitors Cypher query into a Pandas DataFrame for structured data representation and further processing.\n"
   ]
  },
  {
   "cell_type": "code",
   "execution_count": null,
   "metadata": {},
   "outputs": [],
   "source": [
    "df_hdac = pd.DataFrame(results_hdac)\n",
    "df_hdac.head()"
   ]
  },
  {
   "cell_type": "markdown",
   "metadata": {},
   "source": [
    "### Creating DataFrame for CDK Data\n",
    "\n",
    "Converts the results of the CDK inhibitors Cypher query into a Pandas DataFrame for structured data representation and further processing.\n"
   ]
  },
  {
   "cell_type": "code",
   "execution_count": null,
   "metadata": {},
   "outputs": [],
   "source": [
    "df_cdk = pd.DataFrame(results_cdk)\n",
    "df_cdk.head()"
   ]
  },
  {
   "cell_type": "markdown",
   "metadata": {},
   "source": [
    "### Creating DataFrame for AURK Data\n",
    "\n",
    "Converts the results of the AURK inhibitors Cypher query into a Pandas DataFrame for structured data representation and further processing.\n"
   ]
  },
  {
   "cell_type": "code",
   "execution_count": null,
   "metadata": {},
   "outputs": [],
   "source": [
    "df_aurk = pd.DataFrame(results_aurk)\n",
    "df_aurk.head()"
   ]
  },
  {
   "cell_type": "markdown",
   "metadata": {},
   "source": [
    "### Exporting DataFrames to Excel Files\n",
    "\n",
    "Exports the processed DataFrames for HDAC, CDK, and AURK inhibitors into separate Excel files. This allows external analysis or sharing of the data.\n"
   ]
  },
  {
   "cell_type": "code",
   "execution_count": 16,
   "metadata": {},
   "outputs": [],
   "source": [
    "# export each DataFrame to a xlsx file\n",
    "df_hdac.to_excel(f\"{INTERIM_DIR}/gtp_hdac_inhibitors_data.xlsx\", index=False)\n",
    "df_cdk.to_excel(f\"{INTERIM_DIR}/gtp_cdk_inhibitors_data.xlsx\", index=False)\n",
    "df_aurk.to_excel(f\"{INTERIM_DIR}/gtp_aurk_inhibitors_data.xlsx\", index=False)"
   ]
  },
  {
   "cell_type": "code",
   "execution_count": 17,
   "metadata": {},
   "outputs": [],
   "source": [
    "driver.close()"
   ]
  },
  {
   "cell_type": "markdown",
   "metadata": {},
   "source": []
  },
  {
   "cell_type": "markdown",
   "metadata": {
    "id": "YRjw24yMavka"
   },
   "source": [
    "## Citation\n",
    "\n",
    "**BibTeX:**\n",
    "\n",
    "```\n",
    "@article{10.1093/nar/gkad944,\n",
    "    author = {Harding, Simon D and Armstrong, Jane F and Faccenda, Elena and Southan, Christopher and Alexander, Stephen P H and Davenport, Anthony P and Spedding, Michael and Davies, Jamie A},\n",
    "    title = \"{The IUPHAR/BPS Guide to PHARMACOLOGY in 2024}\",\n",
    "    journal = {Nucleic Acids Research},\n",
    "    volume = {52},\n",
    "    number = {D1},\n",
    "    pages = {D1438-D1449},\n",
    "    year = {2023},\n",
    "    month = {10},\n",
    "    abstract = \"{The IUPHAR/BPS Guide to PHARMACOLOGY (GtoPdb; https://www.guidetopharmacology.org) is an open-access, expert-curated, online database that provides succinct overviews and key references for pharmacological targets and their recommended experimental ligands. It includes over 3039 protein targets and 12 163 ligand molecules, including approved drugs, small molecules, peptides and antibodies. Here, we report recent developments to the resource and describe expansion in content over the six database releases made during the last two years. The database update section of this paper focuses on two areas relating to important global health challenges. The first, SARS-CoV-2 COVID-19, remains a major concern and we describe our efforts to expand the database to include a new family of coronavirus proteins. The second area is antimicrobial resistance, for which we have extended our coverage of antibacterials in partnership with AntibioticDB, a collaboration that has continued through support from GARDP. We discuss other areas of curation and also focus on our external links to resources such as PubChem that bring important synergies to the resources.}\",\n",
    "    issn = {0305-1048},\n",
    "    doi = {10.1093/nar/gkad944},\n",
    "    url = {https://doi.org/10.1093/nar/gkad944},\n",
    "    eprint = {https://academic.oup.com/nar/article-pdf/52/D1/D1438/55039511/gkad944.pdf},\n",
    "}\n",
    "```"
   ]
  }
 ],
 "metadata": {
  "colab": {
   "name": "gtpd_init.ipynb",
   "provenance": []
  },
  "kernelspec": {
   "display_name": ".venv",
   "language": "python",
   "name": "python3"
  },
  "language_info": {
   "codemirror_mode": {
    "name": "ipython",
    "version": 3
   },
   "file_extension": ".py",
   "mimetype": "text/x-python",
   "name": "python",
   "nbconvert_exporter": "python",
   "pygments_lexer": "ipython3",
   "version": "3.11.8"
  }
 },
 "nbformat": 4,
 "nbformat_minor": 0
}
