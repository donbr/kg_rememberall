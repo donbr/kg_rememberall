{
 "cells": [
  {
   "cell_type": "code",
   "execution_count": null,
   "metadata": {},
   "outputs": [],
   "source": [
    "# Install dependencies\n",
    "%pip install -q rdflib networkx pyvis bokeh"
   ]
  },
  {
   "cell_type": "code",
   "execution_count": 2,
   "metadata": {},
   "outputs": [],
   "source": [
    "# set BROWSER env variable\n",
    "import os\n",
    "os.environ[\"BROWSER\"] = os.getenv(\"BROWSER\", \"chromium-browser\")"
   ]
  },
  {
   "cell_type": "code",
   "execution_count": null,
   "metadata": {},
   "outputs": [],
   "source": [
    "# Add the kg_rememberall directory to the Python path\n",
    "import sys\n",
    "sys.path.append(\"../kg_rememberall\")\n",
    "\n",
    "# Import the utils module\n",
    "from kg_rememberall.utils import networkx_utils as utils\n",
    "\n",
    "# Define the ontology file\n",
    "ontology_file = \"../references/paper-ontology-v2.ttl\"\n",
    "\n",
    "# Create the ontology graph\n",
    "schema_graph = utils.import_ontology_as_graph(ontology_file)\n",
    "\n",
    "# Export and visualize the graph\n",
    "output_prefix = \"lightrag_networkx_visualization\"\n",
    "graphml_path = f\"../data/processed/{output_prefix}.graphml\"\n",
    "json_path = f\"../data/processed/{output_prefix}.json\"\n",
    "pyvis_path = f\"../data/processed/{output_prefix}_pyvis.html\"\n",
    "\n",
    "# Save as GraphML and JSON\n",
    "utils.export_to_graphml(schema_graph, filename=graphml_path)\n",
    "utils.export_to_json(schema_graph, filename=json_path)\n",
    "\n",
    "# Visualize with PyVis\n",
    "utils.visualize_with_pyvis(schema_graph, output_file=pyvis_path)\n",
    "\n",
    "print(f\"Graph successfully created and saved. \\nGraphML: {graphml_path}, \\nJSON: {json_path}, \\nPyVis: {pyvis_path}\")"
   ]
  },
  {
   "cell_type": "code",
   "execution_count": null,
   "metadata": {},
   "outputs": [],
   "source": []
  }
 ],
 "metadata": {
  "kernelspec": {
   "display_name": ".venv",
   "language": "python",
   "name": "python3"
  },
  "language_info": {
   "codemirror_mode": {
    "name": "ipython",
    "version": 3
   },
   "file_extension": ".py",
   "mimetype": "text/x-python",
   "name": "python",
   "nbconvert_exporter": "python",
   "pygments_lexer": "ipython3",
   "version": "3.11.8"
  }
 },
 "nbformat": 4,
 "nbformat_minor": 2
}
