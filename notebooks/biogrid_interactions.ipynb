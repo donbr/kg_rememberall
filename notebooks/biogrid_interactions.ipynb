{
 "cells": [
  {
   "cell_type": "markdown",
   "metadata": {},
   "source": [
    "## BioGRID REST Sevices:  ORCS\n",
    "\n",
    "- for context BioGRID has two primary APIs that differ slightly in focus\n",
    "- examples in this notebook use the ORCS API\n",
    "- Use the API base url to request an API key and capture it in an .env file\n",
    "\n",
    "### Protein, Genetic and Chemical Interactions\n",
    "- Site URL:  https://thebiogrid.org/\n",
    "- API docs:  https://wiki.thebiogrid.org/doku.php/biogridrest\n",
    "- API base url:  https://webservice.thebiogrid.org\n",
    "- API key:  https://webservice.thebiogrid.org\n",
    "\n",
    "### Open Repository of CRISPR Screens (ORCS)\n",
    "- Site URL:  https://orcs.thebiogrid.org/\n",
    "- API docs:  https://wiki.thebiogrid.org/doku.php/orcs:webservice\n",
    "- API base url:  https://orcsws.thebiogrid.org\n",
    "- API key:  https://orcsws.thebiogrid.org\n",
    "\n",
    "CITATION:\n",
    "- original examples were based on\n",
    "  - [BIOGRID-REST-EXAMPLES](https://github.com/BioGRID/BIOGRID-REST-EXAMPLES) GitHub repository\n",
    "  - [ORCS-REST-EXAMPLES](https://github.com/BioGRID/ORCS-REST-EXAMPLES) GitHub repository"
   ]
  },
  {
   "cell_type": "code",
   "execution_count": 1,
   "metadata": {},
   "outputs": [],
   "source": [
    "# Import necessary libraries\n",
    "import os\n",
    "from dotenv import load_dotenv\n",
    "import requests\n",
    "from pprint import pprint\n",
    "\n",
    "# Load environment variables from .env file\n",
    "load_dotenv()\n",
    "\n",
    "# Fetch the API keys and base URLs from the .env file\n",
    "BG_INT_ACCESS_KEY = os.getenv(\"BG_INT_ACCESS_KEY\")\n",
    "BG_INT_BASE_URL = os.getenv(\"BG_INT_BASE_URL\")\n",
    "BG_ORCS_ACCESS_KEY = os.getenv(\"BG_ORCS_ACCESS_KEY\")\n",
    "BG_ORCS_BASE_URL = os.getenv(\"BG_ORCS_BASE_URL\")\n",
    "\n",
    "# Validate the environment variables\n",
    "if not BG_INT_ACCESS_KEY or not BG_INT_BASE_URL:\n",
    "    raise ValueError(\"BG_INT_ACCESS_KEY or BG_INT_BASE_URL is missing from the .env file.\")\n",
    "\n",
    "if not BG_ORCS_ACCESS_KEY or not BG_ORCS_BASE_URL:\n",
    "    raise ValueError(\"BG_ORCS_ACCESS_KEY or BG_ORCS_BASE_URL is missing from the .env file.\")"
   ]
  },
  {
   "cell_type": "code",
   "execution_count": 2,
   "metadata": {},
   "outputs": [],
   "source": [
    "from pathlib import Path\n",
    "\n",
    "# Define configuration constants\n",
    "INTERIM_DIR = Path(\"../data/interim\")  # Standardize path using pathlib\n",
    "# INTERIM_DIR.mkdir(parents=True, exist_ok=True)  # Ensure directory exists"
   ]
  },
  {
   "cell_type": "markdown",
   "metadata": {},
   "source": [
    "## BioGRID interactions"
   ]
  },
  {
   "cell_type": "code",
   "execution_count": 3,
   "metadata": {},
   "outputs": [],
   "source": [
    "import os\n",
    "import requests\n",
    "\n",
    "# API endpoint and parameters\n",
    "request_url = BG_INT_BASE_URL + \"/evidence/\"\n",
    "params = {\n",
    "    \"format\": \"json\",\n",
    "    \"accesskey\": BG_INT_ACCESS_KEY  # Replace with your access key\n",
    "}\n",
    "\n",
    "# Send the API request\n",
    "response = requests.get(request_url, params=params)"
   ]
  },
  {
   "cell_type": "code",
   "execution_count": 4,
   "metadata": {},
   "outputs": [
    {
     "name": "stdout",
     "output_type": "stream",
     "text": [
      "{'affinity capture-luminescence': '',\n",
      " 'affinity capture-ms': '',\n",
      " 'affinity capture-rna': '',\n",
      " 'affinity capture-western': '',\n",
      " 'biochemical activity': '',\n",
      " 'co-crystal structure': '',\n",
      " 'co-fractionation': '',\n",
      " 'co-localization': '',\n",
      " 'co-purification': '',\n",
      " 'cross-linking-ms (xl-ms)': '',\n",
      " 'dosage growth defect': '',\n",
      " 'dosage lethality': '',\n",
      " 'dosage rescue': '',\n",
      " 'far western': '',\n",
      " 'fret': '',\n",
      " 'negative genetic': '',\n",
      " 'pca': '',\n",
      " 'phenotypic enhancement': '',\n",
      " 'phenotypic suppression': '',\n",
      " 'positive genetic': '',\n",
      " 'protein-peptide': '',\n",
      " 'protein-rna': '',\n",
      " 'proximity label-ms': '',\n",
      " 'reconstituted complex': '',\n",
      " 'synthetic growth defect': '',\n",
      " 'synthetic haploinsufficiency': '',\n",
      " 'synthetic lethality': '',\n",
      " 'synthetic rescue': '',\n",
      " 'two-hybrid': ''}\n"
     ]
    }
   ],
   "source": [
    "from pprint import pprint\n",
    "\n",
    "## pprint evidence parameters \n",
    "pprint(response.json())"
   ]
  },
  {
   "cell_type": "code",
   "execution_count": 5,
   "metadata": {},
   "outputs": [],
   "source": [
    "import os\n",
    "import requests\n",
    "\n",
    "# Gene ID(s) to search for (pipe-separated for multiple genes)\n",
    "gene_id = \"7157\"\n",
    "\n",
    "# Evidence types to include in the response (pipe-separated for multiple types)\n",
    "evidence_list = \"synthetic lethality|negative genetic\"\n",
    "\n",
    "# API endpoint and parameters\n",
    "request_url = BG_INT_BASE_URL + \"/interactions/\"\n",
    "params = {\n",
    "    \"taxId\": \"9606\",  # Human taxonomy ID\n",
    "    \"geneList\": gene_id,\n",
    "    \"includeInteractors\": \"true\",\n",
    "    \"evidenceList\": evidence_list,\n",
    "    \"includeEvidence\": \"true\",\n",
    "    \"format\": \"json\",\n",
    "    \"accesskey\": BG_INT_ACCESS_KEY  # Replace with your access key\n",
    "}\n",
    "\n",
    "# Send the API request\n",
    "response = requests.get(request_url, params=params)"
   ]
  },
  {
   "cell_type": "code",
   "execution_count": 6,
   "metadata": {},
   "outputs": [
    {
     "name": "stdout",
     "output_type": "stream",
     "text": [
      "Number of interactions found: 214\n"
     ]
    }
   ],
   "source": [
    "import json\n",
    "\n",
    "# print length of response\n",
    "print(f\"Number of interactions found: {len(response.json())}\")\n",
    "\n",
    "# Construct the output file path\n",
    "file_name = f\"{gene_id}_interactions.json\"\n",
    "file_path = INTERIM_DIR / file_name\n",
    "\n",
    "# Write data to the file\n",
    "with open(file_path, \"w\") as f:\n",
    "    json.dump(response.json(), f, indent=4)"
   ]
  },
  {
   "cell_type": "code",
   "execution_count": 7,
   "metadata": {},
   "outputs": [],
   "source": [
    "import os\n",
    "import requests\n",
    "\n",
    "# Gene name(s) to search for (pipe-separated for multiple genes)\n",
    "gene_name = \"TP53\"\n",
    "\n",
    "# Evidence types to include in the response (pipe-separated for multiple types)\n",
    "evidence_list = \"synthetic lethality|negative genetic\"\n",
    "\n",
    "# API endpoint and parameters\n",
    "request_url = BG_INT_BASE_URL + \"/interactions/\"\n",
    "params = {\n",
    "    \"taxId\": \"9606\",  # Human taxonomy ID\n",
    "    \"geneList\": gene_name,\n",
    "    \"searchNames\": \"true\", # Search by gene name instead of gene ID    \n",
    "    \"includeInteractors\": \"true\",\n",
    "    \"evidenceList\": evidence_list,\n",
    "    \"includeEvidence\": \"true\",\n",
    "    \"format\": \"json\",\n",
    "    \"accesskey\": BG_INT_ACCESS_KEY  # Replace with your access key\n",
    "}\n",
    "\n",
    "# Send the API request\n",
    "response = requests.get(request_url, params=params)"
   ]
  },
  {
   "cell_type": "code",
   "execution_count": 8,
   "metadata": {},
   "outputs": [
    {
     "name": "stdout",
     "output_type": "stream",
     "text": [
      "Number of interactions found: 207\n"
     ]
    }
   ],
   "source": [
    "# print length of response\n",
    "print(f\"Number of interactions found: {len(response.json())}\")\n",
    "\n",
    "# Construct the output file path\n",
    "file_name = f\"{gene_name}_interactions.json\"\n",
    "file_path = INTERIM_DIR / file_name\n",
    "\n",
    "# Write data to the file\n",
    "with open(file_path, \"w\") as f:\n",
    "    json.dump(response.json(), f, indent=4)"
   ]
  },
  {
   "cell_type": "code",
   "execution_count": 9,
   "metadata": {},
   "outputs": [],
   "source": [
    "import os\n",
    "import requests\n",
    "\n",
    "# Gene name(s) to search for (pipe-separated for multiple genes)\n",
    "gene_name = \"RB1\"\n",
    "\n",
    "# Evidence types to include in the response (pipe-separated for multiple types)\n",
    "evidence_list = \"synthetic lethality|negative genetic\"\n",
    "\n",
    "# API endpoint and parameters\n",
    "request_url = BG_INT_BASE_URL + \"/interactions/\"\n",
    "params = {\n",
    "    \"taxId\": \"9606\",  # Human tax ID\n",
    "    \"geneList\": gene_name,  # gene name(s)\n",
    "    \"searchNames\": \"true\", # Search by gene name instead of gene ID\n",
    "    \"includeInteractors\": \"true\",\n",
    "    \"evidenceList\": evidence_list,\n",
    "    \"includeEvidence\": \"true\",\n",
    "    \"format\": \"json\",\n",
    "    \"accesskey\": BG_INT_ACCESS_KEY  # Replace with your access key\n",
    "}\n",
    "\n",
    "# Send the API request\n",
    "response = requests.get(request_url, params=params)"
   ]
  },
  {
   "cell_type": "code",
   "execution_count": 10,
   "metadata": {},
   "outputs": [
    {
     "name": "stdout",
     "output_type": "stream",
     "text": [
      "Number of interactions found: 38\n"
     ]
    }
   ],
   "source": [
    "# print length of response\n",
    "print(f\"Number of interactions found: {len(response.json())}\")\n",
    "\n",
    "# Construct the output file path\n",
    "file_name = f\"{gene_name}_interactions.json\"\n",
    "file_path = INTERIM_DIR / file_name\n",
    "\n",
    "# Write data to the file\n",
    "with open(file_path, \"w\") as f:\n",
    "    json.dump(response.json(), f, indent=4)"
   ]
  },
  {
   "cell_type": "code",
   "execution_count": 11,
   "metadata": {},
   "outputs": [],
   "source": [
    "import os\n",
    "import requests\n",
    "\n",
    "# PMID(s) to search for (pipe-separated for multiple genes)\n",
    "pubmed_article = \"35559673\"\n",
    "\n",
    "# Evidence types to include in the response (pipe-separated for multiple types)\n",
    "evidence_list = \"synthetic lethality|negative genetic\"\n",
    "\n",
    "# API endpoint and parameters\n",
    "request_url = BG_INT_BASE_URL + \"/interactions/\"\n",
    "params = {\n",
    "    \"taxId\": \"9606\",  # Human tax ID\n",
    "    \"pubmedList\": pubmed_article, # pubmed article ID(s)\n",
    "    # \"geneList\": gene_name,\n",
    "    # \"searchNames\": \"true\",\n",
    "    \"includeInteractors\": \"true\",\n",
    "    \"evidenceList\": evidence_list,\n",
    "    \"includeEvidence\": \"true\",\n",
    "    \"format\": \"json\",\n",
    "    \"accesskey\": BG_INT_ACCESS_KEY  # Replace with your access key\n",
    "}\n",
    "\n",
    "# Send the API request\n",
    "response = requests.get(request_url, params=params)"
   ]
  },
  {
   "cell_type": "code",
   "execution_count": 12,
   "metadata": {},
   "outputs": [
    {
     "name": "stdout",
     "output_type": "stream",
     "text": [
      "Number of interactions found: 475\n"
     ]
    }
   ],
   "source": [
    "# print length of response\n",
    "print(f\"Number of interactions found: {len(response.json())}\")\n",
    "\n",
    "# Construct the output file path\n",
    "file_name = f\"pmid_{pubmed_article}_interactions.json\"\n",
    "file_path = INTERIM_DIR / file_name\n",
    "\n",
    "# Write data to the file\n",
    "with open(file_path, \"w\") as f:\n",
    "    json.dump(response.json(), f, indent=4)"
   ]
  }
 ],
 "metadata": {
  "kernelspec": {
   "display_name": ".venv",
   "language": "python",
   "name": "python3"
  },
  "language_info": {
   "codemirror_mode": {
    "name": "ipython",
    "version": 3
   },
   "file_extension": ".py",
   "mimetype": "text/x-python",
   "name": "python",
   "nbconvert_exporter": "python",
   "pygments_lexer": "ipython3",
   "version": "3.11.8"
  }
 },
 "nbformat": 4,
 "nbformat_minor": 2
}
