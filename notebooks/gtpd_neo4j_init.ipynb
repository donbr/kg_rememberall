{
 "cells": [
  {
   "cell_type": "markdown",
   "metadata": {
    "id": "ShNLBi1-_2Se"
   },
   "source": [
    "# Initializing the Guide to Pharmacology Database\n",
    "\n",
    "---\n",
    "\n"
   ]
  },
  {
   "cell_type": "markdown",
   "metadata": {
    "id": "ugWh9WTCASLv"
   },
   "source": [
    "## Setup and Data Loading\n",
    "\n",
    "First, let's review the setup and data loading process:"
   ]
  },
  {
   "cell_type": "code",
   "execution_count": 1,
   "metadata": {
    "colab": {
     "base_uri": "https://localhost:8080/"
    },
    "id": "hIdweyPbkPnH",
    "outputId": "b9ab718f-4a64-4f81-8605-bd48303b0671"
   },
   "outputs": [
    {
     "name": "stdout",
     "output_type": "stream",
     "text": [
      "\n",
      "\u001b[1m[\u001b[0m\u001b[34;49mnotice\u001b[0m\u001b[1;39;49m]\u001b[0m\u001b[39;49m A new release of pip is available: \u001b[0m\u001b[31;49m24.0\u001b[0m\u001b[39;49m -> \u001b[0m\u001b[32;49m24.3.1\u001b[0m\n",
      "\u001b[1m[\u001b[0m\u001b[34;49mnotice\u001b[0m\u001b[1;39;49m]\u001b[0m\u001b[39;49m To update, run: \u001b[0m\u001b[32;49mpip install --upgrade pip\u001b[0m\n"
     ]
    }
   ],
   "source": [
    "%pip install -q rdflib-neo4j neo4j ipywidgets"
   ]
  },
  {
   "cell_type": "code",
   "execution_count": 2,
   "metadata": {
    "id": "dkxR9IazkLaY",
    "pycharm": {
     "is_executing": true,
     "name": "#%%\n"
    }
   },
   "outputs": [],
   "source": [
    "import os\n",
    "from rdflib_neo4j import Neo4jStoreConfig\n",
    "from rdflib_neo4j import HANDLE_VOCAB_URI_STRATEGY\n",
    "from neo4j import GraphDatabase\n",
    "\n",
    "NEO_DB_URI = os.getenv('NEO4J_URI')\n",
    "NEO_DB_USERNAME = os.getenv('NEO4J_USERNAME')\n",
    "NEO_DB_PWD = os.getenv('NEO4J_PASSWORD')\n",
    "\n",
    "auth_data = {'uri': NEO_DB_URI,\n",
    "             'database': \"neo4j\",\n",
    "             'user': NEO_DB_USERNAME,\n",
    "             'pwd': NEO_DB_PWD}"
   ]
  },
  {
   "cell_type": "markdown",
   "metadata": {
    "id": "Prt_xi-5-ctl"
   },
   "source": [
    "## Define namespaces and configuration\n"
   ]
  },
  {
   "cell_type": "code",
   "execution_count": 3,
   "metadata": {
    "id": "091uEorDkLaZ",
    "pycharm": {
     "name": "#%%\n"
    }
   },
   "outputs": [],
   "source": [
    "from rdflib import Namespace\n",
    "\n",
    "prefixes = {\n",
    "    'gtpo': Namespace('https://rdf.guidetopharmacology.org/ns/gtpo#'),\n",
    "    'grac': Namespace('https://rdf.guidetopharmacology.org/GRAC/'),\n",
    "    'cito': Namespace('http://purl.org/spar/cito/'),\n",
    "    'dcat': Namespace('http://www.w3.org/ns/dcat#'),\n",
    "    'dctypes': Namespace('http://purl.org/dc/dcmitype/'),\n",
    "    'dct': Namespace('http://purl.org/dc/terms/'),\n",
    "    'foaf': Namespace('http://xmlns.com/foaf/0.1/'),\n",
    "    'freq': Namespace('http://purl.org/cld/freq/'),\n",
    "    'idot': Namespace('http://identifiers.org/idot/'),\n",
    "    'lexvo': Namespace('http://lexvo.org/ontology#'),\n",
    "    'pav': Namespace('http://purl.org/pav/'),\n",
    "    'prov': Namespace('http://www.w3.org/ns/prov#'),\n",
    "    'rdf': Namespace('http://www.w3.org/1999/02/22-rdf-syntax-ns#'),\n",
    "    'rdfs': Namespace('http://www.w3.org/2000/01/rdf-schema#'),\n",
    "    'schemaorg': Namespace('http://schema.org/'),\n",
    "    'sd': Namespace('http://www.w3.org/ns/sparql-service-description#'),\n",
    "    'sio': Namespace('http://semanticscience.org/resource/'),\n",
    "    'void': Namespace('http://rdfs.org/ns/void#'),\n",
    "    'void-ext': Namespace('http://ldf.fi/void-ext#'),\n",
    "    'xsd': Namespace('http://www.w3.org/2001/XMLSchema#'),\n",
    "    # Add other required prefixes based on your data inspection\n",
    "}"
   ]
  },
  {
   "cell_type": "code",
   "execution_count": 4,
   "metadata": {},
   "outputs": [],
   "source": [
    "config = Neo4jStoreConfig(auth_data=auth_data,\n",
    "                          custom_prefixes=prefixes,\n",
    "                          handle_vocab_uri_strategy=HANDLE_VOCAB_URI_STRATEGY.IGNORE,\n",
    "                          batching=True)"
   ]
  },
  {
   "cell_type": "markdown",
   "metadata": {
    "id": "dkT27dtL_Ag7"
   },
   "source": [
    "## Load the ontology data"
   ]
  },
  {
   "cell_type": "markdown",
   "metadata": {},
   "source": [
    "https://www.guidetopharmacology.org/DATA/rdf/2024.4/gtp-rdf.n3\n",
    "https://www.guidetopharmacology.org/DATA/rdf/2024.4/target.n3\n",
    "https://www.guidetopharmacology.org/DATA/rdf/2024.4/ligand.n3\n",
    "https://www.guidetopharmacology.org/DATA/rdf/2024.4/interaction.n3"
   ]
  },
  {
   "cell_type": "code",
   "execution_count": 5,
   "metadata": {
    "colab": {
     "base_uri": "https://localhost:8080/",
     "height": 373
    },
    "id": "07lRVHQ7kLaZ",
    "outputId": "18addd39-7511-4801-de0f-39b241e156fc",
    "pycharm": {
     "name": "#%%\n"
    }
   },
   "outputs": [
    {
     "name": "stdout",
     "output_type": "stream",
     "text": [
      "Uniqueness constraint on :Resource(uri) is created.\n",
      "The store is now: Open\n",
      "The store is now: Closed\n",
      "IMPORTED 387357 TRIPLES\n"
     ]
    }
   ],
   "source": [
    "from rdflib_neo4j import Neo4jStore\n",
    "from rdflib import Graph\n",
    "\n",
    "file_path = 'https://www.guidetopharmacology.org/DATA/rdf/2024.4/gtp-rdf.n3'\n",
    "\n",
    "graph_store = Graph(store=Neo4jStore(config=config))\n",
    "graph_store.parse(file_path,format=\"nt\")\n",
    "graph_store.close(True)"
   ]
  },
  {
   "cell_type": "markdown",
   "metadata": {
    "id": "YRjw24yMavka"
   },
   "source": [
    "## Citation\n",
    "\n",
    "**BibTeX:**\n",
    "\n",
    "```\n",
    "@article{10.1093/nar/gkad944,\n",
    "    author = {Harding, Simon D and Armstrong, Jane F and Faccenda, Elena and Southan, Christopher and Alexander, Stephen P H and Davenport, Anthony P and Spedding, Michael and Davies, Jamie A},\n",
    "    title = \"{The IUPHAR/BPS Guide to PHARMACOLOGY in 2024}\",\n",
    "    journal = {Nucleic Acids Research},\n",
    "    volume = {52},\n",
    "    number = {D1},\n",
    "    pages = {D1438-D1449},\n",
    "    year = {2023},\n",
    "    month = {10},\n",
    "    abstract = \"{The IUPHAR/BPS Guide to PHARMACOLOGY (GtoPdb; https://www.guidetopharmacology.org) is an open-access, expert-curated, online database that provides succinct overviews and key references for pharmacological targets and their recommended experimental ligands. It includes over 3039 protein targets and 12 163 ligand molecules, including approved drugs, small molecules, peptides and antibodies. Here, we report recent developments to the resource and describe expansion in content over the six database releases made during the last two years. The database update section of this paper focuses on two areas relating to important global health challenges. The first, SARS-CoV-2 COVID-19, remains a major concern and we describe our efforts to expand the database to include a new family of coronavirus proteins. The second area is antimicrobial resistance, for which we have extended our coverage of antibacterials in partnership with AntibioticDB, a collaboration that has continued through support from GARDP. We discuss other areas of curation and also focus on our external links to resources such as PubChem that bring important synergies to the resources.}\",\n",
    "    issn = {0305-1048},\n",
    "    doi = {10.1093/nar/gkad944},\n",
    "    url = {https://doi.org/10.1093/nar/gkad944},\n",
    "    eprint = {https://academic.oup.com/nar/article-pdf/52/D1/D1438/55039511/gkad944.pdf},\n",
    "}\n",
    "```"
   ]
  },
  {
   "cell_type": "code",
   "execution_count": null,
   "metadata": {
    "id": "kRtn41uiaxuE"
   },
   "outputs": [],
   "source": []
  }
 ],
 "metadata": {
  "colab": {
   "name": "gtpd_init.ipynb",
   "provenance": []
  },
  "kernelspec": {
   "display_name": ".venv",
   "language": "python",
   "name": "python3"
  },
  "language_info": {
   "codemirror_mode": {
    "name": "ipython",
    "version": 3
   },
   "file_extension": ".py",
   "mimetype": "text/x-python",
   "name": "python",
   "nbconvert_exporter": "python",
   "pygments_lexer": "ipython3",
   "version": "3.11.8"
  }
 },
 "nbformat": 4,
 "nbformat_minor": 0
}
