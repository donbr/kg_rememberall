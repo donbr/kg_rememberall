{
 "cells": [
  {
   "cell_type": "markdown",
   "metadata": {},
   "source": [
    "## BioGRID REST Sevices:  ORCS\n",
    "\n",
    "- for context BioGRID has two primary APIs that differ slightly in focus\n",
    "- examples in this notebook use the ORCS API\n",
    "- Use the API base url to request an API key and capture it in an .env file\n",
    "\n",
    "### Protein, Genetic and Chemical Interactions\n",
    "- Site URL:  https://thebiogrid.org/\n",
    "- API docs:  https://wiki.thebiogrid.org/doku.php/biogridrest\n",
    "- API base url:  https://webservice.thebiogrid.org\n",
    "- API key:  https://webservice.thebiogrid.org\n",
    "\n",
    "### Open Repository of CRISPR Screens (ORCS)\n",
    "- Site URL:  https://orcs.thebiogrid.org/\n",
    "- API docs:  https://wiki.thebiogrid.org/doku.php/orcs:webservice\n",
    "- API base url:  https://orcsws.thebiogrid.org\n",
    "- API key:  https://orcsws.thebiogrid.org\n",
    "\n",
    "CITATION:\n",
    "- original examples were based on\n",
    "  - [BIOGRID-REST-EXAMPLES](https://github.com/BioGRID/BIOGRID-REST-EXAMPLES) GitHub repository\n",
    "  - [ORCS-REST-EXAMPLES](https://github.com/BioGRID/ORCS-REST-EXAMPLES) GitHub repository"
   ]
  },
  {
   "cell_type": "code",
   "execution_count": 1,
   "metadata": {},
   "outputs": [],
   "source": [
    "# Import necessary libraries\n",
    "import os\n",
    "from dotenv import load_dotenv\n",
    "import requests\n",
    "from pprint import pprint\n",
    "\n",
    "# Load environment variables from .env file\n",
    "load_dotenv()\n",
    "\n",
    "# Fetch the API keys and base URLs from the .env file\n",
    "BG_INT_ACCESS_KEY = os.getenv(\"BG_INT_ACCESS_KEY\")\n",
    "BG_INT_BASE_URL = os.getenv(\"BG_INT_BASE_URL\")\n",
    "BG_ORCS_ACCESS_KEY = os.getenv(\"BG_ORCS_ACCESS_KEY\")\n",
    "BG_ORCS_BASE_URL = os.getenv(\"BG_ORCS_BASE_URL\")\n",
    "\n",
    "# Validate the environment variables\n",
    "if not BG_INT_ACCESS_KEY or not BG_INT_BASE_URL:\n",
    "    raise ValueError(\"BG_INT_ACCESS_KEY or BG_INT_BASE_URL is missing from the .env file.\")\n",
    "\n",
    "if not BG_ORCS_ACCESS_KEY or not BG_ORCS_BASE_URL:\n",
    "    raise ValueError(\"BG_ORCS_ACCESS_KEY or BG_ORCS_BASE_URL is missing from the .env file.\")"
   ]
  },
  {
   "cell_type": "markdown",
   "metadata": {},
   "source": [
    "## organisms endpoint"
   ]
  },
  {
   "cell_type": "code",
   "execution_count": null,
   "metadata": {},
   "outputs": [],
   "source": [
    "\"\"\"\n",
    "Fetch the set of currently supported organism IDs\n",
    "\"\"\"\n",
    "\n",
    "request_url = BG_ORCS_BASE_URL + \"/organisms\"\n",
    "\n",
    "params = {\n",
    "    \"accesskey\": BG_ORCS_ACCESS_KEY,\n",
    "    \"format\": \"json\"\n",
    "}\n",
    "\n",
    "r = requests.get( request_url, params = params )\n",
    "organisms = r.json( )\n",
    "\n",
    "pprint( organisms )"
   ]
  },
  {
   "cell_type": "markdown",
   "metadata": {},
   "source": [
    "## vocabs endpoint"
   ]
  },
  {
   "cell_type": "code",
   "execution_count": null,
   "metadata": {},
   "outputs": [],
   "source": [
    "\"\"\"\n",
    "Fetch the set of controlled vocabularies and also fetch\n",
    "a set of terms for two of the vocabulary categories\n",
    "\"\"\"\n",
    "\n",
    "request_url = BG_ORCS_BASE_URL + \"/vocabs\"\n",
    "params = {\n",
    "    \"accesskey\": BG_ORCS_ACCESS_KEY,\n",
    "    \"format\": \"json\"\n",
    "}\n",
    "\n",
    "r = requests.get( request_url, params = params )\n",
    "vocabs = r.json( )\n",
    "\n",
    "pprint( vocabs )"
   ]
  },
  {
   "cell_type": "markdown",
   "metadata": {},
   "source": [
    "## vocab endpoint"
   ]
  },
  {
   "cell_type": "code",
   "execution_count": null,
   "metadata": {},
   "outputs": [],
   "source": [
    "# request actual terms in controlled vocabularies\n",
    "\n",
    "request_url = BG_ORCS_BASE_URL + \"/vocab/\"\n",
    "params = {\n",
    "    \"accesskey\": BG_ORCS_ACCESS_KEY,\n",
    "    \"format\": \"json\"\n",
    "}\n",
    "\n",
    "# Fetch list of available phenotypes (vocab: 12)\n",
    "r = requests.get( request_url + '12', params = params )\n",
    "vocab = r.json( )\n",
    "\n",
    "pprint( vocab )"
   ]
  },
  {
   "cell_type": "code",
   "execution_count": null,
   "metadata": {},
   "outputs": [],
   "source": [
    "# Fetch list of cell lines (vocab: 11)\n",
    "r = requests.get( request_url + '11', params = params )\n",
    "vocab = r.json( )\n",
    "\n",
    "vocab"
   ]
  },
  {
   "cell_type": "markdown",
   "metadata": {},
   "source": [
    "## genes endpoint"
   ]
  },
  {
   "cell_type": "code",
   "execution_count": null,
   "metadata": {},
   "outputs": [],
   "source": [
    "\"\"\"\n",
    "Fetch scores for several genes across the entire set\n",
    "of screens in the database\n",
    "\"\"\"\n",
    "\n",
    "request_url = BG_ORCS_BASE_URL + \"/genes/\"\n",
    "params = {\n",
    "    \"accesskey\": BG_ORCS_ACCESS_KEY,\n",
    "    \"geneID\": '66050|66056|66044',\n",
    "    \"format\": \"json\"\n",
    "}\n",
    "\n",
    "r = requests.get( request_url, params = params )\n",
    "scores = r.json( )\n",
    "\n",
    "for score in scores :\n",
    "    pprint( score )"
   ]
  },
  {
   "cell_type": "code",
   "execution_count": null,
   "metadata": {},
   "outputs": [],
   "source": [
    "# Specify the gene name (e.g., \"TP53\")\n",
    "gene_name = \"TP53\"\n",
    "\n",
    "# Construct the request URL for querying genes\n",
    "request_url = f\"{BG_ORCS_BASE_URL}/genes/\"\n",
    "\n",
    "# Set query parameters\n",
    "params = {\n",
    "    \"accesskey\": BG_ORCS_ACCESS_KEY,\n",
    "    \"name\": gene_name,  # Search by official gene symbol\n",
    "    \"organismID\": \"9606\",  # Search for human genes    \n",
    "    \"format\": \"json\",\n",
    "}\n",
    "\n",
    "# Make the API request\n",
    "response = requests.get(request_url, params=params)\n",
    "\n",
    "# Check the response status\n",
    "if response.status_code == 200:\n",
    "    # Parse the JSON response\n",
    "    gene_data = response.json()\n",
    "    if gene_data:\n",
    "        print(f\"Results for gene: {gene_name}\\n\")\n",
    "        print(f\"Number of results: {len(gene_data)}\")\n",
    "        pprint(gene_data)\n",
    "    else:\n",
    "        print(f\"No results found for gene: {gene_name}\")\n",
    "else:\n",
    "    print(f\"Failed to fetch data: {response.status_code}\")\n",
    "    print(response.text)\n"
   ]
  },
  {
   "cell_type": "code",
   "execution_count": null,
   "metadata": {},
   "outputs": [],
   "source": [
    "# Specify the gene name (e.g., \"RB1\")\n",
    "gene_name = \"RB1\"\n",
    "\n",
    "# Construct the request URL for querying genes\n",
    "request_url = f\"{BG_ORCS_BASE_URL}/genes/\"\n",
    "\n",
    "# Set query parameters\n",
    "params = {\n",
    "    \"accesskey\": BG_ORCS_ACCESS_KEY,\n",
    "    \"name\": gene_name,  # Search by official gene symbol\n",
    "    \"organismID\": \"9606\",  # Search for human genes    \n",
    "    \"format\": \"json\",\n",
    "}\n",
    "\n",
    "# Make the API request\n",
    "response = requests.get(request_url, params=params)\n",
    "\n",
    "# Check the response status\n",
    "if response.status_code == 200:\n",
    "    # Parse the JSON response\n",
    "    gene_data = response.json()\n",
    "    if gene_data:\n",
    "        print(f\"Results for gene: {gene_name}\\n\")\n",
    "        print(f\"Number of results: {len(gene_data)}\")\n",
    "        pprint(gene_data)\n",
    "    else:\n",
    "        print(f\"No results found for gene: {gene_name}\")\n",
    "else:\n",
    "    print(f\"Failed to fetch data: {response.status_code}\")\n",
    "    print(response.text)\n"
   ]
  },
  {
   "cell_type": "markdown",
   "metadata": {},
   "source": [
    "## gene endpoint"
   ]
  },
  {
   "cell_type": "code",
   "execution_count": null,
   "metadata": {},
   "outputs": [],
   "source": [
    "\"\"\"\n",
    "Fetch scores across all screens for a single gene\n",
    "using customizable filtering options\n",
    "\"\"\"\n",
    "\n",
    "gene_id = 7023\n",
    "request_url = BG_ORCS_BASE_URL + \"/gene/\" + str(gene_id)\n",
    "\n",
    "params = {\n",
    "    \"accesskey\": BG_ORCS_ACCESS_KEY,\n",
    "    \"format\": \"json\",\n",
    "    \"hit\": \"yes\"\n",
    "}\n",
    "\n",
    "r = requests.get( request_url, params = params )\n",
    "scores = r.json( )\n",
    "\n",
    "data = {}\n",
    "for row in scores :\n",
    "    # Create a hash of results by gene identifier\n",
    "    data[row['SCREEN_ID']] = row\n",
    "\n",
    "# Print out data about the gene from several specific screens\n",
    "pprint( data['549'] )\n",
    "pprint( data['170'] )\n",
    "pprint( data['197'] )"
   ]
  },
  {
   "cell_type": "markdown",
   "metadata": {},
   "source": [
    "## File: get_screens.py"
   ]
  },
  {
   "cell_type": "code",
   "execution_count": null,
   "metadata": {},
   "outputs": [],
   "source": [
    "\"\"\"\n",
    "Fetch screen annotation with customizable search criteria\n",
    "that can be tailored to match your own requirements\n",
    "\"\"\"\n",
    "\n",
    "request_url = BG_ORCS_BASE_URL + \"/screens/\"\n",
    "\n",
    "# library methodology of \"knockout\"\n",
    "params = {\n",
    "    \"accesskey\": BG_ORCS_ACCESS_KEY,\n",
    "    \"cellLine\": \"hela\",\n",
    "    \"libraryMethodology\": \"knockout\",\n",
    "    \"format\": \"json\"\n",
    "}\n",
    "\n",
    "r = requests.get( request_url, params = params )\n",
    "screens = r.json( )\n",
    "\n",
    "for screen in screens :\n",
    "    pprint( screen )"
   ]
  },
  {
   "cell_type": "code",
   "execution_count": null,
   "metadata": {},
   "outputs": [],
   "source": [
    "\"\"\"\n",
    "Fetch screen annotation with customizable search criteria\n",
    "that can be tailored to match your own requirements\n",
    "\"\"\"\n",
    "\n",
    "request_url = BG_ORCS_BASE_URL + \"/screens/\"\n",
    "params = {\n",
    "    \"accesskey\": BG_ORCS_ACCESS_KEY,\n",
    "    \"experimentalSetup\": \"Synthetic Lethal\",\n",
    "    \"name\": gene_name,  # Search by official gene symbol\n",
    "    \"organismID\": \"9606\",  # Search for human genes    \n",
    "    \"format\": \"json\",\n",
    "}\n",
    "\n",
    "r = requests.get( request_url, params = params )\n",
    "screens = r.json( )\n",
    "\n",
    "## pprint the number of screens\n",
    "print( len(screens) )\n",
    "\n",
    "for screen in screens :\n",
    "    pprint( screen )"
   ]
  },
  {
   "cell_type": "markdown",
   "metadata": {},
   "source": [
    "## File: get_screen_json.py"
   ]
  },
  {
   "cell_type": "code",
   "execution_count": null,
   "metadata": {},
   "outputs": [],
   "source": [
    "\"\"\"\n",
    "Fetch screen scores with customizable search criteria\n",
    "that can be tailored to match your own requirements\n",
    "in json format\n",
    "\"\"\"\n",
    "\n",
    "screen_id = 178\n",
    "request_url = BG_ORCS_BASE_URL + \"/screen/\" + str(screen_id)\n",
    "params = {\n",
    "    \"accesskey\": BG_ORCS_ACCESS_KEY,\n",
    "    \"format\": \"json\",\n",
    "    \"score1min\": 0.9,\n",
    "    \"score1max\": 0.98\n",
    "}\n",
    "\n",
    "r = requests.get( request_url, params = params )\n",
    "screen = r.json( )\n",
    "\n",
    "data = {}\n",
    "for row in screen :\n",
    "    # Create a hash of results by gene identifier\n",
    "    data[row['IDENTIFIER_ID']] = row\n",
    "\n",
    "# Print out data about the genes BRIX1, ASB4, and NOB1\n",
    "pprint( data['55299'] )\n",
    "pprint( data['51666'] )\n",
    "pprint( data['28987'] )"
   ]
  },
  {
   "cell_type": "markdown",
   "metadata": {},
   "source": [
    "## File: get_screen_pandas.py"
   ]
  },
  {
   "cell_type": "code",
   "execution_count": 13,
   "metadata": {},
   "outputs": [],
   "source": [
    "\"\"\"\n",
    "Fetch screen scores in json format, and load the results\n",
    "into a pandas dataframe. Pandas is a convenient library for\n",
    "loading tabular datasets and provides the ability to perform\n",
    "subsequent queries on the loaded dataframe after tbe fact.\n",
    "\"\"\"\n",
    "\n",
    "import pandas as pd\n",
    "\n",
    "screen_id = 205\n",
    "request_url = BG_ORCS_BASE_URL + \"/screen/\" + str(screen_id)\n",
    "params = {\n",
    "    \"accesskey\": BG_ORCS_ACCESS_KEY,\n",
    "    \"format\": \"json\"\n",
    "}\n",
    "\n",
    "r = requests.get( request_url, params = params )\n",
    "screen = r.json( )\n",
    "\n",
    "data = {}\n",
    "for row in screen :\n",
    "    # create a hash of results by gene identifier\n",
    "    data[row['IDENTIFIER_ID']] = row\n",
    "\n",
    "# Load dataset into pandas dataframe\n",
    "dataset = pd.DataFrame.from_dict( data, orient='index' )"
   ]
  },
  {
   "cell_type": "code",
   "execution_count": 14,
   "metadata": {},
   "outputs": [],
   "source": [
    "# Re-order the columns to remove the un-needed columns\n",
    "columns = ['IDENTIFIER_TYPE', 'OFFICIAL_SYMBOL', 'ALIASES', 'ORGANISM_ID', 'ORGANISM_OFFICIAL', 'SCORE.1', 'SCORE.2', 'HIT', 'SOURCE']\n",
    "dataset = dataset[columns]"
   ]
  },
  {
   "cell_type": "code",
   "execution_count": null,
   "metadata": {},
   "outputs": [],
   "source": [
    "dataset.head()"
   ]
  },
  {
   "cell_type": "code",
   "execution_count": 16,
   "metadata": {},
   "outputs": [],
   "source": [
    "# Convert numeric columns into floats\n",
    "dataset[['SCORE.1','SCORE.2']] = dataset[['SCORE.1','SCORE.2']].apply( pd.to_numeric )"
   ]
  },
  {
   "cell_type": "code",
   "execution_count": null,
   "metadata": {},
   "outputs": [],
   "source": [
    "dataset.head()"
   ]
  },
  {
   "cell_type": "code",
   "execution_count": null,
   "metadata": {},
   "outputs": [],
   "source": [
    "# Print all rows with SCORE.1 > 1\n",
    "dataset.loc[dataset['SCORE.1'] > 1]"
   ]
  },
  {
   "cell_type": "markdown",
   "metadata": {},
   "source": [
    "## File: get_genes_and_screens.py"
   ]
  },
  {
   "cell_type": "code",
   "execution_count": null,
   "metadata": {},
   "outputs": [],
   "source": [
    "\"\"\"\n",
    "Fetch genes with customizable search criteria\n",
    "that can be tailored to match your own requirements. Then fetch \n",
    "the screen annotation associated with those gene scores.\n",
    "\"\"\"\n",
    "\n",
    "import requests\n",
    "\n",
    "\n",
    "request_url = BG_ORCS_BASE_URL + \"/genes/\"\n",
    "params = {\n",
    "    \"accesskey\": BG_ORCS_ACCESS_KEY,\n",
    "    \"name\": \"DPF2|SULT1E1|UBQLN4\",\n",
    "    \"organismID\": \"9606\",\n",
    "    \"hit\": \"yes\",\n",
    "    \"format\": \"json\"\n",
    "}\n",
    "\n",
    "r = requests.get( request_url, params = params )\n",
    "scores = r.json( )\n",
    "pprint( \"Number of Scores Found: \" + str(len(scores)) )\n",
    "\n",
    "# Step through all the scores and build a unique set of screens\n",
    "# as well as build a two dimentional structure for storing results\n",
    "# where the identifier ID is the outer level and the screen ID is the\n",
    "# inner level. This will allow us to lookup genes and then screens for that\n",
    "# gene later on.\n",
    "screen_ids = set( )\n",
    "genes = {}\n",
    "for score in scores :\n",
    "    screen_ids.add( score['SCREEN_ID'] )\n",
    "    \n",
    "    if score['IDENTIFIER_ID'] not in genes :\n",
    "        genes[score['IDENTIFIER_ID']] = {}\n",
    "\n",
    "    genes[score['IDENTIFIER_ID']][score['SCREEN_ID']] = score\n",
    "\n",
    "pprint( \"Number of Unique Screen IDs Found: \" + str(len(screen_ids)) )\n",
    "pprint( \"Number of Genes Found: \" + str(len(genes)) )"
   ]
  },
  {
   "cell_type": "code",
   "execution_count": null,
   "metadata": {},
   "outputs": [],
   "source": [
    "# Make a new request for annotation about all the new screens\n",
    "\n",
    "request_url = BG_ORCS_BASE_URL + \"/screens/\"\n",
    "params = {\n",
    "    \"accesskey\": BG_ORCS_ACCESS_KEY,\n",
    "    \"screenID\": \"|\".join( screen_ids ),\n",
    "    \"format\": \"json\"\n",
    "}\n",
    "\n",
    "r = requests.get( request_url, params = params )\n",
    "screens = r.json( )\n",
    "pprint( \"Number of Screen Details Retrieved: \" + str(len(screens)) )"
   ]
  },
  {
   "cell_type": "code",
   "execution_count": null,
   "metadata": {},
   "outputs": [],
   "source": [
    "# Step through each screen and build a nice index of screens by screen_id\n",
    "screen_lookup = {}\n",
    "for screen in screens :\n",
    "    screen_lookup[screen['SCREEN_ID']] = screen\n",
    "\n",
    "# Print out a score and its associated screen annotation\n",
    "# for gene 5977 and screen 201\n",
    "pprint( genes['5977']['201'] )"
   ]
  },
  {
   "cell_type": "code",
   "execution_count": null,
   "metadata": {},
   "outputs": [],
   "source": [
    "pprint( screen_lookup['201'] )"
   ]
  }
 ],
 "metadata": {
  "kernelspec": {
   "display_name": ".venv",
   "language": "python",
   "name": "python3"
  },
  "language_info": {
   "codemirror_mode": {
    "name": "ipython",
    "version": 3
   },
   "file_extension": ".py",
   "mimetype": "text/x-python",
   "name": "python",
   "nbconvert_exporter": "python",
   "pygments_lexer": "ipython3",
   "version": "3.11.8"
  }
 },
 "nbformat": 4,
 "nbformat_minor": 2
}
