{
 "cells": [
  {
   "cell_type": "markdown",
   "metadata": {},
   "source": [
    "# Using BioGRID to search for synthetically lethal partners"
   ]
  },
  {
   "cell_type": "markdown",
   "metadata": {},
   "source": [
    "## Table of Contents**\n",
    "\n",
    "1. **Setup and Configuration**\n",
    "2. **Helper Functions**\n",
    "3. **API Query Class**\n",
    "4. **Data Validation with Great Expectations**\n",
    "5. **Data Processing and Visualization**\n",
    "6. **Network Analysis**\n",
    "7. **Main Workflow**\n",
    "8. **Automated Monitoring and Reporting**"
   ]
  },
  {
   "cell_type": "markdown",
   "metadata": {},
   "source": [
    "### **1. Setup and Configuration**\n",
    "\n",
    "- Set up the environment, load API keys, and define project directories.\n",
    "- Set up great-expectations version 1.3.2"
   ]
  },
  {
   "cell_type": "code",
   "execution_count": 1,
   "metadata": {},
   "outputs": [
    {
     "name": "stdout",
     "output_type": "stream",
     "text": [
      "\n",
      "\u001b[1m[\u001b[0m\u001b[34;49mnotice\u001b[0m\u001b[1;39;49m]\u001b[0m\u001b[39;49m A new release of pip is available: \u001b[0m\u001b[31;49m24.0\u001b[0m\u001b[39;49m -> \u001b[0m\u001b[32;49m24.3.1\u001b[0m\n",
      "\u001b[1m[\u001b[0m\u001b[34;49mnotice\u001b[0m\u001b[1;39;49m]\u001b[0m\u001b[39;49m To update, run: \u001b[0m\u001b[32;49mpip install --upgrade pip\u001b[0m\n",
      "Note: you may need to restart the kernel to use updated packages.\n"
     ]
    }
   ],
   "source": [
    "%pip install -q great_expectations pandas numpy matplotlib seaborn networkx requests python-dotenv"
   ]
  },
  {
   "cell_type": "code",
   "execution_count": 2,
   "metadata": {},
   "outputs": [
    {
     "name": "stdout",
     "output_type": "stream",
     "text": [
      "{\n",
      "  \"checkpoint_store_name\": \"checkpoint_store\",\n",
      "  \"config_variables_file_path\": \"uncommitted/config_variables.yml\",\n",
      "  \"config_version\": 4.0,\n",
      "  \"data_context_id\": \"25af5c38-40b5-46ea-840a-f98673ad5857\",\n",
      "  \"data_docs_sites\": {\n",
      "    \"local_site\": {\n",
      "      \"class_name\": \"SiteBuilder\",\n",
      "      \"show_how_to_buttons\": true,\n",
      "      \"store_backend\": {\n",
      "        \"class_name\": \"TupleFilesystemStoreBackend\",\n",
      "        \"base_directory\": \"uncommitted/data_docs/local_site/\"\n",
      "      },\n",
      "      \"site_index_builder\": {\n",
      "        \"class_name\": \"DefaultSiteIndexBuilder\"\n",
      "      }\n",
      "    }\n",
      "  },\n",
      "  \"expectations_store_name\": \"expectations_store\",\n",
      "  \"fluent_datasources\": {},\n",
      "  \"plugins_directory\": \"plugins/\",\n",
      "  \"stores\": {\n",
      "    \"expectations_store\": {\n",
      "      \"class_name\": \"ExpectationsStore\",\n",
      "      \"store_backend\": {\n",
      "        \"class_name\": \"TupleFilesystemStoreBackend\",\n",
      "        \"base_directory\": \"expectations/\"\n",
      "      }\n",
      "    },\n",
      "    \"validation_results_store\": {\n",
      "      \"class_name\": \"ValidationResultsStore\",\n",
      "      \"store_backend\": {\n",
      "        \"class_name\": \"TupleFilesystemStoreBackend\",\n",
      "        \"base_directory\": \"uncommitted/validations/\"\n",
      "      }\n",
      "    },\n",
      "    \"checkpoint_store\": {\n",
      "      \"class_name\": \"CheckpointStore\",\n",
      "      \"store_backend\": {\n",
      "        \"class_name\": \"TupleFilesystemStoreBackend\",\n",
      "        \"suppress_store_backend_id\": true,\n",
      "        \"base_directory\": \"checkpoints/\"\n",
      "      }\n",
      "    },\n",
      "    \"validation_definition_store\": {\n",
      "      \"class_name\": \"ValidationDefinitionStore\",\n",
      "      \"store_backend\": {\n",
      "        \"class_name\": \"TupleFilesystemStoreBackend\",\n",
      "        \"base_directory\": \"validation_definitions/\"\n",
      "      }\n",
      "    }\n",
      "  },\n",
      "  \"validation_results_store_name\": \"validation_results_store\"\n",
      "}\n"
     ]
    }
   ],
   "source": [
    "# Import great_expectations and request a Data Context.\n",
    "import great_expectations as gx\n",
    "\n",
    "#context = gx.get_context(mode=\"file\")\n",
    "\n",
    "# Optional. Request a File Data Context from a specific folder.\n",
    "context = gx.get_context(mode=\"file\", project_root_dir=\"./low_expectations\")\n",
    "\n",
    "# Optional. Review the configuration of the returned File Data Context.\n",
    "print(context)"
   ]
  },
  {
   "cell_type": "code",
   "execution_count": 3,
   "metadata": {},
   "outputs": [
    {
     "name": "stdout",
     "output_type": "stream",
     "text": [
      "1.3.2\n"
     ]
    }
   ],
   "source": [
    "print(gx.__version__)"
   ]
  },
  {
   "cell_type": "code",
   "execution_count": 4,
   "metadata": {},
   "outputs": [],
   "source": [
    "import os\n",
    "from pathlib import Path\n",
    "from dotenv import load_dotenv\n",
    "import requests\n",
    "\n",
    "# Load environment variables from .env file\n",
    "load_dotenv()\n",
    "BG_INT_ACCESS_KEY = os.getenv(\"BG_INT_ACCESS_KEY\")\n",
    "BG_INT_BASE_URL = os.getenv(\"BG_INT_BASE_URL\")\n",
    "\n",
    "if not BG_INT_ACCESS_KEY or not BG_INT_BASE_URL:\n",
    "    raise ValueError(\"BG_INT_ACCESS_KEY or BG_INT_BASE_URL is missing from the .env file.\")\n",
    "\n",
    "# Define interim directory\n",
    "INTERIM_DIR = Path(\"../data/interim\")\n",
    "INTERIM_DIR.mkdir(parents=True, exist_ok=True)"
   ]
  },
  {
   "cell_type": "markdown",
   "metadata": {},
   "source": [
    "### **2. Helper Functions**\n",
    "\n",
    "Utility functions for validating API responses, transforming JSON to DataFrame, and performing exploratory data analysis (EDA)."
   ]
  },
  {
   "cell_type": "code",
   "execution_count": 5,
   "metadata": {},
   "outputs": [],
   "source": [
    "import pandas as pd\n",
    "import seaborn as sns\n",
    "import matplotlib.pyplot as plt\n",
    "\n",
    "def validate_biogrid_response(response):\n",
    "    \"\"\"Validate the structure of the BioGRID API response.\"\"\"\n",
    "    if not isinstance(response, dict):\n",
    "        raise ValueError(\"Response is not a dictionary of records.\")\n",
    "\n",
    "    required_keys = ['BIOGRID_INTERACTION_ID', 'ENTREZ_GENE_A', 'ENTREZ_GENE_B']\n",
    "    for record_id, record in response.items():\n",
    "        for key in required_keys:\n",
    "            if key not in record:\n",
    "                raise ValueError(f\"Missing required key: {key} in record ID: {record_id}\")\n",
    "\n",
    "def convert_biogrid_json_to_df(json_data):\n",
    "    \"\"\"Convert BioGRID JSON data to a pandas DataFrame.\"\"\"\n",
    "    df = pd.DataFrame.from_dict(json_data, orient=\"index\")  # Use 'index' orientation\n",
    "    df['PUBLICATION_YEAR'] = df['PUBMED_AUTHOR'].str.extract(r'\\((\\d{4})\\)').astype(\"Int64\")\n",
    "    return df\n",
    "\n",
    "def plot_data_distribution(df):\n",
    "    \"\"\"Plot data distribution for publication years.\"\"\"\n",
    "    sns.histplot(df['PUBLICATION_YEAR'].dropna(), kde=True)\n",
    "    plt.title(\"Publication Year Distribution\")\n",
    "    plt.show()"
   ]
  },
  {
   "cell_type": "markdown",
   "metadata": {},
   "source": [
    "### **3. API Query Class**\n",
    "\n",
    "Encapsulate interaction with the BioGRID API."
   ]
  },
  {
   "cell_type": "code",
   "execution_count": 6,
   "metadata": {},
   "outputs": [],
   "source": [
    "import json\n",
    "\n",
    "class BioGRIDQuery:\n",
    "    def __init__(self):\n",
    "        self.access_key = BG_INT_ACCESS_KEY\n",
    "        self.base_url = BG_INT_BASE_URL\n",
    "\n",
    "    def query_interactions(self, **params):\n",
    "        \"\"\"Query the BioGRID API.\"\"\"\n",
    "        response = requests.get(f\"{self.base_url}/interactions/\", params=params)\n",
    "        response.raise_for_status()\n",
    "        return response.json()\n",
    "\n",
    "    def save_response(self, data, file_name):\n",
    "        \"\"\"Save API response to a file.\"\"\"\n",
    "        file_path = INTERIM_DIR / file_name\n",
    "        with open(file_path, \"w\") as f:\n",
    "            json.dump(data, f, indent=4)"
   ]
  },
  {
   "cell_type": "markdown",
   "metadata": {},
   "source": [
    "### **4. Data Validation with Great Expectations**\n",
    "\n",
    "Integrate GE to ensure data quality at critical stages."
   ]
  },
  {
   "cell_type": "code",
   "execution_count": 9,
   "metadata": {},
   "outputs": [],
   "source": [
    "import great_expectations as gx\n",
    "from great_expectations.core.batch import Batch\n",
    "from great_expectations.validator.validator import Validator\n",
    "from great_expectations.execution_engine.pandas_execution_engine import PandasExecutionEngine\n",
    "\n",
    "def validate_biogrid_data(df):\n",
    "    \"\"\"Use Great Expectations to validate BioGRID data.\"\"\"\n",
    "\n",
    "    # Create a Batch from the DataFrame\n",
    "    batch = Batch(data=df)\n",
    "\n",
    "    # Initialize a PandasExecutionEngine\n",
    "    execution_engine = PandasExecutionEngine()\n",
    "\n",
    "    # Create a Validator\n",
    "    validator = Validator(execution_engine=execution_engine, batches=[batch])\n",
    "\n",
    "    # Define Expectations\n",
    "    validator.expect_column_values_to_not_be_null(\"OFFICIAL_SYMBOL_A\")\n",
    "    validator.expect_column_values_to_not_be_null(\"OFFICIAL_SYMBOL_B\")\n",
    "    validator.expect_column_values_to_be_unique(\"BIOGRID_INTERACTION_ID\")\n",
    "    validator.expect_column_values_to_be_between(\"PUBLICATION_YEAR\", min_value=1900, max_value=2025)\n",
    "\n",
    "    # Validate the dataset and print results\n",
    "    validation_results = validator.validate()\n",
    "    print(validation_results)\n",
    "\n",
    "    if not validation_results[\"success\"]:\n",
    "        raise ValueError(\"Data validation failed. Check expectations.\")"
   ]
  },
  {
   "cell_type": "markdown",
   "metadata": {},
   "source": [
    "### **5. Data Processing and Visualization**\n",
    "\n",
    "Transform validated data into a clean DataFrame and visualize its properties."
   ]
  },
  {
   "cell_type": "code",
   "execution_count": 10,
   "metadata": {},
   "outputs": [],
   "source": [
    "def process_and_visualize_data(json_data):\n",
    "    df = convert_biogrid_json_to_df(json_data)\n",
    "    validate_biogrid_data(df)  # Validate the data with Great Expectations\n",
    "    plot_data_distribution(df)\n",
    "    return df"
   ]
  },
  {
   "cell_type": "markdown",
   "metadata": {},
   "source": [
    "### **6. Network Analysis**\n",
    "\n",
    "Create and analyze a graph representation of the data using NetworkX."
   ]
  },
  {
   "cell_type": "code",
   "execution_count": 11,
   "metadata": {},
   "outputs": [],
   "source": [
    "import networkx as nx\n",
    "\n",
    "def create_networkx_graph(df):\n",
    "    \"\"\"Create a NetworkX graph from the DataFrame.\"\"\"\n",
    "    G = nx.Graph()\n",
    "    for _, row in df.iterrows():\n",
    "        G.add_node(row[\"OFFICIAL_SYMBOL_A\"], entrez_id=row[\"ENTREZ_GENE_A\"])\n",
    "        G.add_node(row[\"OFFICIAL_SYMBOL_B\"], entrez_id=row[\"ENTREZ_GENE_B\"])\n",
    "        G.add_edge(row[\"OFFICIAL_SYMBOL_A\"], row[\"OFFICIAL_SYMBOL_B\"])\n",
    "    return G\n",
    "\n",
    "def analyze_networkx_graph(G):\n",
    "    \"\"\"Analyze and visualize the NetworkX graph.\"\"\"\n",
    "    print(f\"Nodes: {G.number_of_nodes()}, Edges: {G.number_of_edges()}\")\n",
    "    sns.histplot(dict(G.degree()).values(), kde=True)\n",
    "    plt.title(\"Degree Distribution\")\n",
    "    plt.show()\n",
    "\n",
    "def create_networkx_graph_with_validation(df):\n",
    "    validate_biogrid_data(df)  # Revalidate before graph creation\n",
    "    G = nx.Graph()\n",
    "    for _, row in df.iterrows():\n",
    "        G.add_node(row[\"OFFICIAL_SYMBOL_A\"], entrez_id=row[\"ENTREZ_GENE_A\"])\n",
    "        G.add_node(row[\"OFFICIAL_SYMBOL_B\"], entrez_id=row[\"ENTREZ_GENE_B\"])\n",
    "        G.add_edge(row[\"OFFICIAL_SYMBOL_A\"], row[\"OFFICIAL_SYMBOL_B\"])\n",
    "    return G"
   ]
  },
  {
   "cell_type": "markdown",
   "metadata": {},
   "source": [
    "### **7. Main Workflow**\n",
    "\n",
    "Combine all components into a cohesive pipeline."
   ]
  },
  {
   "cell_type": "code",
   "execution_count": 12,
   "metadata": {},
   "outputs": [],
   "source": [
    "import json\n",
    "\n",
    "# Initialize the API query class\n",
    "biogrid_query = BioGRIDQuery()\n",
    "\n",
    "# Query BioGRID API for interactions\n",
    "pubmed_article = \"35559673\"\n",
    "evidence_list = \"synthetic lethality|negative genetic\"\n",
    "params = {\n",
    "    \"taxId\": \"9606\",\n",
    "    \"pubmedList\": pubmed_article,\n",
    "    \"includeInteractors\": \"true\",\n",
    "    \"evidenceList\": evidence_list,\n",
    "    \"includeEvidence\": \"true\",\n",
    "    \"format\": \"json\",\n",
    "    \"accesskey\": biogrid_query.access_key\n",
    "}\n",
    "response = biogrid_query.query_interactions(**params)\n",
    "biogrid_query.save_response(response, f\"pmid_{pubmed_article}_interactions.json\")"
   ]
  },
  {
   "cell_type": "code",
   "execution_count": 13,
   "metadata": {},
   "outputs": [
    {
     "name": "stderr",
     "output_type": "stream",
     "text": [
      "/home/donbr/kgmgmt/kg_rememberall/.venv/lib/python3.11/site-packages/great_expectations/expectations/expectation.py:1453: UserWarning: `result_format` configured at the Validator-level will not be persisted. Please add the configuration to your Checkpoint config or checkpoint_run() method instead.\n",
      "  warnings.warn(\n"
     ]
    },
    {
     "data": {
      "application/vnd.jupyter.widget-view+json": {
       "model_id": "2981141f6b8a4e168f023b73f60a64dc",
       "version_major": 2,
       "version_minor": 0
      },
      "text/plain": [
       "Calculating Metrics:   0%|          | 0/6 [00:00<?, ?it/s]"
      ]
     },
     "metadata": {},
     "output_type": "display_data"
    },
    {
     "name": "stderr",
     "output_type": "stream",
     "text": [
      "/home/donbr/kgmgmt/kg_rememberall/.venv/lib/python3.11/site-packages/great_expectations/expectations/expectation.py:1453: UserWarning: `result_format` configured at the Validator-level will not be persisted. Please add the configuration to your Checkpoint config or checkpoint_run() method instead.\n",
      "  warnings.warn(\n"
     ]
    },
    {
     "data": {
      "application/vnd.jupyter.widget-view+json": {
       "model_id": "8b155eea0a51478f8cccc648a40d5e46",
       "version_major": 2,
       "version_minor": 0
      },
      "text/plain": [
       "Calculating Metrics:   0%|          | 0/6 [00:00<?, ?it/s]"
      ]
     },
     "metadata": {},
     "output_type": "display_data"
    },
    {
     "name": "stderr",
     "output_type": "stream",
     "text": [
      "/home/donbr/kgmgmt/kg_rememberall/.venv/lib/python3.11/site-packages/great_expectations/expectations/expectation.py:1453: UserWarning: `result_format` configured at the Validator-level will not be persisted. Please add the configuration to your Checkpoint config or checkpoint_run() method instead.\n",
      "  warnings.warn(\n"
     ]
    },
    {
     "data": {
      "application/vnd.jupyter.widget-view+json": {
       "model_id": "5acec65ab7ed4ac3a35bf23ab470ff57",
       "version_major": 2,
       "version_minor": 0
      },
      "text/plain": [
       "Calculating Metrics:   0%|          | 0/8 [00:00<?, ?it/s]"
      ]
     },
     "metadata": {},
     "output_type": "display_data"
    },
    {
     "name": "stderr",
     "output_type": "stream",
     "text": [
      "/home/donbr/kgmgmt/kg_rememberall/.venv/lib/python3.11/site-packages/great_expectations/expectations/expectation.py:1453: UserWarning: `result_format` configured at the Validator-level will not be persisted. Please add the configuration to your Checkpoint config or checkpoint_run() method instead.\n",
      "  warnings.warn(\n"
     ]
    },
    {
     "data": {
      "application/vnd.jupyter.widget-view+json": {
       "model_id": "786a9b15d99448fd8226e23320732967",
       "version_major": 2,
       "version_minor": 0
      },
      "text/plain": [
       "Calculating Metrics:   0%|          | 0/8 [00:00<?, ?it/s]"
      ]
     },
     "metadata": {},
     "output_type": "display_data"
    },
    {
     "data": {
      "application/vnd.jupyter.widget-view+json": {
       "model_id": "1e5fe42935e448ed8624900425c406a4",
       "version_major": 2,
       "version_minor": 0
      },
      "text/plain": [
       "Calculating Metrics:   0%|          | 0/19 [00:00<?, ?it/s]"
      ]
     },
     "metadata": {},
     "output_type": "display_data"
    },
    {
     "name": "stdout",
     "output_type": "stream",
     "text": [
      "{\n",
      "  \"success\": true,\n",
      "  \"results\": [\n",
      "    {\n",
      "      \"success\": true,\n",
      "      \"expectation_config\": {\n",
      "        \"type\": \"expect_column_values_to_not_be_null\",\n",
      "        \"kwargs\": {\n",
      "          \"column\": \"OFFICIAL_SYMBOL_A\"\n",
      "        },\n",
      "        \"meta\": {}\n",
      "      },\n",
      "      \"result\": {\n",
      "        \"element_count\": 475,\n",
      "        \"unexpected_count\": 0,\n",
      "        \"unexpected_percent\": 0.0,\n",
      "        \"partial_unexpected_list\": []\n",
      "      },\n",
      "      \"meta\": {},\n",
      "      \"exception_info\": {\n",
      "        \"raised_exception\": false,\n",
      "        \"exception_traceback\": null,\n",
      "        \"exception_message\": null\n",
      "      }\n",
      "    },\n",
      "    {\n",
      "      \"success\": true,\n",
      "      \"expectation_config\": {\n",
      "        \"type\": \"expect_column_values_to_not_be_null\",\n",
      "        \"kwargs\": {\n",
      "          \"column\": \"OFFICIAL_SYMBOL_B\"\n",
      "        },\n",
      "        \"meta\": {}\n",
      "      },\n",
      "      \"result\": {\n",
      "        \"element_count\": 475,\n",
      "        \"unexpected_count\": 0,\n",
      "        \"unexpected_percent\": 0.0,\n",
      "        \"partial_unexpected_list\": []\n",
      "      },\n",
      "      \"meta\": {},\n",
      "      \"exception_info\": {\n",
      "        \"raised_exception\": false,\n",
      "        \"exception_traceback\": null,\n",
      "        \"exception_message\": null\n",
      "      }\n",
      "    },\n",
      "    {\n",
      "      \"success\": true,\n",
      "      \"expectation_config\": {\n",
      "        \"type\": \"expect_column_values_to_be_unique\",\n",
      "        \"kwargs\": {\n",
      "          \"column\": \"BIOGRID_INTERACTION_ID\"\n",
      "        },\n",
      "        \"meta\": {}\n",
      "      },\n",
      "      \"result\": {\n",
      "        \"element_count\": 475,\n",
      "        \"unexpected_count\": 0,\n",
      "        \"unexpected_percent\": 0.0,\n",
      "        \"partial_unexpected_list\": [],\n",
      "        \"missing_count\": 0,\n",
      "        \"missing_percent\": 0.0,\n",
      "        \"unexpected_percent_total\": 0.0,\n",
      "        \"unexpected_percent_nonmissing\": 0.0\n",
      "      },\n",
      "      \"meta\": {},\n",
      "      \"exception_info\": {\n",
      "        \"raised_exception\": false,\n",
      "        \"exception_traceback\": null,\n",
      "        \"exception_message\": null\n",
      "      }\n",
      "    },\n",
      "    {\n",
      "      \"success\": true,\n",
      "      \"expectation_config\": {\n",
      "        \"type\": \"expect_column_values_to_be_between\",\n",
      "        \"kwargs\": {\n",
      "          \"column\": \"PUBLICATION_YEAR\",\n",
      "          \"min_value\": 1900.0,\n",
      "          \"max_value\": 2025.0\n",
      "        },\n",
      "        \"meta\": {}\n",
      "      },\n",
      "      \"result\": {\n",
      "        \"element_count\": 475,\n",
      "        \"unexpected_count\": 0,\n",
      "        \"unexpected_percent\": 0.0,\n",
      "        \"partial_unexpected_list\": [],\n",
      "        \"missing_count\": 0,\n",
      "        \"missing_percent\": 0.0,\n",
      "        \"unexpected_percent_total\": 0.0,\n",
      "        \"unexpected_percent_nonmissing\": 0.0\n",
      "      },\n",
      "      \"meta\": {},\n",
      "      \"exception_info\": {\n",
      "        \"raised_exception\": false,\n",
      "        \"exception_traceback\": null,\n",
      "        \"exception_message\": null\n",
      "      }\n",
      "    }\n",
      "  ],\n",
      "  \"suite_name\": \"default\",\n",
      "  \"suite_parameters\": {},\n",
      "  \"statistics\": {\n",
      "    \"evaluated_expectations\": 4,\n",
      "    \"successful_expectations\": 4,\n",
      "    \"unsuccessful_expectations\": 0,\n",
      "    \"success_percent\": 100.0\n",
      "  },\n",
      "  \"meta\": {\n",
      "    \"great_expectations_version\": \"1.3.2\",\n",
      "    \"expectation_suite_name\": \"default\",\n",
      "    \"run_id\": {\n",
      "      \"run_name\": null,\n",
      "      \"run_time\": \"2025-01-21T02:01:57.221622-08:00\"\n",
      "    },\n",
      "    \"batch_spec\": {},\n",
      "    \"batch_markers\": {\n",
      "      \"ge_load_time\": \"20250121T100157.097846Z\"\n",
      "    },\n",
      "    \"active_batch_definition\": {},\n",
      "    \"validation_time\": \"20250121T100157.221496Z\",\n",
      "    \"checkpoint_name\": null\n",
      "  },\n",
      "  \"id\": null\n",
      "}\n"
     ]
    },
    {
     "data": {
      "image/png": "[encoded data removed]",
      "text/plain": [
       "<Figure size 640x480 with 1 Axes>"
      ]
     },
     "metadata": {},
     "output_type": "display_data"
    },
    {
     "data": {
      "image/png": "[encoded data removed]",
      "text/plain": [
       "<Figure size 640x480 with 1 Axes>"
      ]
     },
     "metadata": {},
     "output_type": "display_data"
    },
    {
     "name": "stderr",
     "output_type": "stream",
     "text": [
      "/home/donbr/kgmgmt/kg_rememberall/.venv/lib/python3.11/site-packages/great_expectations/expectations/expectation.py:1453: UserWarning: `result_format` configured at the Validator-level will not be persisted. Please add the configuration to your Checkpoint config or checkpoint_run() method instead.\n",
      "  warnings.warn(\n"
     ]
    },
    {
     "data": {
      "application/vnd.jupyter.widget-view+json": {
       "model_id": "4a44150dbe104650bfda74dfae011382",
       "version_major": 2,
       "version_minor": 0
      },
      "text/plain": [
       "Calculating Metrics:   0%|          | 0/6 [00:00<?, ?it/s]"
      ]
     },
     "metadata": {},
     "output_type": "display_data"
    },
    {
     "name": "stderr",
     "output_type": "stream",
     "text": [
      "/home/donbr/kgmgmt/kg_rememberall/.venv/lib/python3.11/site-packages/great_expectations/expectations/expectation.py:1453: UserWarning: `result_format` configured at the Validator-level will not be persisted. Please add the configuration to your Checkpoint config or checkpoint_run() method instead.\n",
      "  warnings.warn(\n"
     ]
    },
    {
     "data": {
      "application/vnd.jupyter.widget-view+json": {
       "model_id": "49a984fd8fcf401ab3d0e8103b63cbee",
       "version_major": 2,
       "version_minor": 0
      },
      "text/plain": [
       "Calculating Metrics:   0%|          | 0/6 [00:00<?, ?it/s]"
      ]
     },
     "metadata": {},
     "output_type": "display_data"
    },
    {
     "name": "stderr",
     "output_type": "stream",
     "text": [
      "/home/donbr/kgmgmt/kg_rememberall/.venv/lib/python3.11/site-packages/great_expectations/expectations/expectation.py:1453: UserWarning: `result_format` configured at the Validator-level will not be persisted. Please add the configuration to your Checkpoint config or checkpoint_run() method instead.\n",
      "  warnings.warn(\n"
     ]
    },
    {
     "data": {
      "application/vnd.jupyter.widget-view+json": {
       "model_id": "0f1287e71fac41669571bf5f0acf01b2",
       "version_major": 2,
       "version_minor": 0
      },
      "text/plain": [
       "Calculating Metrics:   0%|          | 0/8 [00:00<?, ?it/s]"
      ]
     },
     "metadata": {},
     "output_type": "display_data"
    },
    {
     "name": "stderr",
     "output_type": "stream",
     "text": [
      "/home/donbr/kgmgmt/kg_rememberall/.venv/lib/python3.11/site-packages/great_expectations/expectations/expectation.py:1453: UserWarning: `result_format` configured at the Validator-level will not be persisted. Please add the configuration to your Checkpoint config or checkpoint_run() method instead.\n",
      "  warnings.warn(\n"
     ]
    },
    {
     "data": {
      "application/vnd.jupyter.widget-view+json": {
       "model_id": "20a95ebcf0834a9d9d80894f818d4214",
       "version_major": 2,
       "version_minor": 0
      },
      "text/plain": [
       "Calculating Metrics:   0%|          | 0/8 [00:00<?, ?it/s]"
      ]
     },
     "metadata": {},
     "output_type": "display_data"
    },
    {
     "data": {
      "application/vnd.jupyter.widget-view+json": {
       "model_id": "a74d58b672b44bd19978f0aec47c171e",
       "version_major": 2,
       "version_minor": 0
      },
      "text/plain": [
       "Calculating Metrics:   0%|          | 0/19 [00:00<?, ?it/s]"
      ]
     },
     "metadata": {},
     "output_type": "display_data"
    },
    {
     "name": "stdout",
     "output_type": "stream",
     "text": [
      "{\n",
      "  \"success\": true,\n",
      "  \"results\": [\n",
      "    {\n",
      "      \"success\": true,\n",
      "      \"expectation_config\": {\n",
      "        \"type\": \"expect_column_values_to_not_be_null\",\n",
      "        \"kwargs\": {\n",
      "          \"column\": \"OFFICIAL_SYMBOL_A\"\n",
      "        },\n",
      "        \"meta\": {}\n",
      "      },\n",
      "      \"result\": {\n",
      "        \"element_count\": 475,\n",
      "        \"unexpected_count\": 0,\n",
      "        \"unexpected_percent\": 0.0,\n",
      "        \"partial_unexpected_list\": []\n",
      "      },\n",
      "      \"meta\": {},\n",
      "      \"exception_info\": {\n",
      "        \"raised_exception\": false,\n",
      "        \"exception_traceback\": null,\n",
      "        \"exception_message\": null\n",
      "      }\n",
      "    },\n",
      "    {\n",
      "      \"success\": true,\n",
      "      \"expectation_config\": {\n",
      "        \"type\": \"expect_column_values_to_not_be_null\",\n",
      "        \"kwargs\": {\n",
      "          \"column\": \"OFFICIAL_SYMBOL_B\"\n",
      "        },\n",
      "        \"meta\": {}\n",
      "      },\n",
      "      \"result\": {\n",
      "        \"element_count\": 475,\n",
      "        \"unexpected_count\": 0,\n",
      "        \"unexpected_percent\": 0.0,\n",
      "        \"partial_unexpected_list\": []\n",
      "      },\n",
      "      \"meta\": {},\n",
      "      \"exception_info\": {\n",
      "        \"raised_exception\": false,\n",
      "        \"exception_traceback\": null,\n",
      "        \"exception_message\": null\n",
      "      }\n",
      "    },\n",
      "    {\n",
      "      \"success\": true,\n",
      "      \"expectation_config\": {\n",
      "        \"type\": \"expect_column_values_to_be_unique\",\n",
      "        \"kwargs\": {\n",
      "          \"column\": \"BIOGRID_INTERACTION_ID\"\n",
      "        },\n",
      "        \"meta\": {}\n",
      "      },\n",
      "      \"result\": {\n",
      "        \"element_count\": 475,\n",
      "        \"unexpected_count\": 0,\n",
      "        \"unexpected_percent\": 0.0,\n",
      "        \"partial_unexpected_list\": [],\n",
      "        \"missing_count\": 0,\n",
      "        \"missing_percent\": 0.0,\n",
      "        \"unexpected_percent_total\": 0.0,\n",
      "        \"unexpected_percent_nonmissing\": 0.0\n",
      "      },\n",
      "      \"meta\": {},\n",
      "      \"exception_info\": {\n",
      "        \"raised_exception\": false,\n",
      "        \"exception_traceback\": null,\n",
      "        \"exception_message\": null\n",
      "      }\n",
      "    },\n",
      "    {\n",
      "      \"success\": true,\n",
      "      \"expectation_config\": {\n",
      "        \"type\": \"expect_column_values_to_be_between\",\n",
      "        \"kwargs\": {\n",
      "          \"column\": \"PUBLICATION_YEAR\",\n",
      "          \"min_value\": 1900.0,\n",
      "          \"max_value\": 2025.0\n",
      "        },\n",
      "        \"meta\": {}\n",
      "      },\n",
      "      \"result\": {\n",
      "        \"element_count\": 475,\n",
      "        \"unexpected_count\": 0,\n",
      "        \"unexpected_percent\": 0.0,\n",
      "        \"partial_unexpected_list\": [],\n",
      "        \"missing_count\": 0,\n",
      "        \"missing_percent\": 0.0,\n",
      "        \"unexpected_percent_total\": 0.0,\n",
      "        \"unexpected_percent_nonmissing\": 0.0\n",
      "      },\n",
      "      \"meta\": {},\n",
      "      \"exception_info\": {\n",
      "        \"raised_exception\": false,\n",
      "        \"exception_traceback\": null,\n",
      "        \"exception_message\": null\n",
      "      }\n",
      "    }\n",
      "  ],\n",
      "  \"suite_name\": \"default\",\n",
      "  \"suite_parameters\": {},\n",
      "  \"statistics\": {\n",
      "    \"evaluated_expectations\": 4,\n",
      "    \"successful_expectations\": 4,\n",
      "    \"unsuccessful_expectations\": 0,\n",
      "    \"success_percent\": 100.0\n",
      "  },\n",
      "  \"meta\": {\n",
      "    \"great_expectations_version\": \"1.3.2\",\n",
      "    \"expectation_suite_name\": \"default\",\n",
      "    \"run_id\": {\n",
      "      \"run_name\": null,\n",
      "      \"run_time\": \"2025-01-21T02:01:57.567480-08:00\"\n",
      "    },\n",
      "    \"batch_spec\": {},\n",
      "    \"batch_markers\": {\n",
      "      \"ge_load_time\": \"20250121T100157.466327Z\"\n",
      "    },\n",
      "    \"active_batch_definition\": {},\n",
      "    \"validation_time\": \"20250121T100157.567379Z\",\n",
      "    \"checkpoint_name\": null\n",
      "  },\n",
      "  \"id\": null\n",
      "}\n",
      "Nodes: 359, Edges: 475\n"
     ]
    },
    {
     "data": {
      "image/png": "[encoded data removed]",
      "text/plain": [
       "<Figure size 640x480 with 1 Axes>"
      ]
     },
     "metadata": {},
     "output_type": "display_data"
    }
   ],
   "source": [
    "# Fetch, validate, and process data\n",
    "df = process_and_visualize_data(response)\n",
    "plot_data_distribution(df)  # Optional EDA step\n",
    "\n",
    "# Create and analyze graph\n",
    "G = create_networkx_graph_with_validation(df)\n",
    "analyze_networkx_graph(G)"
   ]
  },
  {
   "cell_type": "markdown",
   "metadata": {},
   "source": [
    "### **8. Automated Monitoring and Reporting**\n",
    "\n",
    "Set up **Great Expectations** for automated monitoring and reporting:\n",
    "- Validate data at each pipeline step using `run_validation_operator()`.\n",
    "- Generate data quality documentation:\n",
    "- Integrate with alerting tools (e.g., Slack, email) for failed validations."
   ]
  },
  {
   "cell_type": "code",
   "execution_count": 15,
   "metadata": {},
   "outputs": [],
   "source": [
    "# Build docs\n",
    "context.build_data_docs()\n",
    "\n",
    "# Optionally, open the docs in your browser\n",
    "context.open_data_docs()"
   ]
  },
  {
   "cell_type": "code",
   "execution_count": 16,
   "metadata": {},
   "outputs": [
    {
     "name": "stdout",
     "output_type": "stream",
     "text": [
      "<class 'pandas.core.frame.DataFrame'>\n",
      "Index: 475 entries, 3410710 to 3411553\n",
      "Data columns (total 25 columns):\n",
      " #   Column                    Non-Null Count  Dtype \n",
      "---  ------                    --------------  ----- \n",
      " 0   BIOGRID_INTERACTION_ID    475 non-null    int64 \n",
      " 1   ENTREZ_GENE_A             475 non-null    object\n",
      " 2   ENTREZ_GENE_B             475 non-null    object\n",
      " 3   BIOGRID_ID_A              475 non-null    int64 \n",
      " 4   BIOGRID_ID_B              475 non-null    int64 \n",
      " 5   SYSTEMATIC_NAME_A         475 non-null    object\n",
      " 6   SYSTEMATIC_NAME_B         475 non-null    object\n",
      " 7   OFFICIAL_SYMBOL_A         475 non-null    object\n",
      " 8   OFFICIAL_SYMBOL_B         475 non-null    object\n",
      " 9   SYNONYMS_A                475 non-null    object\n",
      " 10  SYNONYMS_B                475 non-null    object\n",
      " 11  EXPERIMENTAL_SYSTEM       475 non-null    object\n",
      " 12  EXPERIMENTAL_SYSTEM_TYPE  475 non-null    object\n",
      " 13  PUBMED_AUTHOR             475 non-null    object\n",
      " 14  PUBMED_ID                 475 non-null    int64 \n",
      " 15  ORGANISM_A                475 non-null    int64 \n",
      " 16  ORGANISM_B                475 non-null    int64 \n",
      " 17  THROUGHPUT                475 non-null    object\n",
      " 18  QUANTITATION              475 non-null    object\n",
      " 19  MODIFICATION              475 non-null    object\n",
      " 20  ONTOLOGY_TERMS            475 non-null    object\n",
      " 21  QUALIFICATIONS            475 non-null    object\n",
      " 22  TAGS                      475 non-null    object\n",
      " 23  SOURCEDB                  475 non-null    object\n",
      " 24  PUBLICATION_YEAR          475 non-null    Int64 \n",
      "dtypes: Int64(1), int64(6), object(18)\n",
      "memory usage: 96.9+ KB\n"
     ]
    }
   ],
   "source": [
    "df.info()"
   ]
  },
  {
   "cell_type": "markdown",
   "metadata": {},
   "source": [
    "## Appendix"
   ]
  },
  {
   "cell_type": "markdown",
   "metadata": {},
   "source": [
    "### BioGRID Ineraction Sevice\n",
    "\n",
    "#### Protein, Genetic and Chemical Interactions\n",
    "- Site URL:  https://thebiogrid.org/\n",
    "- API docs:  https://wiki.thebiogrid.org/doku.php/biogridrest\n",
    "- API base url:  https://webservice.thebiogrid.org\n",
    "- API key:  https://webservice.thebiogrid.org"
   ]
  },
  {
   "cell_type": "markdown",
   "metadata": {},
   "source": [
    "### Role of **Great Expectations** in the Workflow\n",
    "\n",
    "- **Validation at Ingestion**: Catches data issues immediately after API calls.\n",
    "- **Consistency in Processing**: Ensures transformations preserve schema and data quality.\n",
    "- **Documentation**: Produces dynamic, shareable reports.\n",
    "- **Monitoring**: Detects and alerts for anomalies in production.\n",
    "\n",
    "This updated workflow ensures **end-to-end data quality management**, enabling reliable integration of BioGRID data into NetworkX."
   ]
  },
  {
   "cell_type": "markdown",
   "metadata": {},
   "source": [
    "### Role of Great Expectations in Data Quality\n",
    "\n",
    "**Great Expectations (GE)** serves as a validation layer in the pipeline, ensuring that:\n",
    "- **Input Data Integrity**: Validates data fetched from the BioGRID API.\n",
    "- **Consistency**: Confirms the expected schema, non-null constraints, and unique identifiers.\n",
    "- **Scalability**: Generates automated data quality reports for stakeholders.\n",
    "- **Production Monitoring**: Detects anomalies and enforces data quality in real-time.\n",
    "\n",
    "By integrating GE, you safeguard the pipeline, ensuring only high-quality data is processed and visualized."
   ]
  },
  {
   "cell_type": "markdown",
   "metadata": {},
   "source": []
  }
 ],
 "metadata": {
  "kernelspec": {
   "display_name": ".venv",
   "language": "python",
   "name": "python3"
  },
  "language_info": {
   "codemirror_mode": {
    "name": "ipython",
    "version": 3
   },
   "file_extension": ".py",
   "mimetype": "text/x-python",
   "name": "python",
   "nbconvert_exporter": "python",
   "pygments_lexer": "ipython3",
   "version": "3.11.8"
  }
 },
 "nbformat": 4,
 "nbformat_minor": 2
}
