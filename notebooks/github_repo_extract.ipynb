{
  "cells": [
    {
      "cell_type": "code",
      "execution_count": 1,
      "metadata": {
        "id": "381A003QLwLl"
      },
      "outputs": [],
      "source": [
        "import os\n",
        "import subprocess\n",
        "import datetime"
      ]
    },
    {
      "cell_type": "code",
      "execution_count": 2,
      "metadata": {
        "id": "m_p4tHBsYuT0"
      },
      "outputs": [],
      "source": [
        "# repo info\n",
        "\n",
        "repo_url = \"https://github.com/huggingface/smolagents\"\n",
        "# repo_url = \"https://github.com/urchade/GLiNER\"\n",
        "repo_name = repo_url.split(\"/\")[-1]"
      ]
    },
    {
      "cell_type": "code",
      "execution_count": 3,
      "metadata": {},
      "outputs": [],
      "source": [
        "# set parameters\n",
        "raw_directory = \"../data/raw\"\n",
        "source_directory = f\"{raw_directory}/{repo_name}\"\n",
        "processed_directory = \"../data/processed\"\n",
        "output_markdown_file = f\"{processed_directory}/{repo_name}-context.md\"\n",
        "#file_extensions = [\"all\"]\n",
        "file_extensions = [\".py\", \".txt\", \".md\", \".ipynb\"]"
      ]
    },
    {
      "cell_type": "code",
      "execution_count": 4,
      "metadata": {
        "id": "ykaIGs4RY3Ma"
      },
      "outputs": [],
      "source": [
        "# set github_token\n",
        "os.environ['GITHUB_TOKEN'] = os.getenv('GITHUB_TOKEN')"
      ]
    },
    {
      "cell_type": "code",
      "execution_count": 5,
      "metadata": {
        "id": "hQa6eQpQL2XG"
      },
      "outputs": [],
      "source": [
        "# Clone required repositories to source_directory\n",
        "if not os.path.exists(source_directory):\n",
        "    print(f\"Cloning {repo_url} to {source_directory}\")\n",
        "    !git clone {repo_url} {source_directory}"
      ]
    },
    {
      "cell_type": "code",
      "execution_count": 6,
      "metadata": {
        "id": "67emIrROK5ss"
      },
      "outputs": [],
      "source": [
        "def convert_and_cleanup_notebooks(directory):\n",
        "    \"\"\"\n",
        "    Convert all `.ipynb` files in a directory (and subdirectories) to `.py` files,\n",
        "    and delete the `.ipynb` files after successful conversion.\n",
        "\n",
        "    Args:\n",
        "        directory (str): Path to the directory to search for `.ipynb` files.\n",
        "    \"\"\"\n",
        "    # Walk through the directory and subdirectories\n",
        "    for root, _, files in os.walk(directory):\n",
        "        for file_name in files:\n",
        "            if file_name.endswith(\".ipynb\"):  # Check for notebook files\n",
        "                file_path = os.path.join(root, file_name)\n",
        "                print(f\"Converting {file_path} to script...\")\n",
        "                try:\n",
        "                    # Run the nbconvert command\n",
        "                    subprocess.run([\"jupyter\", \"nbconvert\", \"--to\", \"script\", file_path], check=True)\n",
        "                    # Remove the original .ipynb file after successful conversion\n",
        "                    os.remove(file_path)\n",
        "                    print(f\"Removed {file_path} after conversion.\")\n",
        "                except subprocess.CalledProcessError as e:\n",
        "                    print(f\"Error converting {file_path}: {e}\")\n",
        "                except OSError as e:\n",
        "                    print(f\"Error deleting {file_path}: {e}\")"
      ]
    },
    {
      "cell_type": "code",
      "execution_count": 7,
      "metadata": {
        "id": "NRKLn49vzVkB"
      },
      "outputs": [],
      "source": [
        "import os\n",
        "from datetime import datetime\n",
        "from collections import defaultdict\n",
        "import mimetypes\n",
        "\n",
        "def get_description(file_path):\n",
        "    \"\"\"\n",
        "    Provide a description based on the file type.\n",
        "    \"\"\"\n",
        "    if file_path.endswith('.py'):\n",
        "        return \"This is a Python script.\"\n",
        "    elif file_path.endswith('.json'):\n",
        "        return \"This JSON file contains structured data.\"\n",
        "    elif file_path.endswith('.csv'):\n",
        "        return \"This CSV file contains tabular data.\"\n",
        "    elif file_path.endswith('.txt'):\n",
        "        return \"This text file contains general information.\"\n",
        "    else:\n",
        "        return \"No specific description available.\"\n",
        "\n",
        "def is_binary(file_path):\n",
        "    \"\"\"\n",
        "    Check if a file is binary using MIME type.\n",
        "    \"\"\"\n",
        "    mime_type, _ = mimetypes.guess_type(file_path)\n",
        "    # Common MIME types for text files, including Markdown\n",
        "    text_mime_types = [\n",
        "        \"text/plain\",\n",
        "        \"application/json\",\n",
        "        \"application/xml\",\n",
        "        \"application/csv\",\n",
        "        \"text/markdown\"\n",
        "    ]\n",
        "    if mime_type in text_mime_types:\n",
        "        return False\n",
        "    try:\n",
        "        with open(file_path, 'rb') as file:\n",
        "            # Try decoding the first 1KB to UTF-8 to identify text files\n",
        "            file.read(1024).decode('utf-8')\n",
        "        return False\n",
        "    except UnicodeDecodeError:\n",
        "        return True\n",
        "    except Exception:\n",
        "        return True\n",
        "\n",
        "def get_code_block_marker(file_path):\n",
        "    \"\"\"\n",
        "    Return the language marker for Markdown code blocks based on file type.\n",
        "    \"\"\"\n",
        "    if file_path.endswith('.py'):\n",
        "        return \"python\"\n",
        "    elif file_path.endswith('.json'):\n",
        "        return \"json\"\n",
        "    elif file_path.endswith('.csv'):\n",
        "        return \"csv\"\n",
        "    else:\n",
        "        return \"plaintext\"\n",
        "\n",
        "def summarize_directory(src_dir):\n",
        "    \"\"\"\n",
        "    Summarize the directory contents by file type.\n",
        "    \"\"\"\n",
        "    summary = defaultdict(int)\n",
        "    for root, dirs, files in os.walk(src_dir):\n",
        "        for file in files:\n",
        "            ext = os.path.splitext(file)[1]\n",
        "            summary[ext] += 1\n",
        "    return summary"
      ]
    },
    {
      "cell_type": "code",
      "execution_count": 8,
      "metadata": {
        "id": "3IPN8tiF1ZTK"
      },
      "outputs": [],
      "source": [
        "def create_combined_markdown(src_dir, output_file, file_extensions=[\"all\"]):\n",
        "    \"\"\"\n",
        "    Combine all files in the source directory into a single Markdown file.\n",
        "\n",
        "    :param src_dir: Source directory to process.\n",
        "    :param output_file: Path to the output Markdown file.\n",
        "    :param file_extensions: List of file extensions to include. Use [\"all\"] to include all files.\n",
        "    \"\"\"\n",
        "    error_log = []\n",
        "\n",
        "    with open(output_file, 'w') as markdown_file:\n",
        "        # Global metadata section\n",
        "        markdown_file.write(\"# Combined Context for LLM\\n\\n\")\n",
        "        markdown_file.write(f\"Source Directory: {src_dir}\\n\")\n",
        "        markdown_file.write(f\"Generated On: {datetime.now().strftime('%Y-%m-%d %H:%M:%S')}\\n\\n\")\n",
        "\n",
        "        # Directory summary\n",
        "        markdown_file.write(\"## Directory Summary\\n\\n\")\n",
        "        summary = summarize_directory(src_dir)\n",
        "        for ext, count in summary.items():\n",
        "            markdown_file.write(f\"* {ext if ext else 'No extension'}: {count} files\\n\")\n",
        "        markdown_file.write(\"\\n\")\n",
        "\n",
        "        # Table of Contents\n",
        "        markdown_file.write(\"## Table of Contents\\n\\n\")\n",
        "        toc = []\n",
        "        for root, dirs, files in os.walk(src_dir):\n",
        "            for file in files:\n",
        "                file_path = os.path.join(root, file)\n",
        "                if \"all\" in file_extensions or any(file.endswith(ext) for ext in file_extensions):\n",
        "                    relative_path = os.path.relpath(file_path, src_dir)\n",
        "                    toc.append(relative_path)\n",
        "        for relative_path in toc:\n",
        "            markdown_file.write(f\"* [{relative_path}](#file-{relative_path.replace('/', '-')})\\n\")\n",
        "        markdown_file.write(\"\\n\")\n",
        "\n",
        "        # File contents\n",
        "        for root, dirs, files in os.walk(src_dir):\n",
        "            for file in files:\n",
        "                file_path = os.path.join(root, file)\n",
        "                if \"all\" in file_extensions or any(file.endswith(ext) for ext in file_extensions):\n",
        "                    relative_path = os.path.relpath(file_path, src_dir)\n",
        "                    description = get_description(file_path)\n",
        "                    code_block_marker = get_code_block_marker(file_path)\n",
        "\n",
        "                    markdown_file.write(f\"## File: {relative_path}\\n\\n\")\n",
        "                    markdown_file.write(f\"<a name='file-{relative_path.replace('/', '-')}'></a>\\n\")\n",
        "                    markdown_file.write(f\"*Description*: {description}\\n\\n\")\n",
        "\n",
        "                    if is_binary(file_path):\n",
        "                        markdown_file.write(\"*This file is binary and cannot be displayed as text.*\\n\")\n",
        "                        continue\n",
        "\n",
        "                    markdown_file.write(f\"```{code_block_marker}\\n\")\n",
        "                    try:\n",
        "                        with open(file_path, 'r') as input_file:\n",
        "                            content = input_file.readlines()\n",
        "                            if len(content) > 512:  # Truncate large files\n",
        "                                content = content[:512] + [\"\\n*Content truncated for brevity.*\\n\"]\n",
        "                            markdown_file.writelines(content)\n",
        "                    except Exception as e:\n",
        "                        error_message = f\"Error reading file {file_path}: {e}\"\n",
        "                        error_log.append(error_message)\n",
        "                        markdown_file.write(f\"Error reading file: {e}\\n\")\n",
        "\n",
        "                    markdown_file.write(\"\\n```\\n\\n\")\n",
        "\n",
        "    if error_log:\n",
        "        with open(\"error_log.txt\", \"w\") as log_file:\n",
        "            log_file.write(\"\\n\".join(error_log))\n",
        "        print(\"Errors logged to error_log.txt\")\n",
        "\n",
        "    print(f\"Combined Markdown file created: {output_file}\")\n"
      ]
    },
    {
      "cell_type": "code",
      "execution_count": 9,
      "metadata": {},
      "outputs": [],
      "source": [
        "import os\n",
        "import shutil\n",
        "\n",
        "def cleanup_repository(repo_path):\n",
        "    \"\"\"\n",
        "    Remove unwanted directories and files from the repository.\n",
        "\n",
        "    Args:\n",
        "        repo_path (str): Path to the cloned repository.\n",
        "    \"\"\"\n",
        "    unwanted_paths = [\n",
        "        os.path.join(repo_path, \".git\"),\n",
        "        os.path.join(repo_path, \".github\"),\n",
        "        os.path.join(repo_path, \".gitignore\"),\n",
        "        os.path.join(repo_path, \"public\"),\n",
        "        os.path.join(repo_path, \"data\"),        \n",
        "    ]\n",
        "\n",
        "    for path in unwanted_paths:\n",
        "        if os.path.exists(path):\n",
        "            if os.path.isdir(path):\n",
        "                shutil.rmtree(path)  # Remove directories\n",
        "                print(f\"Removed directory: {path}\")\n",
        "            else:\n",
        "                os.remove(path)  # Remove files\n",
        "                print(f\"Removed file: {path}\")\n"
      ]
    },
    {
      "cell_type": "markdown",
      "metadata": {
        "id": "iissUpJcdGQT"
      },
      "source": [
        "## repo"
      ]
    },
    {
      "cell_type": "code",
      "execution_count": 10,
      "metadata": {
        "id": "7qqpIrlOnTsu"
      },
      "outputs": [],
      "source": [
        "# clean up the repository\n",
        "cleanup_repository(source_directory)"
      ]
    },
    {
      "cell_type": "code",
      "execution_count": 11,
      "metadata": {},
      "outputs": [],
      "source": [
        "# Convert and clean up python notebooks\n",
        "convert_and_cleanup_notebooks(source_directory)"
      ]
    },
    {
      "cell_type": "code",
      "execution_count": 12,
      "metadata": {
        "id": "0rCIYG8PzXju"
      },
      "outputs": [
        {
          "name": "stdout",
          "output_type": "stream",
          "text": [
            "Combined Markdown file created: ../data/processed/smolagents-context.md\n"
          ]
        }
      ],
      "source": [
        "# Convert the repository to a combined markdown file\n",
        "create_combined_markdown(source_directory, output_markdown_file, file_extensions)"
      ]
    },
    {
      "cell_type": "code",
      "execution_count": null,
      "metadata": {
        "id": "IlG3CbjwaVwp"
      },
      "outputs": [],
      "source": []
    }
  ],
  "metadata": {
    "colab": {
      "provenance": []
    },
    "kernelspec": {
      "display_name": ".venv",
      "language": "python",
      "name": "python3"
    },
    "language_info": {
      "codemirror_mode": {
        "name": "ipython",
        "version": 3
      },
      "file_extension": ".py",
      "mimetype": "text/x-python",
      "name": "python",
      "nbconvert_exporter": "python",
      "pygments_lexer": "ipython3",
      "version": "3.11.8"
    }
  },
  "nbformat": 4,
  "nbformat_minor": 0
}
