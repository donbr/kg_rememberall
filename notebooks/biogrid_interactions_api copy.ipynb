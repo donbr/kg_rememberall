{
 "cells": [
  {
   "cell_type": "markdown",
   "metadata": {},
   "source": [
    "## BioGRID Ineraction Sevice\n",
    "\n",
    "### Protein, Genetic and Chemical Interactions\n",
    "- Site URL:  https://thebiogrid.org/\n",
    "- API docs:  https://wiki.thebiogrid.org/doku.php/biogridrest\n",
    "- API base url:  https://webservice.thebiogrid.org\n",
    "- API key:  https://webservice.thebiogrid.org"
   ]
  },
  {
   "cell_type": "code",
   "execution_count": 1,
   "metadata": {},
   "outputs": [],
   "source": [
    "# Import necessary libraries\n",
    "import os\n",
    "from dotenv import load_dotenv\n",
    "import requests\n",
    "from pprint import pprint\n",
    "\n",
    "# Load environment variables from .env file\n",
    "load_dotenv()\n",
    "\n",
    "# Fetch the API keys and base URLs from the .env file\n",
    "BG_INT_ACCESS_KEY = os.getenv(\"BG_INT_ACCESS_KEY\")\n",
    "BG_INT_BASE_URL = os.getenv(\"BG_INT_BASE_URL\")\n",
    "\n",
    "# Validate the environment variables\n",
    "if not BG_INT_ACCESS_KEY or not BG_INT_BASE_URL:\n",
    "    raise ValueError(\"BG_INT_ACCESS_KEY or BG_INT_BASE_URL is missing from the .env file.\")"
   ]
  },
  {
   "cell_type": "code",
   "execution_count": 2,
   "metadata": {},
   "outputs": [],
   "source": [
    "from pathlib import Path\n",
    "\n",
    "# Define configuration constants\n",
    "INTERIM_DIR = Path(\"../data/interim\")  # Standardize path using pathlib"
   ]
  },
  {
   "cell_type": "markdown",
   "metadata": {},
   "source": [
    "### Table of Contents:\n",
    "1. **Setup and Configuration**\n",
    "2. **Helper Functions**\n",
    "3. **API Query Class**\n",
    "4. **Data Processing and Visualization**\n",
    "5. **Network Analysis**\n",
    "6. **Main Workflow**\n",
    "7. **Utilities for Robust Querying**"
   ]
  },
  {
   "cell_type": "code",
   "execution_count": 11,
   "metadata": {},
   "outputs": [],
   "source": [
    "### 1. **Setup and Configuration**\n",
    "\n",
    "# %% [markdown]\n",
    "# ## BioGRID Interaction Service\n",
    "# - **URL**: https://thebiogrid.org/\n",
    "# - **API Docs**: https://wiki.thebiogrid.org/doku.php/biogridrest\n",
    "# - **API Base URL**: https://webservice.thebiogrid.org\n",
    "\n",
    "import os\n",
    "import requests\n",
    "from pathlib import Path\n",
    "from dotenv import load_dotenv\n",
    "from pprint import pprint\n",
    "\n",
    "# Load environment variables from .env file\n",
    "load_dotenv()\n",
    "BG_INT_ACCESS_KEY = os.getenv(\"BG_INT_ACCESS_KEY\")\n",
    "BG_INT_BASE_URL = os.getenv(\"BG_INT_BASE_URL\")\n",
    "\n",
    "if not BG_INT_ACCESS_KEY or not BG_INT_BASE_URL:\n",
    "    raise ValueError(\"BG_INT_ACCESS_KEY or BG_INT_BASE_URL is missing from the .env file.\")\n",
    "\n",
    "# Define interim directory\n",
    "INTERIM_DIR = Path(\"../data/interim\")\n",
    "INTERIM_DIR.mkdir(parents=True, exist_ok=True)"
   ]
  },
  {
   "cell_type": "code",
   "execution_count": 12,
   "metadata": {},
   "outputs": [],
   "source": [
    "### 2. **Helper Functions**\n",
    "\n",
    "import pandas as pd\n",
    "import numpy as np\n",
    "import matplotlib.pyplot as plt\n",
    "import seaborn as sns\n",
    "import networkx as nx\n",
    "import json\n",
    "\n",
    "def validate_biogrid_response(response):\n",
    "    \"\"\"Validate the structure of the BioGRID API response.\"\"\"\n",
    "    if not isinstance(response, dict):\n",
    "        raise ValueError(\"Response is not a valid JSON dictionary.\")\n",
    "    required_keys = ['BIOGRID_INTERACTION_ID', 'ENTREZ_GENE_A', 'ENTREZ_GENE_B']\n",
    "    for key in required_keys:\n",
    "        if key not in response:\n",
    "            raise ValueError(f\"Missing required key: {key}\")\n",
    "\n",
    "def convert_biogrid_json_to_df(json_data):\n",
    "    \"\"\"Convert BioGRID JSON data to an optimized pandas DataFrame.\"\"\"\n",
    "    # Convert JSON to DataFrame\n",
    "    df = pd.DataFrame.from_dict(json_data, orient='index')\n",
    "    \n",
    "    # Extract publication year from 'PUBMED_AUTHOR'\n",
    "    df['PUBLICATION_YEAR'] = df['PUBMED_AUTHOR'].str.extract(r'\\((\\d{4})\\)').astype('Int64')\n",
    "    \n",
    "    # Sort and set index\n",
    "    df = df.sort_values('BIOGRID_INTERACTION_ID').set_index('BIOGRID_INTERACTION_ID')\n",
    "    return df\n",
    "\n",
    "def generate_summary_statistics(df):\n",
    "    \"\"\"Generate summary statistics for the DataFrame.\"\"\"\n",
    "    return {\n",
    "        'total_interactions': len(df),\n",
    "        'unique_genes': df['OFFICIAL_SYMBOL_A'].nunique() + df['OFFICIAL_SYMBOL_B'].nunique(),\n",
    "    }\n",
    "\n",
    "def plot_data_distribution(df):\n",
    "    \"\"\"Plot distributions of key columns.\"\"\"\n",
    "    if 'PUBLICATION_YEAR' in df.columns and not df['PUBLICATION_YEAR'].isnull().all():\n",
    "        sns.histplot(df['PUBLICATION_YEAR'].dropna(), kde=True)\n",
    "        plt.title('Publication Year Distribution')\n",
    "        plt.xlabel('Publication Year')\n",
    "        plt.ylabel('Frequency')\n",
    "        plt.show()\n",
    "    else:\n",
    "        print(\"No publication year data available for plotting.\")"
   ]
  },
  {
   "cell_type": "code",
   "execution_count": 13,
   "metadata": {},
   "outputs": [],
   "source": [
    "### 3. **API Query Class**\n",
    "\n",
    "class BioGRIDQuery:\n",
    "    def __init__(self):\n",
    "        self.access_key = BG_INT_ACCESS_KEY\n",
    "        self.base_url = BG_INT_BASE_URL\n",
    "\n",
    "    def query_interactions(self, **params):\n",
    "        \"\"\"Query the BioGRID API.\"\"\"\n",
    "        response = requests.get(f\"{self.base_url}/interactions/\", params=params)\n",
    "        response.raise_for_status()\n",
    "        return response.json()\n",
    "\n",
    "    def save_response(self, data, file_name):\n",
    "        \"\"\"Save JSON response to a file.\"\"\"\n",
    "        file_path = INTERIM_DIR / file_name\n",
    "        with open(file_path, \"w\") as f:\n",
    "            json.dump(data, f, indent=4)\n",
    "        print(f\"Saved to {file_path}\")"
   ]
  },
  {
   "cell_type": "code",
   "execution_count": 14,
   "metadata": {},
   "outputs": [],
   "source": [
    "### 4. **Data Processing and Visualization**\n",
    "\n",
    "def create_networkx_graph(df):\n",
    "    \"\"\"Create a NetworkX graph from the DataFrame.\"\"\"\n",
    "    G = nx.Graph()\n",
    "    for _, row in df.iterrows():\n",
    "        G.add_node(row['OFFICIAL_SYMBOL_A'], entrez_id=row['ENTREZ_GENE_A'])\n",
    "        G.add_node(row['OFFICIAL_SYMBOL_B'], entrez_id=row['ENTREZ_GENE_B'])\n",
    "        G.add_edge(row['OFFICIAL_SYMBOL_A'], row['OFFICIAL_SYMBOL_B'])\n",
    "    return G\n",
    "\n",
    "def analyze_networkx_graph(G):\n",
    "    \"\"\"Analyze and visualize the NetworkX graph.\"\"\"\n",
    "    print(f\"Nodes: {G.number_of_nodes()}, Edges: {G.number_of_edges()}\")\n",
    "    degree_values = dict(G.degree()).values()\n",
    "    sns.histplot(degree_values, kde=True)\n",
    "    plt.title('Degree Distribution')\n",
    "    plt.xlabel('Degree')\n",
    "    plt.ylabel('Frequency')\n",
    "    plt.show()"
   ]
  },
  {
   "cell_type": "code",
   "execution_count": 26,
   "metadata": {},
   "outputs": [
    {
     "name": "stdout",
     "output_type": "stream",
     "text": [
      "Saved to ../data/interim/pmid_35559673_interactions.json\n"
     ]
    }
   ],
   "source": [
    "### 5. **Main Workflow**\n",
    "\n",
    "# Initialize the BioGRIDQuery class\n",
    "biogrid_query = BioGRIDQuery()\n",
    "\n",
    "# PMID(s) to search for (pipe-separated for multiple genes)\n",
    "pubmed_article = \"35559673\"\n",
    "\n",
    "# Evidence types to include in the response (pipe-separated for multiple types)\n",
    "evidence_list = \"synthetic lethality|negative genetic\"\n",
    "\n",
    "params = {\n",
    "    \"taxId\": \"9606\",  # Human tax ID\n",
    "    \"pubmedList\": pubmed_article, # pubmed article ID(s)\n",
    "    \"includeInteractors\": \"true\",\n",
    "    \"evidenceList\": evidence_list,\n",
    "    \"includeEvidence\": \"true\",\n",
    "    \"format\": \"json\",\n",
    "    \"accesskey\": biogrid_query.access_key\n",
    "}\n",
    "response = biogrid_query.query_interactions(**params)\n",
    "biogrid_query.save_response(response, f\"pmid_{pubmed_article}_interactions.json\")"
   ]
  },
  {
   "cell_type": "code",
   "execution_count": 28,
   "metadata": {},
   "outputs": [
    {
     "name": "stdout",
     "output_type": "stream",
     "text": [
      "RESPONSE: type: <class 'dict'>, length: 475\n"
     ]
    }
   ],
   "source": [
    "print(f\"RESPONSE: type: {type(response)}, length: {len(response)}\")"
   ]
  },
  {
   "cell_type": "code",
   "execution_count": 30,
   "metadata": {},
   "outputs": [
    {
     "name": "stdout",
     "output_type": "stream",
     "text": [
      "Summary Statistics: {'total_interactions': 475, 'unique_genes': 360}\n"
     ]
    },
    {
     "data": {
      "image/png": "[encoded data removed]",
      "text/plain": [
       "<Figure size 640x480 with 1 Axes>"
      ]
     },
     "metadata": {},
     "output_type": "display_data"
    }
   ],
   "source": [
    "# Convert to DataFrame and perform EDA\n",
    "df = convert_biogrid_json_to_df(response)\n",
    "stats = generate_summary_statistics(df)\n",
    "print(\"Summary Statistics:\", stats)\n",
    "plot_data_distribution(df)"
   ]
  },
  {
   "cell_type": "code",
   "execution_count": 31,
   "metadata": {},
   "outputs": [
    {
     "name": "stdout",
     "output_type": "stream",
     "text": [
      "Nodes: 359, Edges: 475\n"
     ]
    },
    {
     "data": {
      "image/png": "[encoded data removed]",
      "text/plain": [
       "<Figure size 640x480 with 1 Axes>"
      ]
     },
     "metadata": {},
     "output_type": "display_data"
    }
   ],
   "source": [
    "# Create and analyze the graph\n",
    "G = create_networkx_graph(df)\n",
    "analyze_networkx_graph(G)"
   ]
  }
 ],
 "metadata": {
  "kernelspec": {
   "display_name": ".venv",
   "language": "python",
   "name": "python3"
  },
  "language_info": {
   "codemirror_mode": {
    "name": "ipython",
    "version": 3
   },
   "file_extension": ".py",
   "mimetype": "text/x-python",
   "name": "python",
   "nbconvert_exporter": "python",
   "pygments_lexer": "ipython3",
   "version": "3.11.8"
  }
 },
 "nbformat": 4,
 "nbformat_minor": 2
}
