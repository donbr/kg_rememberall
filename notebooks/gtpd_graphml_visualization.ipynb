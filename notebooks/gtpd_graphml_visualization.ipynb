{
 "cells": [
  {
   "cell_type": "code",
   "execution_count": 1,
   "metadata": {},
   "outputs": [
    {
     "name": "stdout",
     "output_type": "stream",
     "text": [
      "\n",
      "\u001b[1m[\u001b[0m\u001b[34;49mnotice\u001b[0m\u001b[1;39;49m]\u001b[0m\u001b[39;49m A new release of pip is available: \u001b[0m\u001b[31;49m24.0\u001b[0m\u001b[39;49m -> \u001b[0m\u001b[32;49m24.3.1\u001b[0m\n",
      "\u001b[1m[\u001b[0m\u001b[34;49mnotice\u001b[0m\u001b[1;39;49m]\u001b[0m\u001b[39;49m To update, run: \u001b[0m\u001b[32;49mpip install --upgrade pip\u001b[0m\n",
      "Note: you may need to restart the kernel to use updated packages.\n"
     ]
    }
   ],
   "source": [
    "%pip install -q pyvis networkx"
   ]
  },
  {
   "cell_type": "code",
   "execution_count": 2,
   "metadata": {},
   "outputs": [],
   "source": [
    "from pathlib import Path\n",
    "\n",
    "# Define configuration constants\n",
    "INTERIM_DIR = Path(\"../data/interim\")  # Standardize path using pathlib\n",
    "PROCESSED_DIR = Path(\"../data/processed\")  # Standardize path using pathlib\n",
    "\n",
    "gtp_graphml = INTERIM_DIR / \"gtp_aurk_inhibitors.graphml\"\n",
    "gtp_html = PROCESSED_DIR / \"gtp_aurk_inhibitors.html\"\n"
   ]
  },
  {
   "cell_type": "code",
   "execution_count": 3,
   "metadata": {},
   "outputs": [],
   "source": [
    "import xml.etree.ElementTree as ET\n",
    "from pyvis.network import Network\n",
    "import networkx as nx\n",
    "import re\n",
    "\n",
    "# Constants\n",
    "GRAPHML_NS = {'graphml': 'http://graphml.graphdrawing.org/xmlns'}\n",
    "\n",
    "# Function to clean HTML tags from text\n",
    "def clean_html(raw_html):\n",
    "    cleanr = re.compile('<.*?>')\n",
    "    cleantext = re.sub(cleanr, '', raw_html)\n",
    "    return cleantext\n",
    "\n",
    "# Parse the GraphML data\n",
    "try:\n",
    "    tree = ET.parse(gtp_graphml)\n",
    "except FileNotFoundError:\n",
    "    print(\"Error: GraphML file not found.\")\n",
    "    exit(1)\n",
    "except ET.ParseError:\n",
    "    print(\"Error: Invalid GraphML file.\")\n",
    "    exit(1)\n",
    "\n",
    "root = tree.getroot()\n",
    "\n",
    "# Create a NetworkX graph\n",
    "G = nx.Graph()\n",
    "\n",
    "# Extract nodes and their attributes\n",
    "for node in root.findall('.//graphml:node', GRAPHML_NS):\n",
    "    node_id = node.get('id')\n",
    "    \n",
    "    # Get node labels\n",
    "    label_elem = node.find('.//graphml:data[@key=\"label\"]', GRAPHML_NS)\n",
    "    label = clean_html(label_elem.text) if label_elem is not None and label_elem.text else node_id\n",
    "    \n",
    "    # Get node type from labels attribute\n",
    "    node_type = node.get('labels', 'Unknown')\n",
    "    \n",
    "    G.add_node(node_id, label=label, node_type=node_type)\n",
    "\n",
    "# Extract edges\n",
    "for edge in root.findall('.//graphml:edge', GRAPHML_NS):\n",
    "    source = edge.get('source')\n",
    "    target = edge.get('target')\n",
    "    \n",
    "    # Get edge label\n",
    "    edge_label_elem = edge.find('.//graphml:data[@key=\"label\"]', GRAPHML_NS)\n",
    "    edge_label = edge_label_elem.text if edge_label_elem is not None else ''\n",
    "    \n",
    "    G.add_edge(source, target, label=edge_label)\n",
    "\n",
    "# Create Pyvis network\n",
    "net = Network(height=\"750px\", width=\"100%\", bgcolor=\"#ffffff\", font_color=\"black\")\n",
    "net.from_nx(G)\n",
    "\n",
    "# Customize node appearances based on type\n",
    "for node in net.nodes:\n",
    "    node_type = node.get('node_type', 'Unknown')\n",
    "    \n",
    "    if ':Target' in node_type:\n",
    "        node['color'] = '#ff7f7f'  # Red for targets\n",
    "        node['size'] = 25\n",
    "    elif ':SyntheticOrganicLigand' in node_type:\n",
    "        node['color'] = '#7f7fff'  # Blue for ligands\n",
    "        node['size'] = 20\n",
    "    elif ':Affinity' in node_type:\n",
    "        node['color'] = '#7fff7f'  # Green for affinity\n",
    "        node['size'] = 15\n",
    "    else:\n",
    "        node['color'] = '#cccccc'  # Gray for other nodes\n",
    "        node['size'] = 10\n",
    "\n",
    "# Customize edge appearances\n",
    "for edge in net.edges:\n",
    "    edge['width'] = 1\n",
    "    edge['color'] = '#999999'\n",
    "\n",
    "# Set physics options for better layout\n",
    "net.set_options('''\n",
    "{\n",
    "  \"physics\": {\n",
    "    \"barnesHut\": {\n",
    "      \"gravitationalConstant\": -2000,\n",
    "      \"centralGravity\": 0.3,\n",
    "      \"springLength\": 200,\n",
    "      \"springConstant\": 0.04\n",
    "    },\n",
    "    \"maxVelocity\": 50,\n",
    "    \"minVelocity\": 0.1,\n",
    "    \"solver\": \"barnesHut\",\n",
    "    \"stabilization\": {\n",
    "      \"enabled\": true,\n",
    "      \"iterations\": 1000\n",
    "    }\n",
    "  }\n",
    "}\n",
    "''')\n",
    "\n"
   ]
  },
  {
   "cell_type": "code",
   "execution_count": 4,
   "metadata": {},
   "outputs": [
    {
     "name": "stdout",
     "output_type": "stream",
     "text": [
      "../data/processed/gtp_aurk_inhibitors.html\n"
     ]
    }
   ],
   "source": [
    "print(gtp_html)"
   ]
  },
  {
   "cell_type": "code",
   "execution_count": 5,
   "metadata": {},
   "outputs": [],
   "source": [
    "# Save or show the network\n",
    "net.save_graph(str(gtp_html))"
   ]
  },
  {
   "cell_type": "code",
   "execution_count": null,
   "metadata": {},
   "outputs": [],
   "source": []
  }
 ],
 "metadata": {
  "kernelspec": {
   "display_name": ".venv",
   "language": "python",
   "name": "python3"
  },
  "language_info": {
   "codemirror_mode": {
    "name": "ipython",
    "version": 3
   },
   "file_extension": ".py",
   "mimetype": "text/x-python",
   "name": "python",
   "nbconvert_exporter": "python",
   "pygments_lexer": "ipython3",
   "version": "3.11.8"
  }
 },
 "nbformat": 4,
 "nbformat_minor": 2
}
