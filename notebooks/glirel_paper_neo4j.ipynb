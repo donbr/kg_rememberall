{
  "cells": [
    {
      "cell_type": "code",
      "execution_count": 15,
      "metadata": {
        "id": "x3lXZ6hU2U-8"
      },
      "outputs": [],
      "source": [
        "%pip install -q neo4j"
      ]
    },
    {
      "cell_type": "code",
      "execution_count": 16,
      "metadata": {
        "id": "_KXJYOw32fmk"
      },
      "outputs": [],
      "source": [
        "from google.colab import userdata\n",
        "NEO4J_URI = userdata.get('NEO4J_URI')\n",
        "NEO4J_USER = userdata.get('NEO4J_USERNAME')\n",
        "NEO4J_PWD = userdata.get('NEO4J_PASSWORD')"
      ]
    },
    {
      "cell_type": "code",
      "execution_count": 19,
      "metadata": {
        "id": "IAmD93tV2VvD"
      },
      "outputs": [],
      "source": [
        "from neo4j import GraphDatabase\n",
        "\n",
        "class Neo4jGraph:\n",
        "    def __init__(self, uri, user, password):\n",
        "        self.driver = GraphDatabase.driver(uri, auth=(user, password))\n",
        "\n",
        "    def close(self):\n",
        "        self.driver.close()\n",
        "\n",
        "    def create_graph(self):\n",
        "        with self.driver.session() as session:\n",
        "            # Create the legend node\n",
        "            session.run(\"\"\"\n",
        "                MERGE (legend:Legend {name: 'Legend'})\n",
        "                SET legend.summary = 'Legend: Blue for sections, Green for subsections, Red for the legend',\n",
        "                    legend.color = 'red'\n",
        "            \"\"\")\n",
        "\n",
        "            # Add sections\n",
        "            sections = [\n",
        "                (\"Abstract\", \"Overview of GLiREL's novel approach for zero-shot relation classification.\"),\n",
        "                (\"1 Introduction\", \"Motivation and importance of efficient zero-shot relation extraction.\"),\n",
        "                (\"2 Background\", \"Discussion of prior work, including NER and zero-shot techniques.\"),\n",
        "                (\"3 Method\", \"Details of GLiREL's architecture and training methodology.\"),\n",
        "                (\"4 Experiments\", \"Empirical evaluation using benchmark datasets and results.\"),\n",
        "                (\"5 Analysis\", \"Performance analysis, including inference speed and ablation studies.\"),\n",
        "                (\"6 Conclusion\", \"Summary of findings and GLiREL's contributions.\"),\n",
        "                (\"7 Limitations\", \"Discussion of limitations and future directions.\"),\n",
        "                (\"References\", \"List of cited works and related research.\"),\n",
        "                (\"Appendix\", \"Supplementary material, including extended results and technical details.\")\n",
        "            ]\n",
        "\n",
        "            for name, summary in sections:\n",
        "                session.run(\"\"\"\n",
        "                    MERGE (section:Section {name: $name})\n",
        "                    SET section.summary = $summary, section.color = 'blue'\n",
        "                \"\"\", name=name, summary=summary)\n",
        "\n",
        "            # Add edges for section flow\n",
        "            for i in range(len(sections) - 1):\n",
        "                session.run(\"\"\"\n",
        "                    MATCH (from:Section {name: $from_name}), (to:Section {name: $to_name})\n",
        "                    MERGE (from)-[:TRANSITIONS_TO {summary: $transition_summary}]->(to)\n",
        "                \"\"\", from_name=sections[i][0], to_name=sections[i + 1][0],\n",
        "                   transition_summary=f\"Transition from {sections[i][0]} to {sections[i + 1][0]}.\")\n",
        "\n",
        "            # Add subsections and their edges\n",
        "            subsections = {\n",
        "                \"2 Background\": [\n",
        "                    (\"Joint vs Independent NER and Relation Classification\",\n",
        "                     \"Compares joint and independent approaches to NER and relation classification.\"),\n",
        "                    (\"Zero-Shot Relation Extraction\", \"Reviews existing zero-shot relation extraction models.\"),\n",
        "                    (\"LLMs for Relation Classification\", \"Explores the use of LLMs for relation classification.\"),\n",
        "                    (\"Zero-Shot Learning and Synthetic Training Data Generation\",\n",
        "                     \"Highlights synthetic data generation for training zero-shot models.\")\n",
        "                ],\n",
        "                \"3 Method\": [\n",
        "                    (\"Input\", \"Details the input structure, including relation labels, text tokens, and entity indices.\"),\n",
        "                    (\"Token Representation\", \"Explains how tokens are encoded and represented in the model.\"),\n",
        "                    (\"Label and Entity Pair Representation\", \"Describes how relation labels and entity pairs are encoded.\"),\n",
        "                    (\"Refinement Layer\", \"Explains the refinement process using attention mechanisms.\"),\n",
        "                    (\"Scoring Layer\", \"Details the scoring mechanism for relationships between entity pairs and relation types.\"),\n",
        "                    (\"Training Dataset Generation\", \"Outlines the protocol for generating synthetic training data.\"),\n",
        "                    (\"Extending to Coreference Resolution and Document-Level Relation Classification\",\n",
        "                     \"Discusses extending GLiREL for document-level relation classification.\")\n",
        "                ]\n",
        "                # Add more subsections as required\n",
        "            }\n",
        "\n",
        "            for section, subs in subsections.items():\n",
        "                for sub_name, sub_summary in subs:\n",
        "                    session.run(\"\"\"\n",
        "                        MATCH (parent:Section {name: $section_name})\n",
        "                        MERGE (sub:Subsection {name: $sub_name})\n",
        "                        SET sub.summary = $sub_summary, sub.color = 'green'\n",
        "                        MERGE (parent)-[:HAS_SUBSECTION]->(sub)\n",
        "                    \"\"\", section_name=section, sub_name=sub_name, sub_summary=sub_summary)\n"
      ]
    },
    {
      "cell_type": "code",
      "execution_count": 20,
      "metadata": {
        "id": "lO14Bu9l2utF"
      },
      "outputs": [],
      "source": [
        "# Connect to Neo4j\n",
        "uri = NEO4J_URI       # Update with your Neo4j URI\n",
        "user = NEO4J_USER     # Update with your Neo4j username\n",
        "password = NEO4J_PWD  # Update with your Neo4j password\n",
        "\n",
        "neo4j_graph = Neo4jGraph(uri, user, password)\n",
        "neo4j_graph.create_graph()\n",
        "neo4j_graph.close()"
      ]
    },
    {
      "cell_type": "code",
      "execution_count": null,
      "metadata": {
        "id": "4gLeW7nMQaue"
      },
      "outputs": [],
      "source": []
    }
  ],
  "metadata": {
    "colab": {
      "provenance": []
    },
    "kernelspec": {
      "display_name": "Python 3",
      "name": "python3"
    },
    "language_info": {
      "name": "python"
    }
  },
  "nbformat": 4,
  "nbformat_minor": 0
}
