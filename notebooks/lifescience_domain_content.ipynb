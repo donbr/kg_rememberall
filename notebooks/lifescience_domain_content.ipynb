{
 "cells": [
  {
   "cell_type": "markdown",
   "metadata": {
    "vscode": {
     "languageId": "plaintext"
    }
   },
   "source": [
    "# Lifescience domain content\n",
    "\n",
    "- an overly simple starting point\n",
    "- a public bucket with read-only access"
   ]
  },
  {
   "cell_type": "code",
   "execution_count": 1,
   "metadata": {},
   "outputs": [
    {
     "name": "stdout",
     "output_type": "stream",
     "text": [
      "2025-01-13 13:53:19    3165662 2406.13106v3.pdf\n",
      "2025-01-13 13:53:20     708813 pmid24378760.pdf\n",
      "2025-01-13 13:53:21    3138069 pmid27438146.pdf\n",
      "2025-01-13 13:53:23    1771239 pmid27453043.pdf\n",
      "2025-01-13 13:53:12     845943 pmid30762338_si.pdf\n",
      "2025-01-13 13:53:13    2357171 pmid30862715.pdf\n",
      "2025-01-13 13:53:15    2663787 pmid33077733.pdf\n",
      "2025-01-13 13:53:16     891075 pmid35559673.pdf\n",
      "2025-01-13 13:53:17    1514184 s41698-024-00583-0.pdf\n"
     ]
    }
   ],
   "source": [
    "!aws s3 ls s3://kg-rememberall/"
   ]
  },
  {
   "cell_type": "markdown",
   "metadata": {},
   "source": [
    "### here's an appropriate document to start with:\n",
    "\n",
    "Link to PDF in AWS S3 bucket:  [Accelerating Complex Disease Treatment through\n",
    "Network Medicine and GenAI: A Case Study on\n",
    "Drug Repurposing for Breast Cancer](https://kg-rememberall.s3.us-east-1.amazonaws.com/2406.13106v3.pdf)\n",
    "\n",
    "Original Source:  https://arxiv.org/pdf/2406.13106v1\n",
    "HTML version:  https://arxiv.org/html/2406.13106v1"
   ]
  },
  {
   "cell_type": "markdown",
   "metadata": {},
   "source": [
    "### a metadata driven approach is needed...\n",
    "\n",
    "- limiting the number of pdfs and html documents that are repetitively processed should be a goal\n",
    "- the objective is valuable information, not processing often poorly formatted documents"
   ]
  },
  {
   "cell_type": "markdown",
   "metadata": {},
   "source": []
  },
  {
   "cell_type": "code",
   "execution_count": null,
   "metadata": {},
   "outputs": [],
   "source": []
  },
  {
   "cell_type": "code",
   "execution_count": null,
   "metadata": {},
   "outputs": [],
   "source": []
  },
  {
   "cell_type": "code",
   "execution_count": null,
   "metadata": {},
   "outputs": [],
   "source": []
  }
 ],
 "metadata": {
  "kernelspec": {
   "display_name": ".venv",
   "language": "python",
   "name": "python3"
  },
  "language_info": {
   "codemirror_mode": {
    "name": "ipython",
    "version": 3
   },
   "file_extension": ".py",
   "mimetype": "text/x-python",
   "name": "python",
   "nbconvert_exporter": "python",
   "pygments_lexer": "ipython3",
   "version": "3.11.8"
  }
 },
 "nbformat": 4,
 "nbformat_minor": 2
}
