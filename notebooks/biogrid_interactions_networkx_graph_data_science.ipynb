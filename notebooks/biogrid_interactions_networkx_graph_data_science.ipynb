{
 "cells": [
  {
   "cell_type": "markdown",
   "metadata": {},
   "source": [
    "# NetworkX BioGRID Interactions Analysis\n",
    "\n",
    "This notebook analyzes gene interaction networks using data from BioGRID. It includes:\n",
    "- Loading and parsing JSON data.\n",
    "- Creating a gene interaction network.\n",
    "- Performing comprehensive network analysis.\n",
    "- Visualizing the network.\n",
    "- Saving results and graphs."
   ]
  },
  {
   "cell_type": "markdown",
   "metadata": {},
   "source": [
    "## 1. Setup and Configuration"
   ]
  },
  {
   "cell_type": "code",
   "execution_count": 1,
   "metadata": {},
   "outputs": [],
   "source": [
    "from pathlib import Path\n",
    "import json\n",
    "import networkx as nx\n",
    "import plotly.graph_objects as go\n",
    "from pyvis.network import Network\n",
    "import logging\n",
    "import community as community_louvain  # For community detection\n",
    "import matplotlib.pyplot as plt\n",
    "\n",
    "# Configure logging\n",
    "logging.basicConfig(level=logging.INFO, format=\"%(asctime)s - %(levelname)s - %(message)s\")\n",
    "\n",
    "# Define paths\n",
    "INTERIM_DIR = Path(\"../data/interim\")\n",
    "PROCESSED_DIR = Path(\"../data/processed\")\n",
    "\n",
    "# Input JSON file (created using biogrid_interactions.ipynb)\n",
    "biogrid_interactions_json_file = \"TP53_interactions.json\"\n",
    "biogrid_interactions_json_src = INTERIM_DIR / biogrid_interactions_json_file\n",
    "\n",
    "# Output files\n",
    "biogrid_interactions_network_graphml = PROCESSED_DIR / biogrid_interactions_json_file.replace('.json', '_network.graphml')\n",
    "biogrid_interactions_network_html = PROCESSED_DIR / biogrid_interactions_json_file.replace('.json', '_network.html')"
   ]
  },
  {
   "cell_type": "markdown",
   "metadata": {},
   "source": [
    "## 2. Data Loading"
   ]
  },
  {
   "cell_type": "code",
   "execution_count": 2,
   "metadata": {},
   "outputs": [],
   "source": [
    "def load_json_data(filepath):\n",
    "    \"\"\"\n",
    "    Load JSON data from a file.\n",
    "\n",
    "    Args:\n",
    "        filepath (Path): Path to the JSON file.\n",
    "\n",
    "    Returns:\n",
    "        dict: Parsed JSON data.\n",
    "    \"\"\"\n",
    "    try:\n",
    "        with open(filepath, 'r') as f:\n",
    "            return json.load(f)\n",
    "    except FileNotFoundError:\n",
    "        logging.error(f\"File not found: {filepath}\")\n",
    "        raise\n",
    "    except json.JSONDecodeError:\n",
    "        logging.error(f\"Invalid JSON data in file: {filepath}\")\n",
    "        raise"
   ]
  },
  {
   "cell_type": "code",
   "execution_count": 3,
   "metadata": {},
   "outputs": [],
   "source": [
    "# Example usage\n",
    "json_data = load_json_data(biogrid_interactions_json_src)"
   ]
  },
  {
   "cell_type": "markdown",
   "metadata": {},
   "source": [
    "## 3. Graph Creation"
   ]
  },
  {
   "cell_type": "code",
   "execution_count": 4,
   "metadata": {},
   "outputs": [],
   "source": [
    "def create_gene_network(interactions):\n",
    "    \"\"\"\n",
    "    Create a gene interaction network from JSON data.\n",
    "\n",
    "    Args:\n",
    "        interactions (dict): Parsed JSON data containing gene interactions.\n",
    "\n",
    "    Returns:\n",
    "        G (networkx.Graph): A graph representing gene interactions.\n",
    "    \"\"\"\n",
    "    G = nx.Graph()\n",
    "    \n",
    "    for interaction_id, data in interactions.items():\n",
    "        try:\n",
    "            gene_a = data['OFFICIAL_SYMBOL_A']\n",
    "            gene_b = data['OFFICIAL_SYMBOL_B']\n",
    "        except KeyError:\n",
    "            logging.warning(f\"Skipping interaction {interaction_id} due to missing data.\")\n",
    "            continue\n",
    "        \n",
    "        # Add nodes with attributes\n",
    "        G.add_node(gene_a, entrez_id=data['ENTREZ_GENE_A'], synonyms=data['SYNONYMS_A'])\n",
    "        G.add_node(gene_b, entrez_id=data['ENTREZ_GENE_B'], synonyms=data['SYNONYMS_B'])\n",
    "        \n",
    "        # Add edge with attributes\n",
    "        G.add_edge(gene_a, gene_b, interaction_id=interaction_id, pubmed_id=data['PUBMED_ID'],\n",
    "                   pubmed_author=data['PUBMED_AUTHOR'], throughput=data['THROUGHPUT'],\n",
    "                   qualifications=data['QUALIFICATIONS'])\n",
    "    \n",
    "    logging.info(f\"Created network with {G.number_of_nodes()} nodes and {G.number_of_edges()} edges.\")\n",
    "    return G"
   ]
  },
  {
   "cell_type": "code",
   "execution_count": 5,
   "metadata": {},
   "outputs": [
    {
     "name": "stderr",
     "output_type": "stream",
     "text": [
      "2025-01-13 18:21:34,720 - INFO - Created network with 208 nodes and 207 edges.\n"
     ]
    }
   ],
   "source": [
    "# Example usage\n",
    "G = create_gene_network(json_data)"
   ]
  },
  {
   "cell_type": "markdown",
   "metadata": {},
   "source": [
    "## 4. Network Analysis"
   ]
  },
  {
   "cell_type": "code",
   "execution_count": 6,
   "metadata": {},
   "outputs": [],
   "source": [
    "def analyze_network(G):\n",
    "    \"\"\"\n",
    "    Analyze the gene interaction network.\n",
    "\n",
    "    Args:\n",
    "        G (networkx.Graph): The gene interaction network.\n",
    "\n",
    "    Returns:\n",
    "        dict: Network statistics and metrics.\n",
    "    \"\"\"\n",
    "    stats = {\n",
    "        'Number of nodes': G.number_of_nodes(),\n",
    "        'Number of edges': G.number_of_edges(),\n",
    "        'Average degree': sum(dict(G.degree()).values()) / G.number_of_nodes(),\n",
    "        'Density': nx.density(G),\n",
    "        'Is connected': nx.is_connected(G),\n",
    "        'Highest degree nodes': sorted(dict(G.degree()).items(), key=lambda x: x[1], reverse=True)[:5]\n",
    "    }\n",
    "    return stats\n",
    "\n",
    "def calculate_centralities(G):\n",
    "    \"\"\"\n",
    "    Calculate centrality measures for the network.\n",
    "\n",
    "    Args:\n",
    "        G (networkx.Graph): The gene interaction network.\n",
    "\n",
    "    Returns:\n",
    "        dict: Centrality measures (degree, betweenness, closeness, eigenvector).\n",
    "    \"\"\"\n",
    "    return {\n",
    "        'degree_centrality': nx.degree_centrality(G),\n",
    "        'betweenness_centrality': nx.betweenness_centrality(G),\n",
    "        'closeness_centrality': nx.closeness_centrality(G),\n",
    "        'eigenvector_centrality': nx.eigenvector_centrality(G)\n",
    "    }\n",
    "\n",
    "def detect_communities(G):\n",
    "    \"\"\"\n",
    "    Detect communities in the network using the Louvain method.\n",
    "\n",
    "    Args:\n",
    "        G (networkx.Graph): The gene interaction network.\n",
    "\n",
    "    Returns:\n",
    "        dict: Mapping of nodes to their community IDs.\n",
    "    \"\"\"\n",
    "    return community_louvain.best_partition(G)\n",
    "\n",
    "def additional_metrics(G):\n",
    "    \"\"\"\n",
    "    Calculate additional network metrics.\n",
    "\n",
    "    Args:\n",
    "        G (networkx.Graph): The gene interaction network.\n",
    "\n",
    "    Returns:\n",
    "        dict: Additional metrics (assortativity, diameter, average path length).\n",
    "    \"\"\"\n",
    "    return {\n",
    "        'assortativity': nx.degree_assortativity_coefficient(G),\n",
    "        'diameter': nx.diameter(G),\n",
    "        'average_path_length': nx.average_shortest_path_length(G)\n",
    "    }\n",
    "\n",
    "def comprehensive_analysis(G):\n",
    "    \"\"\"\n",
    "    Perform a comprehensive analysis of the gene interaction network.\n",
    "\n",
    "    Args:\n",
    "        G (networkx.Graph): The gene interaction network.\n",
    "\n",
    "    Returns:\n",
    "        dict: Comprehensive analysis results.\n",
    "    \"\"\"\n",
    "    return {\n",
    "        'basic_stats': analyze_network(G),\n",
    "        'centralities': calculate_centralities(G),\n",
    "        'communities': detect_communities(G),\n",
    "        'clustering_coefficient': nx.average_clustering(G),\n",
    "        'additional_metrics': additional_metrics(G)\n",
    "    }"
   ]
  },
  {
   "cell_type": "code",
   "execution_count": 7,
   "metadata": {},
   "outputs": [
    {
     "name": "stdout",
     "output_type": "stream",
     "text": [
      "Comprehensive Analysis Results:\n",
      "{'basic_stats': {'Number of nodes': 208, 'Number of edges': 207, 'Average degree': 1.9903846153846154, 'Density': 0.009615384615384616, 'Is connected': True, 'Highest degree nodes': [('TP53', 207), ('MTOR', 1), ('KDR', 1), ('EGFR', 1), ('CDK4', 1)]}, 'centralities': {'degree_centrality': {'MTOR': 0.004830917874396135, 'TP53': 1.0, 'KDR': 0.004830917874396135, 'EGFR': 0.004830917874396135, 'CDK4': 0.004830917874396135, 'GLIS1': 0.004830917874396135, 'CNTRL': 0.004830917874396135, 'EFNB2': 0.004830917874396135, 'CCDC54': 0.004830917874396135, 'RGAG4': 0.004830917874396135, 'PGLYRP4': 0.004830917874396135, 'PSMC3': 0.004830917874396135, 'ZNF207': 0.004830917874396135, 'GLTSCR1L': 0.004830917874396135, 'SLC2A1': 0.004830917874396135, 'NFXL1': 0.004830917874396135, 'ZNF230': 0.004830917874396135, 'NABP1': 0.004830917874396135, 'LIMS2': 0.004830917874396135, 'BRD7': 0.004830917874396135, 'ERBB3': 0.004830917874396135, 'IKBKG': 0.004830917874396135, 'ZMAT2': 0.004830917874396135, 'CNIH3': 0.004830917874396135, 'SYT12': 0.004830917874396135, 'RPUSD4': 0.004830917874396135, 'THRB': 0.004830917874396135, 'DAOA': 0.004830917874396135, 'CD8A': 0.004830917874396135, 'PRIMA1': 0.004830917874396135, 'C11orf68': 0.004830917874396135, 'SETD4': 0.004830917874396135, 'NR3C2': 0.004830917874396135, 'ABHD16B': 0.004830917874396135, 'PCID2': 0.004830917874396135, 'OR8G2': 0.004830917874396135, 'SMARCD3': 0.004830917874396135, 'TRNT1': 0.004830917874396135, 'C18orf21': 0.004830917874396135, 'EDC4': 0.004830917874396135, 'PTCHD3': 0.004830917874396135, 'TRPT1': 0.004830917874396135, 'FUT10': 0.004830917874396135, 'CDK9': 0.004830917874396135, 'SCLY': 0.004830917874396135, 'WNT4': 0.004830917874396135, 'UTF1': 0.004830917874396135, 'SYT5': 0.004830917874396135, 'ZNF268': 0.004830917874396135, 'ORC3': 0.004830917874396135, 'MAGI3': 0.004830917874396135, 'FCRL6': 0.004830917874396135, 'FAM24A': 0.004830917874396135, 'CAPN7': 0.004830917874396135, 'LIN54': 0.004830917874396135, 'C16orf59': 0.004830917874396135, 'NDUFV3': 0.004830917874396135, 'SYN2': 0.004830917874396135, 'GPER1': 0.004830917874396135, 'CRYGC': 0.004830917874396135, 'ASTL': 0.004830917874396135, 'USP4': 0.004830917874396135, 'PVRIG': 0.004830917874396135, 'COL14A1': 0.004830917874396135, 'ERI3': 0.004830917874396135, 'KCNA5': 0.004830917874396135, 'POMP': 0.004830917874396135, 'NKG7': 0.004830917874396135, 'TMEM86A': 0.004830917874396135, 'TRIM3': 0.004830917874396135, 'TAS2R60': 0.004830917874396135, 'STOML3': 0.004830917874396135, 'MAD2L2': 0.004830917874396135, 'TXNL1': 0.004830917874396135, 'TMED1': 0.004830917874396135, 'ARL14EPL': 0.004830917874396135, 'CCDC86': 0.004830917874396135, 'GNAS': 0.004830917874396135, 'FAM47E-STBD1': 0.004830917874396135, 'LOC554223': 0.004830917874396135, 'FAM174A': 0.004830917874396135, 'LRRC15': 0.004830917874396135, 'MB21D2': 0.004830917874396135, 'ATP2C1': 0.004830917874396135, 'OTULIN': 0.004830917874396135, 'KRT5': 0.004830917874396135, 'KDM1A': 0.004830917874396135, 'PUM2': 0.004830917874396135, 'ZNF79': 0.004830917874396135, 'AKR1A1': 0.004830917874396135, 'GNPNAT1': 0.004830917874396135, 'LRRC27': 0.004830917874396135, 'FUBP3': 0.004830917874396135, 'GATAD2B': 0.004830917874396135, 'TBC1D21': 0.004830917874396135, 'OR2L5': 0.004830917874396135, 'CHRFAM7A': 0.004830917874396135, 'TAMM41': 0.004830917874396135, 'TMEM116': 0.004830917874396135, 'TRAM1L1': 0.004830917874396135, 'NTSR2': 0.004830917874396135, 'WDR83': 0.004830917874396135, 'URB2': 0.004830917874396135, 'TGIF2': 0.004830917874396135, 'NFKBIA': 0.004830917874396135, 'ZCCHC18': 0.004830917874396135, 'LOH12CR1': 0.004830917874396135, 'RAPSN': 0.004830917874396135, 'OGN': 0.004830917874396135, 'CADM4': 0.004830917874396135, 'PRY2': 0.004830917874396135, 'NKAIN4': 0.004830917874396135, 'TMCO2': 0.004830917874396135, 'OR51M1': 0.004830917874396135, 'RIMBP2': 0.004830917874396135, 'SSX5': 0.004830917874396135, 'GATA2': 0.004830917874396135, 'PRR11': 0.004830917874396135, 'SLFN5': 0.004830917874396135, 'DYRK2': 0.004830917874396135, 'KMT2D': 0.004830917874396135, 'DCAF10': 0.004830917874396135, 'GLRA1': 0.004830917874396135, 'SLC38A10': 0.004830917874396135, 'BDKRB1': 0.004830917874396135, 'TRIP12': 0.004830917874396135, 'POLR2C': 0.004830917874396135, 'HAGH': 0.004830917874396135, 'LGR6': 0.004830917874396135, 'RCC1': 0.004830917874396135, 'SPATA31A1': 0.004830917874396135, 'CSN3': 0.004830917874396135, 'TRIM42': 0.004830917874396135, 'TAF1C': 0.004830917874396135, 'PCGF1': 0.004830917874396135, 'ATN1': 0.004830917874396135, 'SLC25A34': 0.004830917874396135, 'POGLUT1': 0.004830917874396135, 'MPP1': 0.004830917874396135, 'HMX1': 0.004830917874396135, 'SST': 0.004830917874396135, 'RIT1': 0.004830917874396135, 'KLHL15': 0.004830917874396135, 'LIN7C': 0.004830917874396135, 'CNBP': 0.004830917874396135, 'B4GALT7': 0.004830917874396135, 'NSMF': 0.004830917874396135, 'IGF2BP1': 0.004830917874396135, 'KIAA0907': 0.004830917874396135, 'OPRD1': 0.004830917874396135, 'STX18': 0.004830917874396135, 'UNC13D': 0.004830917874396135, 'CAB39': 0.004830917874396135, 'CNKSR2': 0.004830917874396135, 'TADA1': 0.004830917874396135, 'WRAP53': 0.004830917874396135, 'RPRD1B': 0.004830917874396135, 'BPTF': 0.004830917874396135, 'TYMS': 0.004830917874396135, 'UROS': 0.004830917874396135, 'GYPC': 0.004830917874396135, 'PRO1596': 0.004830917874396135, 'CD69': 0.004830917874396135, 'PDXP': 0.004830917874396135, 'THADA': 0.004830917874396135, 'KCNJ10': 0.004830917874396135, 'ABCA12': 0.004830917874396135, 'UBA6': 0.004830917874396135, 'CDC7': 0.004830917874396135, 'ID1': 0.004830917874396135, 'CTBS': 0.004830917874396135, 'EIF2B3': 0.004830917874396135, 'UFM1': 0.004830917874396135, 'PTCD1': 0.004830917874396135, 'TPCN2': 0.004830917874396135, 'NEURL1': 0.004830917874396135, 'STEAP4': 0.004830917874396135, 'C19orf40': 0.004830917874396135, 'C19orf38': 0.004830917874396135, 'C14orf37': 0.004830917874396135, 'NIM1K': 0.004830917874396135, 'GP6': 0.004830917874396135, 'BCL2L14': 0.004830917874396135, 'HILS1': 0.004830917874396135, 'CLDND2': 0.004830917874396135, 'UMOD': 0.004830917874396135, 'RHAG': 0.004830917874396135, 'GFPT2': 0.004830917874396135, 'SATL1': 0.004830917874396135, 'RTN4IP1': 0.004830917874396135, 'DOK7': 0.004830917874396135, 'NUP98': 0.004830917874396135, 'PWWP2A': 0.004830917874396135, 'MEP1A': 0.004830917874396135, 'CCT6B': 0.004830917874396135, 'ZNF300': 0.004830917874396135, 'DEFB125': 0.004830917874396135, 'GJA5': 0.004830917874396135, 'EFNA4': 0.004830917874396135, 'NMNAT1': 0.004830917874396135, 'KLHL10': 0.004830917874396135, 'LMLN': 0.004830917874396135, 'FBXO22': 0.004830917874396135, 'ITGB7': 0.004830917874396135, 'CPN1': 0.004830917874396135, 'COLQ': 0.004830917874396135, 'AP3B2': 0.004830917874396135, 'ANXA11': 0.004830917874396135}, 'betweenness_centrality': {'MTOR': 0.0, 'TP53': 1.0, 'KDR': 0.0, 'EGFR': 0.0, 'CDK4': 0.0, 'GLIS1': 0.0, 'CNTRL': 0.0, 'EFNB2': 0.0, 'CCDC54': 0.0, 'RGAG4': 0.0, 'PGLYRP4': 0.0, 'PSMC3': 0.0, 'ZNF207': 0.0, 'GLTSCR1L': 0.0, 'SLC2A1': 0.0, 'NFXL1': 0.0, 'ZNF230': 0.0, 'NABP1': 0.0, 'LIMS2': 0.0, 'BRD7': 0.0, 'ERBB3': 0.0, 'IKBKG': 0.0, 'ZMAT2': 0.0, 'CNIH3': 0.0, 'SYT12': 0.0, 'RPUSD4': 0.0, 'THRB': 0.0, 'DAOA': 0.0, 'CD8A': 0.0, 'PRIMA1': 0.0, 'C11orf68': 0.0, 'SETD4': 0.0, 'NR3C2': 0.0, 'ABHD16B': 0.0, 'PCID2': 0.0, 'OR8G2': 0.0, 'SMARCD3': 0.0, 'TRNT1': 0.0, 'C18orf21': 0.0, 'EDC4': 0.0, 'PTCHD3': 0.0, 'TRPT1': 0.0, 'FUT10': 0.0, 'CDK9': 0.0, 'SCLY': 0.0, 'WNT4': 0.0, 'UTF1': 0.0, 'SYT5': 0.0, 'ZNF268': 0.0, 'ORC3': 0.0, 'MAGI3': 0.0, 'FCRL6': 0.0, 'FAM24A': 0.0, 'CAPN7': 0.0, 'LIN54': 0.0, 'C16orf59': 0.0, 'NDUFV3': 0.0, 'SYN2': 0.0, 'GPER1': 0.0, 'CRYGC': 0.0, 'ASTL': 0.0, 'USP4': 0.0, 'PVRIG': 0.0, 'COL14A1': 0.0, 'ERI3': 0.0, 'KCNA5': 0.0, 'POMP': 0.0, 'NKG7': 0.0, 'TMEM86A': 0.0, 'TRIM3': 0.0, 'TAS2R60': 0.0, 'STOML3': 0.0, 'MAD2L2': 0.0, 'TXNL1': 0.0, 'TMED1': 0.0, 'ARL14EPL': 0.0, 'CCDC86': 0.0, 'GNAS': 0.0, 'FAM47E-STBD1': 0.0, 'LOC554223': 0.0, 'FAM174A': 0.0, 'LRRC15': 0.0, 'MB21D2': 0.0, 'ATP2C1': 0.0, 'OTULIN': 0.0, 'KRT5': 0.0, 'KDM1A': 0.0, 'PUM2': 0.0, 'ZNF79': 0.0, 'AKR1A1': 0.0, 'GNPNAT1': 0.0, 'LRRC27': 0.0, 'FUBP3': 0.0, 'GATAD2B': 0.0, 'TBC1D21': 0.0, 'OR2L5': 0.0, 'CHRFAM7A': 0.0, 'TAMM41': 0.0, 'TMEM116': 0.0, 'TRAM1L1': 0.0, 'NTSR2': 0.0, 'WDR83': 0.0, 'URB2': 0.0, 'TGIF2': 0.0, 'NFKBIA': 0.0, 'ZCCHC18': 0.0, 'LOH12CR1': 0.0, 'RAPSN': 0.0, 'OGN': 0.0, 'CADM4': 0.0, 'PRY2': 0.0, 'NKAIN4': 0.0, 'TMCO2': 0.0, 'OR51M1': 0.0, 'RIMBP2': 0.0, 'SSX5': 0.0, 'GATA2': 0.0, 'PRR11': 0.0, 'SLFN5': 0.0, 'DYRK2': 0.0, 'KMT2D': 0.0, 'DCAF10': 0.0, 'GLRA1': 0.0, 'SLC38A10': 0.0, 'BDKRB1': 0.0, 'TRIP12': 0.0, 'POLR2C': 0.0, 'HAGH': 0.0, 'LGR6': 0.0, 'RCC1': 0.0, 'SPATA31A1': 0.0, 'CSN3': 0.0, 'TRIM42': 0.0, 'TAF1C': 0.0, 'PCGF1': 0.0, 'ATN1': 0.0, 'SLC25A34': 0.0, 'POGLUT1': 0.0, 'MPP1': 0.0, 'HMX1': 0.0, 'SST': 0.0, 'RIT1': 0.0, 'KLHL15': 0.0, 'LIN7C': 0.0, 'CNBP': 0.0, 'B4GALT7': 0.0, 'NSMF': 0.0, 'IGF2BP1': 0.0, 'KIAA0907': 0.0, 'OPRD1': 0.0, 'STX18': 0.0, 'UNC13D': 0.0, 'CAB39': 0.0, 'CNKSR2': 0.0, 'TADA1': 0.0, 'WRAP53': 0.0, 'RPRD1B': 0.0, 'BPTF': 0.0, 'TYMS': 0.0, 'UROS': 0.0, 'GYPC': 0.0, 'PRO1596': 0.0, 'CD69': 0.0, 'PDXP': 0.0, 'THADA': 0.0, 'KCNJ10': 0.0, 'ABCA12': 0.0, 'UBA6': 0.0, 'CDC7': 0.0, 'ID1': 0.0, 'CTBS': 0.0, 'EIF2B3': 0.0, 'UFM1': 0.0, 'PTCD1': 0.0, 'TPCN2': 0.0, 'NEURL1': 0.0, 'STEAP4': 0.0, 'C19orf40': 0.0, 'C19orf38': 0.0, 'C14orf37': 0.0, 'NIM1K': 0.0, 'GP6': 0.0, 'BCL2L14': 0.0, 'HILS1': 0.0, 'CLDND2': 0.0, 'UMOD': 0.0, 'RHAG': 0.0, 'GFPT2': 0.0, 'SATL1': 0.0, 'RTN4IP1': 0.0, 'DOK7': 0.0, 'NUP98': 0.0, 'PWWP2A': 0.0, 'MEP1A': 0.0, 'CCT6B': 0.0, 'ZNF300': 0.0, 'DEFB125': 0.0, 'GJA5': 0.0, 'EFNA4': 0.0, 'NMNAT1': 0.0, 'KLHL10': 0.0, 'LMLN': 0.0, 'FBXO22': 0.0, 'ITGB7': 0.0, 'CPN1': 0.0, 'COLQ': 0.0, 'AP3B2': 0.0, 'ANXA11': 0.0}, 'closeness_centrality': {'MTOR': 0.5012106537530266, 'TP53': 1.0, 'KDR': 0.5012106537530266, 'EGFR': 0.5012106537530266, 'CDK4': 0.5012106537530266, 'GLIS1': 0.5012106537530266, 'CNTRL': 0.5012106537530266, 'EFNB2': 0.5012106537530266, 'CCDC54': 0.5012106537530266, 'RGAG4': 0.5012106537530266, 'PGLYRP4': 0.5012106537530266, 'PSMC3': 0.5012106537530266, 'ZNF207': 0.5012106537530266, 'GLTSCR1L': 0.5012106537530266, 'SLC2A1': 0.5012106537530266, 'NFXL1': 0.5012106537530266, 'ZNF230': 0.5012106537530266, 'NABP1': 0.5012106537530266, 'LIMS2': 0.5012106537530266, 'BRD7': 0.5012106537530266, 'ERBB3': 0.5012106537530266, 'IKBKG': 0.5012106537530266, 'ZMAT2': 0.5012106537530266, 'CNIH3': 0.5012106537530266, 'SYT12': 0.5012106537530266, 'RPUSD4': 0.5012106537530266, 'THRB': 0.5012106537530266, 'DAOA': 0.5012106537530266, 'CD8A': 0.5012106537530266, 'PRIMA1': 0.5012106537530266, 'C11orf68': 0.5012106537530266, 'SETD4': 0.5012106537530266, 'NR3C2': 0.5012106537530266, 'ABHD16B': 0.5012106537530266, 'PCID2': 0.5012106537530266, 'OR8G2': 0.5012106537530266, 'SMARCD3': 0.5012106537530266, 'TRNT1': 0.5012106537530266, 'C18orf21': 0.5012106537530266, 'EDC4': 0.5012106537530266, 'PTCHD3': 0.5012106537530266, 'TRPT1': 0.5012106537530266, 'FUT10': 0.5012106537530266, 'CDK9': 0.5012106537530266, 'SCLY': 0.5012106537530266, 'WNT4': 0.5012106537530266, 'UTF1': 0.5012106537530266, 'SYT5': 0.5012106537530266, 'ZNF268': 0.5012106537530266, 'ORC3': 0.5012106537530266, 'MAGI3': 0.5012106537530266, 'FCRL6': 0.5012106537530266, 'FAM24A': 0.5012106537530266, 'CAPN7': 0.5012106537530266, 'LIN54': 0.5012106537530266, 'C16orf59': 0.5012106537530266, 'NDUFV3': 0.5012106537530266, 'SYN2': 0.5012106537530266, 'GPER1': 0.5012106537530266, 'CRYGC': 0.5012106537530266, 'ASTL': 0.5012106537530266, 'USP4': 0.5012106537530266, 'PVRIG': 0.5012106537530266, 'COL14A1': 0.5012106537530266, 'ERI3': 0.5012106537530266, 'KCNA5': 0.5012106537530266, 'POMP': 0.5012106537530266, 'NKG7': 0.5012106537530266, 'TMEM86A': 0.5012106537530266, 'TRIM3': 0.5012106537530266, 'TAS2R60': 0.5012106537530266, 'STOML3': 0.5012106537530266, 'MAD2L2': 0.5012106537530266, 'TXNL1': 0.5012106537530266, 'TMED1': 0.5012106537530266, 'ARL14EPL': 0.5012106537530266, 'CCDC86': 0.5012106537530266, 'GNAS': 0.5012106537530266, 'FAM47E-STBD1': 0.5012106537530266, 'LOC554223': 0.5012106537530266, 'FAM174A': 0.5012106537530266, 'LRRC15': 0.5012106537530266, 'MB21D2': 0.5012106537530266, 'ATP2C1': 0.5012106537530266, 'OTULIN': 0.5012106537530266, 'KRT5': 0.5012106537530266, 'KDM1A': 0.5012106537530266, 'PUM2': 0.5012106537530266, 'ZNF79': 0.5012106537530266, 'AKR1A1': 0.5012106537530266, 'GNPNAT1': 0.5012106537530266, 'LRRC27': 0.5012106537530266, 'FUBP3': 0.5012106537530266, 'GATAD2B': 0.5012106537530266, 'TBC1D21': 0.5012106537530266, 'OR2L5': 0.5012106537530266, 'CHRFAM7A': 0.5012106537530266, 'TAMM41': 0.5012106537530266, 'TMEM116': 0.5012106537530266, 'TRAM1L1': 0.5012106537530266, 'NTSR2': 0.5012106537530266, 'WDR83': 0.5012106537530266, 'URB2': 0.5012106537530266, 'TGIF2': 0.5012106537530266, 'NFKBIA': 0.5012106537530266, 'ZCCHC18': 0.5012106537530266, 'LOH12CR1': 0.5012106537530266, 'RAPSN': 0.5012106537530266, 'OGN': 0.5012106537530266, 'CADM4': 0.5012106537530266, 'PRY2': 0.5012106537530266, 'NKAIN4': 0.5012106537530266, 'TMCO2': 0.5012106537530266, 'OR51M1': 0.5012106537530266, 'RIMBP2': 0.5012106537530266, 'SSX5': 0.5012106537530266, 'GATA2': 0.5012106537530266, 'PRR11': 0.5012106537530266, 'SLFN5': 0.5012106537530266, 'DYRK2': 0.5012106537530266, 'KMT2D': 0.5012106537530266, 'DCAF10': 0.5012106537530266, 'GLRA1': 0.5012106537530266, 'SLC38A10': 0.5012106537530266, 'BDKRB1': 0.5012106537530266, 'TRIP12': 0.5012106537530266, 'POLR2C': 0.5012106537530266, 'HAGH': 0.5012106537530266, 'LGR6': 0.5012106537530266, 'RCC1': 0.5012106537530266, 'SPATA31A1': 0.5012106537530266, 'CSN3': 0.5012106537530266, 'TRIM42': 0.5012106537530266, 'TAF1C': 0.5012106537530266, 'PCGF1': 0.5012106537530266, 'ATN1': 0.5012106537530266, 'SLC25A34': 0.5012106537530266, 'POGLUT1': 0.5012106537530266, 'MPP1': 0.5012106537530266, 'HMX1': 0.5012106537530266, 'SST': 0.5012106537530266, 'RIT1': 0.5012106537530266, 'KLHL15': 0.5012106537530266, 'LIN7C': 0.5012106537530266, 'CNBP': 0.5012106537530266, 'B4GALT7': 0.5012106537530266, 'NSMF': 0.5012106537530266, 'IGF2BP1': 0.5012106537530266, 'KIAA0907': 0.5012106537530266, 'OPRD1': 0.5012106537530266, 'STX18': 0.5012106537530266, 'UNC13D': 0.5012106537530266, 'CAB39': 0.5012106537530266, 'CNKSR2': 0.5012106537530266, 'TADA1': 0.5012106537530266, 'WRAP53': 0.5012106537530266, 'RPRD1B': 0.5012106537530266, 'BPTF': 0.5012106537530266, 'TYMS': 0.5012106537530266, 'UROS': 0.5012106537530266, 'GYPC': 0.5012106537530266, 'PRO1596': 0.5012106537530266, 'CD69': 0.5012106537530266, 'PDXP': 0.5012106537530266, 'THADA': 0.5012106537530266, 'KCNJ10': 0.5012106537530266, 'ABCA12': 0.5012106537530266, 'UBA6': 0.5012106537530266, 'CDC7': 0.5012106537530266, 'ID1': 0.5012106537530266, 'CTBS': 0.5012106537530266, 'EIF2B3': 0.5012106537530266, 'UFM1': 0.5012106537530266, 'PTCD1': 0.5012106537530266, 'TPCN2': 0.5012106537530266, 'NEURL1': 0.5012106537530266, 'STEAP4': 0.5012106537530266, 'C19orf40': 0.5012106537530266, 'C19orf38': 0.5012106537530266, 'C14orf37': 0.5012106537530266, 'NIM1K': 0.5012106537530266, 'GP6': 0.5012106537530266, 'BCL2L14': 0.5012106537530266, 'HILS1': 0.5012106537530266, 'CLDND2': 0.5012106537530266, 'UMOD': 0.5012106537530266, 'RHAG': 0.5012106537530266, 'GFPT2': 0.5012106537530266, 'SATL1': 0.5012106537530266, 'RTN4IP1': 0.5012106537530266, 'DOK7': 0.5012106537530266, 'NUP98': 0.5012106537530266, 'PWWP2A': 0.5012106537530266, 'MEP1A': 0.5012106537530266, 'CCT6B': 0.5012106537530266, 'ZNF300': 0.5012106537530266, 'DEFB125': 0.5012106537530266, 'GJA5': 0.5012106537530266, 'EFNA4': 0.5012106537530266, 'NMNAT1': 0.5012106537530266, 'KLHL10': 0.5012106537530266, 'LMLN': 0.5012106537530266, 'FBXO22': 0.5012106537530266, 'ITGB7': 0.5012106537530266, 'CPN1': 0.5012106537530266, 'COLQ': 0.5012106537530266, 'AP3B2': 0.5012106537530266, 'ANXA11': 0.5012106537530266}, 'eigenvector_centrality': {'MTOR': 0.04914690932680151, 'TP53': 0.7071126712554316, 'KDR': 0.04914690932680151, 'EGFR': 0.04914690932680151, 'CDK4': 0.04914690932680151, 'GLIS1': 0.04914690932680151, 'CNTRL': 0.04914690932680151, 'EFNB2': 0.04914690932680151, 'CCDC54': 0.04914690932680151, 'RGAG4': 0.04914690932680151, 'PGLYRP4': 0.04914690932680151, 'PSMC3': 0.04914690932680151, 'ZNF207': 0.04914690932680151, 'GLTSCR1L': 0.04914690932680151, 'SLC2A1': 0.04914690932680151, 'NFXL1': 0.04914690932680151, 'ZNF230': 0.04914690932680151, 'NABP1': 0.04914690932680151, 'LIMS2': 0.04914690932680151, 'BRD7': 0.04914690932680151, 'ERBB3': 0.04914690932680151, 'IKBKG': 0.04914690932680151, 'ZMAT2': 0.04914690932680151, 'CNIH3': 0.04914690932680151, 'SYT12': 0.04914690932680151, 'RPUSD4': 0.04914690932680151, 'THRB': 0.04914690932680151, 'DAOA': 0.04914690932680151, 'CD8A': 0.04914690932680151, 'PRIMA1': 0.04914690932680151, 'C11orf68': 0.04914690932680151, 'SETD4': 0.04914690932680151, 'NR3C2': 0.04914690932680151, 'ABHD16B': 0.04914690932680151, 'PCID2': 0.04914690932680151, 'OR8G2': 0.04914690932680151, 'SMARCD3': 0.04914690932680151, 'TRNT1': 0.04914690932680151, 'C18orf21': 0.04914690932680151, 'EDC4': 0.04914690932680151, 'PTCHD3': 0.04914690932680151, 'TRPT1': 0.04914690932680151, 'FUT10': 0.04914690932680151, 'CDK9': 0.04914690932680151, 'SCLY': 0.04914690932680151, 'WNT4': 0.04914690932680151, 'UTF1': 0.04914690932680151, 'SYT5': 0.04914690932680151, 'ZNF268': 0.04914690932680151, 'ORC3': 0.04914690932680151, 'MAGI3': 0.04914690932680151, 'FCRL6': 0.04914690932680151, 'FAM24A': 0.04914690932680151, 'CAPN7': 0.04914690932680151, 'LIN54': 0.04914690932680151, 'C16orf59': 0.04914690932680151, 'NDUFV3': 0.04914690932680151, 'SYN2': 0.04914690932680151, 'GPER1': 0.04914690932680151, 'CRYGC': 0.04914690932680151, 'ASTL': 0.04914690932680151, 'USP4': 0.04914690932680151, 'PVRIG': 0.04914690932680151, 'COL14A1': 0.04914690932680151, 'ERI3': 0.04914690932680151, 'KCNA5': 0.04914690932680151, 'POMP': 0.04914690932680151, 'NKG7': 0.04914690932680151, 'TMEM86A': 0.04914690932680151, 'TRIM3': 0.04914690932680151, 'TAS2R60': 0.04914690932680151, 'STOML3': 0.04914690932680151, 'MAD2L2': 0.04914690932680151, 'TXNL1': 0.04914690932680151, 'TMED1': 0.04914690932680151, 'ARL14EPL': 0.04914690932680151, 'CCDC86': 0.04914690932680151, 'GNAS': 0.04914690932680151, 'FAM47E-STBD1': 0.04914690932680151, 'LOC554223': 0.04914690932680151, 'FAM174A': 0.04914690932680151, 'LRRC15': 0.04914690932680151, 'MB21D2': 0.04914690932680151, 'ATP2C1': 0.04914690932680151, 'OTULIN': 0.04914690932680151, 'KRT5': 0.04914690932680151, 'KDM1A': 0.04914690932680151, 'PUM2': 0.04914690932680151, 'ZNF79': 0.04914690932680151, 'AKR1A1': 0.04914690932680151, 'GNPNAT1': 0.04914690932680151, 'LRRC27': 0.04914690932680151, 'FUBP3': 0.04914690932680151, 'GATAD2B': 0.04914690932680151, 'TBC1D21': 0.04914690932680151, 'OR2L5': 0.04914690932680151, 'CHRFAM7A': 0.04914690932680151, 'TAMM41': 0.04914690932680151, 'TMEM116': 0.04914690932680151, 'TRAM1L1': 0.04914690932680151, 'NTSR2': 0.04914690932680151, 'WDR83': 0.04914690932680151, 'URB2': 0.04914690932680151, 'TGIF2': 0.04914690932680151, 'NFKBIA': 0.04914690932680151, 'ZCCHC18': 0.04914690932680151, 'LOH12CR1': 0.04914690932680151, 'RAPSN': 0.04914690932680151, 'OGN': 0.04914690932680151, 'CADM4': 0.04914690932680151, 'PRY2': 0.04914690932680151, 'NKAIN4': 0.04914690932680151, 'TMCO2': 0.04914690932680151, 'OR51M1': 0.04914690932680151, 'RIMBP2': 0.04914690932680151, 'SSX5': 0.04914690932680151, 'GATA2': 0.04914690932680151, 'PRR11': 0.04914690932680151, 'SLFN5': 0.04914690932680151, 'DYRK2': 0.04914690932680151, 'KMT2D': 0.04914690932680151, 'DCAF10': 0.04914690932680151, 'GLRA1': 0.04914690932680151, 'SLC38A10': 0.04914690932680151, 'BDKRB1': 0.04914690932680151, 'TRIP12': 0.04914690932680151, 'POLR2C': 0.04914690932680151, 'HAGH': 0.04914690932680151, 'LGR6': 0.04914690932680151, 'RCC1': 0.04914690932680151, 'SPATA31A1': 0.04914690932680151, 'CSN3': 0.04914690932680151, 'TRIM42': 0.04914690932680151, 'TAF1C': 0.04914690932680151, 'PCGF1': 0.04914690932680151, 'ATN1': 0.04914690932680151, 'SLC25A34': 0.04914690932680151, 'POGLUT1': 0.04914690932680151, 'MPP1': 0.04914690932680151, 'HMX1': 0.04914690932680151, 'SST': 0.04914690932680151, 'RIT1': 0.04914690932680151, 'KLHL15': 0.04914690932680151, 'LIN7C': 0.04914690932680151, 'CNBP': 0.04914690932680151, 'B4GALT7': 0.04914690932680151, 'NSMF': 0.04914690932680151, 'IGF2BP1': 0.04914690932680151, 'KIAA0907': 0.04914690932680151, 'OPRD1': 0.04914690932680151, 'STX18': 0.04914690932680151, 'UNC13D': 0.04914690932680151, 'CAB39': 0.04914690932680151, 'CNKSR2': 0.04914690932680151, 'TADA1': 0.04914690932680151, 'WRAP53': 0.04914690932680151, 'RPRD1B': 0.04914690932680151, 'BPTF': 0.04914690932680151, 'TYMS': 0.04914690932680151, 'UROS': 0.04914690932680151, 'GYPC': 0.04914690932680151, 'PRO1596': 0.04914690932680151, 'CD69': 0.04914690932680151, 'PDXP': 0.04914690932680151, 'THADA': 0.04914690932680151, 'KCNJ10': 0.04914690932680151, 'ABCA12': 0.04914690932680151, 'UBA6': 0.04914690932680151, 'CDC7': 0.04914690932680151, 'ID1': 0.04914690932680151, 'CTBS': 0.04914690932680151, 'EIF2B3': 0.04914690932680151, 'UFM1': 0.04914690932680151, 'PTCD1': 0.04914690932680151, 'TPCN2': 0.04914690932680151, 'NEURL1': 0.04914690932680151, 'STEAP4': 0.04914690932680151, 'C19orf40': 0.04914690932680151, 'C19orf38': 0.04914690932680151, 'C14orf37': 0.04914690932680151, 'NIM1K': 0.04914690932680151, 'GP6': 0.04914690932680151, 'BCL2L14': 0.04914690932680151, 'HILS1': 0.04914690932680151, 'CLDND2': 0.04914690932680151, 'UMOD': 0.04914690932680151, 'RHAG': 0.04914690932680151, 'GFPT2': 0.04914690932680151, 'SATL1': 0.04914690932680151, 'RTN4IP1': 0.04914690932680151, 'DOK7': 0.04914690932680151, 'NUP98': 0.04914690932680151, 'PWWP2A': 0.04914690932680151, 'MEP1A': 0.04914690932680151, 'CCT6B': 0.04914690932680151, 'ZNF300': 0.04914690932680151, 'DEFB125': 0.04914690932680151, 'GJA5': 0.04914690932680151, 'EFNA4': 0.04914690932680151, 'NMNAT1': 0.04914690932680151, 'KLHL10': 0.04914690932680151, 'LMLN': 0.04914690932680151, 'FBXO22': 0.04914690932680151, 'ITGB7': 0.04914690932680151, 'CPN1': 0.04914690932680151, 'COLQ': 0.04914690932680151, 'AP3B2': 0.04914690932680151, 'ANXA11': 0.04914690932680151}}, 'communities': {'MTOR': 0, 'TP53': 0, 'KDR': 0, 'EGFR': 0, 'CDK4': 0, 'GLIS1': 0, 'CNTRL': 0, 'EFNB2': 0, 'CCDC54': 0, 'RGAG4': 0, 'PGLYRP4': 0, 'PSMC3': 0, 'ZNF207': 0, 'GLTSCR1L': 0, 'SLC2A1': 0, 'NFXL1': 0, 'ZNF230': 0, 'NABP1': 0, 'LIMS2': 0, 'BRD7': 0, 'ERBB3': 0, 'IKBKG': 0, 'ZMAT2': 0, 'CNIH3': 0, 'SYT12': 0, 'RPUSD4': 0, 'THRB': 0, 'DAOA': 0, 'CD8A': 0, 'PRIMA1': 0, 'C11orf68': 0, 'SETD4': 0, 'NR3C2': 0, 'ABHD16B': 0, 'PCID2': 0, 'OR8G2': 0, 'SMARCD3': 0, 'TRNT1': 0, 'C18orf21': 0, 'EDC4': 0, 'PTCHD3': 0, 'TRPT1': 0, 'FUT10': 0, 'CDK9': 0, 'SCLY': 0, 'WNT4': 0, 'UTF1': 0, 'SYT5': 0, 'ZNF268': 0, 'ORC3': 0, 'MAGI3': 0, 'FCRL6': 0, 'FAM24A': 0, 'CAPN7': 0, 'LIN54': 0, 'C16orf59': 0, 'NDUFV3': 0, 'SYN2': 0, 'GPER1': 0, 'CRYGC': 0, 'ASTL': 0, 'USP4': 0, 'PVRIG': 0, 'COL14A1': 0, 'ERI3': 0, 'KCNA5': 0, 'POMP': 0, 'NKG7': 0, 'TMEM86A': 0, 'TRIM3': 0, 'TAS2R60': 0, 'STOML3': 0, 'MAD2L2': 0, 'TXNL1': 0, 'TMED1': 0, 'ARL14EPL': 0, 'CCDC86': 0, 'GNAS': 0, 'FAM47E-STBD1': 0, 'LOC554223': 0, 'FAM174A': 0, 'LRRC15': 0, 'MB21D2': 0, 'ATP2C1': 0, 'OTULIN': 0, 'KRT5': 0, 'KDM1A': 0, 'PUM2': 0, 'ZNF79': 0, 'AKR1A1': 0, 'GNPNAT1': 0, 'LRRC27': 0, 'FUBP3': 0, 'GATAD2B': 0, 'TBC1D21': 0, 'OR2L5': 0, 'CHRFAM7A': 0, 'TAMM41': 0, 'TMEM116': 0, 'TRAM1L1': 0, 'NTSR2': 0, 'WDR83': 0, 'URB2': 0, 'TGIF2': 0, 'NFKBIA': 0, 'ZCCHC18': 0, 'LOH12CR1': 0, 'RAPSN': 0, 'OGN': 0, 'CADM4': 0, 'PRY2': 0, 'NKAIN4': 0, 'TMCO2': 0, 'OR51M1': 0, 'RIMBP2': 0, 'SSX5': 0, 'GATA2': 0, 'PRR11': 0, 'SLFN5': 0, 'DYRK2': 0, 'KMT2D': 0, 'DCAF10': 0, 'GLRA1': 0, 'SLC38A10': 0, 'BDKRB1': 0, 'TRIP12': 0, 'POLR2C': 0, 'HAGH': 0, 'LGR6': 0, 'RCC1': 0, 'SPATA31A1': 0, 'CSN3': 0, 'TRIM42': 0, 'TAF1C': 0, 'PCGF1': 0, 'ATN1': 0, 'SLC25A34': 0, 'POGLUT1': 0, 'MPP1': 0, 'HMX1': 0, 'SST': 0, 'RIT1': 0, 'KLHL15': 0, 'LIN7C': 0, 'CNBP': 0, 'B4GALT7': 0, 'NSMF': 0, 'IGF2BP1': 0, 'KIAA0907': 0, 'OPRD1': 0, 'STX18': 0, 'UNC13D': 0, 'CAB39': 0, 'CNKSR2': 0, 'TADA1': 0, 'WRAP53': 0, 'RPRD1B': 0, 'BPTF': 0, 'TYMS': 0, 'UROS': 0, 'GYPC': 0, 'PRO1596': 0, 'CD69': 0, 'PDXP': 0, 'THADA': 0, 'KCNJ10': 0, 'ABCA12': 0, 'UBA6': 0, 'CDC7': 0, 'ID1': 0, 'CTBS': 0, 'EIF2B3': 0, 'UFM1': 0, 'PTCD1': 0, 'TPCN2': 0, 'NEURL1': 0, 'STEAP4': 0, 'C19orf40': 0, 'C19orf38': 0, 'C14orf37': 0, 'NIM1K': 0, 'GP6': 0, 'BCL2L14': 0, 'HILS1': 0, 'CLDND2': 0, 'UMOD': 0, 'RHAG': 0, 'GFPT2': 0, 'SATL1': 0, 'RTN4IP1': 0, 'DOK7': 0, 'NUP98': 0, 'PWWP2A': 0, 'MEP1A': 0, 'CCT6B': 0, 'ZNF300': 0, 'DEFB125': 0, 'GJA5': 0, 'EFNA4': 0, 'NMNAT1': 0, 'KLHL10': 0, 'LMLN': 0, 'FBXO22': 0, 'ITGB7': 0, 'CPN1': 0, 'COLQ': 0, 'AP3B2': 0, 'ANXA11': 0}, 'clustering_coefficient': 0.0, 'additional_metrics': {'assortativity': -1.0, 'diameter': 2, 'average_path_length': 1.9903846153846154}}\n"
     ]
    }
   ],
   "source": [
    "# Example usage\n",
    "analysis_results = comprehensive_analysis(G)\n",
    "print(\"Comprehensive Analysis Results:\")\n",
    "print(analysis_results)"
   ]
  },
  {
   "cell_type": "markdown",
   "metadata": {},
   "source": [
    "## 5. Visualization"
   ]
  },
  {
   "cell_type": "code",
   "execution_count": 8,
   "metadata": {},
   "outputs": [],
   "source": [
    "def visualize_networkx_graph(G):\n",
    "    \"\"\"\n",
    "    Visualize the network using NetworkX and Matplotlib.\n",
    "\n",
    "    Args:\n",
    "        G (networkx.Graph): The gene interaction network.\n",
    "    \"\"\"\n",
    "    plt.figure(figsize=(10, 8))\n",
    "    pos = nx.spring_layout(G, seed=42)\n",
    "    nx.draw_networkx_nodes(G, pos, node_size=500, node_color='lightblue')\n",
    "    nx.draw_networkx_edges(G, pos, width=1, edge_color='gray')\n",
    "    nx.draw_networkx_labels(G, pos, font_size=10, font_family='sans-serif')\n",
    "    plt.title(\"Gene Interaction Network\")\n",
    "    plt.axis('off')\n",
    "    plt.show()\n",
    "\n",
    "def visualize_pyvis_graph(G, partition=None):\n",
    "    \"\"\"\n",
    "    Visualize the network using PyVis.\n",
    "\n",
    "    Args:\n",
    "        G (networkx.Graph): The gene interaction network.\n",
    "        partition (dict): Mapping of nodes to their community IDs.\n",
    "    \"\"\"\n",
    "    net = Network(notebook=True, height=\"750px\", width=\"100%\", bgcolor=\"#222222\", font_color=\"white\")\n",
    "    \n",
    "    # Add nodes with size based on degree\n",
    "    for node in G.nodes():\n",
    "        degree = G.degree(node)\n",
    "        net.add_node(node, label=node, size=degree * 2)\n",
    "    \n",
    "    # Add edges\n",
    "    for edge in G.edges():\n",
    "        net.add_edge(edge[0], edge[1])\n",
    "    \n",
    "    # Save and display the graph\n",
    "    net.show(str(biogrid_interactions_network_html))\n",
    "    logging.info(f\"Graph saved to {biogrid_interactions_network_html}\")"
   ]
  },
  {
   "cell_type": "code",
   "execution_count": 9,
   "metadata": {},
   "outputs": [
    {
     "name": "stderr",
     "output_type": "stream",
     "text": [
      "2025-01-13 18:21:34,848 - INFO - Graph saved to ../data/processed/TP53_interactions_network.html\n"
     ]
    },
    {
     "name": "stdout",
     "output_type": "stream",
     "text": [
      "Warning: When  cdn_resources is 'local' jupyter notebook has issues displaying graphics on chrome/safari. Use cdn_resources='in_line' or cdn_resources='remote' if you have issues viewing graphics in a notebook.\n",
      "../data/processed/TP53_interactions_network.html\n"
     ]
    }
   ],
   "source": [
    "# Example usage\n",
    "# visualize_networkx_graph(G)\n",
    "visualize_pyvis_graph(G)"
   ]
  },
  {
   "cell_type": "markdown",
   "metadata": {},
   "source": [
    "## 6. Summary and Export"
   ]
  },
  {
   "cell_type": "code",
   "execution_count": 10,
   "metadata": {},
   "outputs": [],
   "source": [
    "def print_summary(analysis_results):\n",
    "    \"\"\"\n",
    "    Print a summary of the analysis results.\n",
    "\n",
    "    Args:\n",
    "        analysis_results (dict): Comprehensive analysis results.\n",
    "    \"\"\"\n",
    "    print(\"Network Summary:\")\n",
    "    print(f\"Number of nodes: {analysis_results['basic_stats']['Number of nodes']}\")\n",
    "    print(f\"Number of edges: {analysis_results['basic_stats']['Number of edges']}\")\n",
    "    print(f\"Top 5 nodes by degree: {analysis_results['basic_stats']['Highest degree nodes']}\")\n",
    "    print(f\"Average clustering coefficient: {analysis_results['clustering_coefficient']}\")\n",
    "    print(f\"Network diameter: {analysis_results['additional_metrics']['diameter']}\")\n",
    "\n",
    "def export_graph(G, filepath):\n",
    "    \"\"\"\n",
    "    Export the graph to a file.\n",
    "\n",
    "    Args:\n",
    "        G (networkx.Graph): The gene interaction network.\n",
    "        filepath (Path): Path to save the graph.\n",
    "    \"\"\"\n",
    "    nx.write_graphml(G, filepath)\n",
    "    logging.info(f\"Graph exported to {filepath}\")"
   ]
  },
  {
   "cell_type": "code",
   "execution_count": 11,
   "metadata": {},
   "outputs": [
    {
     "name": "stderr",
     "output_type": "stream",
     "text": [
      "2025-01-13 18:21:34,874 - INFO - Graph exported to ../data/processed/TP53_interactions_network.graphml\n"
     ]
    },
    {
     "name": "stdout",
     "output_type": "stream",
     "text": [
      "Network Summary:\n",
      "Number of nodes: 208\n",
      "Number of edges: 207\n",
      "Top 5 nodes by degree: [('TP53', 207), ('MTOR', 1), ('KDR', 1), ('EGFR', 1), ('CDK4', 1)]\n",
      "Average clustering coefficient: 0.0\n",
      "Network diameter: 2\n"
     ]
    }
   ],
   "source": [
    "# Example usage\n",
    "print_summary(analysis_results)\n",
    "export_graph(G, biogrid_interactions_network_graphml)"
   ]
  }
 ],
 "metadata": {
  "kernelspec": {
   "display_name": ".venv",
   "language": "python",
   "name": "python3"
  },
  "language_info": {
   "codemirror_mode": {
    "name": "ipython",
    "version": 3
   },
   "file_extension": ".py",
   "mimetype": "text/x-python",
   "name": "python",
   "nbconvert_exporter": "python",
   "pygments_lexer": "ipython3",
   "version": "3.11.8"
  }
 },
 "nbformat": 4,
 "nbformat_minor": 2
}
