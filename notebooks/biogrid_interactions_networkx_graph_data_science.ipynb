{
 "cells": [
  {
   "cell_type": "markdown",
   "metadata": {},
   "source": [
    "# NetworkX BioGRID Interactions Analysis\n",
    "\n",
    "This notebook analyzes gene interaction networks using data from BioGRID. It includes:\n",
    "- Loading and parsing JSON data.\n",
    "- Creating a gene interaction network.\n",
    "- Performing comprehensive network analysis.\n",
    "- Visualizing the network.\n",
    "- Saving results and graphs."
   ]
  },
  {
   "cell_type": "markdown",
   "metadata": {},
   "source": [
    "## 1. Setup and Configuration"
   ]
  },
  {
   "cell_type": "code",
   "execution_count": 1,
   "metadata": {},
   "outputs": [],
   "source": [
    "from pathlib import Path\n",
    "import json\n",
    "import networkx as nx\n",
    "import plotly.graph_objects as go\n",
    "from pyvis.network import Network\n",
    "import logging\n",
    "import community as community_louvain  # For community detection\n",
    "import matplotlib.pyplot as plt\n",
    "\n",
    "# Configure logging\n",
    "logging.basicConfig(level=logging.INFO, format=\"%(asctime)s - %(levelname)s - %(message)s\")\n",
    "\n",
    "# Define paths\n",
    "INTERIM_DIR = Path(\"../data/interim\")\n",
    "PROCESSED_DIR = Path(\"../data/processed\")\n",
    "\n",
    "# Input JSON file (created using biogrid_interactions.ipynb)\n",
    "biogrid_interactions_json_file = \"pmid_35559673_interactions.json\"\n",
    "biogrid_interactions_json_src = INTERIM_DIR / biogrid_interactions_json_file\n",
    "\n",
    "# Output files\n",
    "biogrid_interactions_network_graphml = PROCESSED_DIR / biogrid_interactions_json_file.replace('.json', '_network.graphml')\n",
    "biogrid_interactions_network_html = PROCESSED_DIR / biogrid_interactions_json_file.replace('.json', '_network.html')"
   ]
  },
  {
   "cell_type": "markdown",
   "metadata": {},
   "source": [
    "## 2. Data Loading"
   ]
  },
  {
   "cell_type": "code",
   "execution_count": 2,
   "metadata": {},
   "outputs": [],
   "source": [
    "def load_json_data(filepath):\n",
    "    \"\"\"\n",
    "    Load JSON data from a file.\n",
    "\n",
    "    Args:\n",
    "        filepath (Path): Path to the JSON file.\n",
    "\n",
    "    Returns:\n",
    "        dict: Parsed JSON data.\n",
    "    \"\"\"\n",
    "    try:\n",
    "        with open(filepath, 'r') as f:\n",
    "            return json.load(f)\n",
    "    except FileNotFoundError:\n",
    "        logging.error(f\"File not found: {filepath}\")\n",
    "        raise\n",
    "    except json.JSONDecodeError:\n",
    "        logging.error(f\"Invalid JSON data in file: {filepath}\")\n",
    "        raise"
   ]
  },
  {
   "cell_type": "code",
   "execution_count": 3,
   "metadata": {},
   "outputs": [],
   "source": [
    "# Example usage\n",
    "json_data = load_json_data(biogrid_interactions_json_src)"
   ]
  },
  {
   "cell_type": "markdown",
   "metadata": {},
   "source": [
    "## 3. Graph Creation"
   ]
  },
  {
   "cell_type": "code",
   "execution_count": 4,
   "metadata": {},
   "outputs": [],
   "source": [
    "def create_gene_network(interactions):\n",
    "    \"\"\"\n",
    "    Create a gene interaction network from JSON data.\n",
    "\n",
    "    Args:\n",
    "        interactions (dict): Parsed JSON data containing gene interactions.\n",
    "\n",
    "    Returns:\n",
    "        G (networkx.Graph): A graph representing gene interactions.\n",
    "    \"\"\"\n",
    "    G = nx.Graph()\n",
    "    \n",
    "    for interaction_id, data in interactions.items():\n",
    "        try:\n",
    "            gene_a = data['OFFICIAL_SYMBOL_A']\n",
    "            gene_b = data['OFFICIAL_SYMBOL_B']\n",
    "        except KeyError:\n",
    "            logging.warning(f\"Skipping interaction {interaction_id} due to missing data.\")\n",
    "            continue\n",
    "        \n",
    "        # Add nodes with attributes\n",
    "        G.add_node(gene_a, entrez_id=data['ENTREZ_GENE_A'], synonyms=data['SYNONYMS_A'])\n",
    "        G.add_node(gene_b, entrez_id=data['ENTREZ_GENE_B'], synonyms=data['SYNONYMS_B'])\n",
    "        \n",
    "        # Add edge with attributes\n",
    "        G.add_edge(gene_a, gene_b, interaction_id=interaction_id, pubmed_id=data['PUBMED_ID'],\n",
    "                   pubmed_author=data['PUBMED_AUTHOR'], throughput=data['THROUGHPUT'],\n",
    "                   qualifications=data['QUALIFICATIONS'])\n",
    "    \n",
    "    logging.info(f\"Created network with {G.number_of_nodes()} nodes and {G.number_of_edges()} edges.\")\n",
    "    return G"
   ]
  },
  {
   "cell_type": "code",
   "execution_count": null,
   "metadata": {},
   "outputs": [],
   "source": [
    "# Example usage\n",
    "G = create_gene_network(json_data)"
   ]
  },
  {
   "cell_type": "markdown",
   "metadata": {},
   "source": [
    "## 4. Network Analysis"
   ]
  },
  {
   "cell_type": "code",
   "execution_count": 6,
   "metadata": {},
   "outputs": [],
   "source": [
    "def analyze_network(G):\n",
    "    \"\"\"\n",
    "    Analyze the gene interaction network.\n",
    "\n",
    "    Args:\n",
    "        G (networkx.Graph): The gene interaction network.\n",
    "\n",
    "    Returns:\n",
    "        dict: Network statistics and metrics.\n",
    "    \"\"\"\n",
    "    stats = {\n",
    "        'Number of nodes': G.number_of_nodes(),\n",
    "        'Number of edges': G.number_of_edges(),\n",
    "        'Average degree': sum(dict(G.degree()).values()) / G.number_of_nodes(),\n",
    "        'Density': nx.density(G),\n",
    "        'Is connected': nx.is_connected(G),\n",
    "        'Highest degree nodes': sorted(dict(G.degree()).items(), key=lambda x: x[1], reverse=True)[:5]\n",
    "    }\n",
    "    return stats\n",
    "\n",
    "def calculate_centralities(G):\n",
    "    \"\"\"\n",
    "    Calculate centrality measures for the network.\n",
    "\n",
    "    Args:\n",
    "        G (networkx.Graph): The gene interaction network.\n",
    "\n",
    "    Returns:\n",
    "        dict: Centrality measures (degree, betweenness, closeness, eigenvector).\n",
    "    \"\"\"\n",
    "    return {\n",
    "        'degree_centrality': nx.degree_centrality(G),\n",
    "        'betweenness_centrality': nx.betweenness_centrality(G),\n",
    "        'closeness_centrality': nx.closeness_centrality(G),\n",
    "        'eigenvector_centrality': nx.eigenvector_centrality(G)\n",
    "    }\n",
    "\n",
    "def detect_communities(G):\n",
    "    \"\"\"\n",
    "    Detect communities in the network using the Louvain method.\n",
    "\n",
    "    Args:\n",
    "        G (networkx.Graph): The gene interaction network.\n",
    "\n",
    "    Returns:\n",
    "        dict: Mapping of nodes to their community IDs.\n",
    "    \"\"\"\n",
    "    return community_louvain.best_partition(G)\n",
    "\n",
    "def additional_metrics(G):\n",
    "    \"\"\"\n",
    "    Calculate additional network metrics.\n",
    "\n",
    "    Args:\n",
    "        G (networkx.Graph): The gene interaction network.\n",
    "\n",
    "    Returns:\n",
    "        dict: Additional metrics (assortativity, diameter, average path length).\n",
    "    \"\"\"\n",
    "    return {\n",
    "        'assortativity': nx.degree_assortativity_coefficient(G),\n",
    "        'diameter': nx.diameter(G),\n",
    "        'average_path_length': nx.average_shortest_path_length(G)\n",
    "    }\n",
    "\n",
    "def comprehensive_analysis(G):\n",
    "    \"\"\"\n",
    "    Perform a comprehensive analysis of the gene interaction network.\n",
    "\n",
    "    Args:\n",
    "        G (networkx.Graph): The gene interaction network.\n",
    "\n",
    "    Returns:\n",
    "        dict: Comprehensive analysis results.\n",
    "    \"\"\"\n",
    "    return {\n",
    "        'basic_stats': analyze_network(G),\n",
    "        'centralities': calculate_centralities(G),\n",
    "        'communities': detect_communities(G),\n",
    "        'clustering_coefficient': nx.average_clustering(G),\n",
    "        'additional_metrics': additional_metrics(G)\n",
    "    }"
   ]
  },
  {
   "cell_type": "code",
   "execution_count": null,
   "metadata": {},
   "outputs": [],
   "source": [
    "# Example usage\n",
    "analysis_results = comprehensive_analysis(G)\n",
    "print(\"Comprehensive Analysis Results:\")\n",
    "print(analysis_results)"
   ]
  },
  {
   "cell_type": "markdown",
   "metadata": {},
   "source": [
    "## 5. Visualization"
   ]
  },
  {
   "cell_type": "code",
   "execution_count": 8,
   "metadata": {},
   "outputs": [],
   "source": [
    "def visualize_networkx_graph(G):\n",
    "    \"\"\"\n",
    "    Visualize the network using NetworkX and Matplotlib.\n",
    "\n",
    "    Args:\n",
    "        G (networkx.Graph): The gene interaction network.\n",
    "    \"\"\"\n",
    "    plt.figure(figsize=(10, 8))\n",
    "    pos = nx.spring_layout(G, seed=42)\n",
    "    nx.draw_networkx_nodes(G, pos, node_size=500, node_color='lightblue')\n",
    "    nx.draw_networkx_edges(G, pos, width=1, edge_color='gray')\n",
    "    nx.draw_networkx_labels(G, pos, font_size=10, font_family='sans-serif')\n",
    "    plt.title(\"Gene Interaction Network\")\n",
    "    plt.axis('off')\n",
    "    plt.show()\n",
    "\n",
    "def visualize_pyvis_graph(G, partition=None):\n",
    "    \"\"\"\n",
    "    Visualize the network using PyVis.\n",
    "\n",
    "    Args:\n",
    "        G (networkx.Graph): The gene interaction network.\n",
    "        partition (dict): Mapping of nodes to their community IDs.\n",
    "    \"\"\"\n",
    "    net = Network(notebook=True, height=\"750px\", width=\"100%\", bgcolor=\"#222222\", font_color=\"white\")\n",
    "    \n",
    "    # Add nodes with size based on degree\n",
    "    for node in G.nodes():\n",
    "        degree = G.degree(node)\n",
    "        net.add_node(node, label=node, size=degree * 2)\n",
    "    \n",
    "    # Add edges\n",
    "    for edge in G.edges():\n",
    "        net.add_edge(edge[0], edge[1])\n",
    "    \n",
    "    # Save and display the graph\n",
    "    net.show(str(biogrid_interactions_network_html))\n",
    "    logging.info(f\"Graph saved to {biogrid_interactions_network_html}\")"
   ]
  },
  {
   "cell_type": "code",
   "execution_count": null,
   "metadata": {},
   "outputs": [],
   "source": [
    "# Example usage\n",
    "# visualize_networkx_graph(G)\n",
    "visualize_pyvis_graph(G)"
   ]
  },
  {
   "cell_type": "markdown",
   "metadata": {},
   "source": [
    "## 6. Summary and Export"
   ]
  },
  {
   "cell_type": "code",
   "execution_count": 10,
   "metadata": {},
   "outputs": [],
   "source": [
    "def print_summary(analysis_results):\n",
    "    \"\"\"\n",
    "    Print a summary of the analysis results.\n",
    "\n",
    "    Args:\n",
    "        analysis_results (dict): Comprehensive analysis results.\n",
    "    \"\"\"\n",
    "    print(\"Network Summary:\")\n",
    "    print(f\"Number of nodes: {analysis_results['basic_stats']['Number of nodes']}\")\n",
    "    print(f\"Number of edges: {analysis_results['basic_stats']['Number of edges']}\")\n",
    "    print(f\"Top 5 nodes by degree: {analysis_results['basic_stats']['Highest degree nodes']}\")\n",
    "    print(f\"Average clustering coefficient: {analysis_results['clustering_coefficient']}\")\n",
    "    print(f\"Network diameter: {analysis_results['additional_metrics']['diameter']}\")\n",
    "\n",
    "def export_graph(G, filepath):\n",
    "    \"\"\"\n",
    "    Export the graph to a file.\n",
    "\n",
    "    Args:\n",
    "        G (networkx.Graph): The gene interaction network.\n",
    "        filepath (Path): Path to save the graph.\n",
    "    \"\"\"\n",
    "    nx.write_graphml(G, filepath)\n",
    "    logging.info(f\"Graph exported to {filepath}\")"
   ]
  },
  {
   "cell_type": "code",
   "execution_count": null,
   "metadata": {},
   "outputs": [],
   "source": [
    "# Example usage\n",
    "print_summary(analysis_results)\n",
    "export_graph(G, biogrid_interactions_network_graphml)"
   ]
  },
  {
   "cell_type": "code",
   "execution_count": null,
   "metadata": {},
   "outputs": [],
   "source": []
  }
 ],
 "metadata": {
  "kernelspec": {
   "display_name": ".venv",
   "language": "python",
   "name": "python3"
  },
  "language_info": {
   "codemirror_mode": {
    "name": "ipython",
    "version": 3
   },
   "file_extension": ".py",
   "mimetype": "text/x-python",
   "name": "python",
   "nbconvert_exporter": "python",
   "pygments_lexer": "ipython3",
   "version": "3.11.8"
  }
 },
 "nbformat": 4,
 "nbformat_minor": 2
}
