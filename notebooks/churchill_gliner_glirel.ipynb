{
  "cells": [
    {
      "cell_type": "code",
      "execution_count": 4,
      "metadata": {
        "colab": {
          "base_uri": "https://localhost:8080/"
        },
        "id": "vLMEV2YSy0NF",
        "outputId": "9c52d30e-77b8-4b34-b3a0-3928ebb9bccb"
      },
      "outputs": [
        {
          "name": "stderr",
          "output_type": "stream",
          "text": [
            "huggingface/tokenizers: The current process just got forked, after parallelism has already been used. Disabling parallelism to avoid deadlocks...\n",
            "To disable this warning, you can either:\n",
            "\t- Avoid using `tokenizers` before the fork if possible\n",
            "\t- Explicitly set the environment variable TOKENIZERS_PARALLELISM=(true | false)\n"
          ]
        },
        {
          "name": "stdout",
          "output_type": "stream",
          "text": [
            "\n",
            "\u001b[1m[\u001b[0m\u001b[34;49mnotice\u001b[0m\u001b[1;39;49m]\u001b[0m\u001b[39;49m A new release of pip is available: \u001b[0m\u001b[31;49m24.0\u001b[0m\u001b[39;49m -> \u001b[0m\u001b[32;49m24.3.1\u001b[0m\n",
            "\u001b[1m[\u001b[0m\u001b[34;49mnotice\u001b[0m\u001b[1;39;49m]\u001b[0m\u001b[39;49m To update, run: \u001b[0m\u001b[32;49mpip install --upgrade pip\u001b[0m\n",
            "Note: you may need to restart the kernel to use updated packages.\n"
          ]
        }
      ],
      "source": [
        "%pip install -q gliner glirel spacy loguru huggingface_hub"
      ]
    },
    {
      "cell_type": "code",
      "execution_count": 5,
      "metadata": {},
      "outputs": [
        {
          "name": "stderr",
          "output_type": "stream",
          "text": [
            "huggingface/tokenizers: The current process just got forked, after parallelism has already been used. Disabling parallelism to avoid deadlocks...\n",
            "To disable this warning, you can either:\n",
            "\t- Avoid using `tokenizers` before the fork if possible\n",
            "\t- Explicitly set the environment variable TOKENIZERS_PARALLELISM=(true | false)\n"
          ]
        },
        {
          "name": "stdout",
          "output_type": "stream",
          "text": [
            "Name: spacy\n",
            "Version: 3.7.5\n",
            "Summary: Industrial-strength Natural Language Processing (NLP) in Python\n",
            "Home-page: https://spacy.io\n",
            "Author: Explosion\n",
            "Author-email: contact@explosion.ai\n",
            "License: MIT\n",
            "Location: /home/donbr/kgmgmt/kg_rememberall/.venv/lib/python3.11/site-packages\n",
            "Requires: catalogue, cymem, jinja2, langcodes, murmurhash, numpy, packaging, preshed, pydantic, requests, setuptools, spacy-legacy, spacy-loggers, srsly, thinc, tqdm, typer, wasabi, weasel\n",
            "Required-by: en-core-web-md, gliner-spacy\n",
            "Note: you may need to restart the kernel to use updated packages.\n"
          ]
        }
      ],
      "source": [
        "%pip show spacy"
      ]
    },
    {
      "cell_type": "code",
      "execution_count": 7,
      "metadata": {},
      "outputs": [
        {
          "name": "stderr",
          "output_type": "stream",
          "text": [
            "huggingface/tokenizers: The current process just got forked, after parallelism has already been used. Disabling parallelism to avoid deadlocks...\n",
            "To disable this warning, you can either:\n",
            "\t- Avoid using `tokenizers` before the fork if possible\n",
            "\t- Explicitly set the environment variable TOKENIZERS_PARALLELISM=(true | false)\n"
          ]
        },
        {
          "name": "stdout",
          "output_type": "stream",
          "text": [
            "Looking in indexes: https://pypi.org/simple, https://pypi.ngc.nvidia.com\n",
            "Collecting en-core-web-sm==3.7.1\n",
            "  Downloading https://github.com/explosion/spacy-models/releases/download/en_core_web_sm-3.7.1/en_core_web_sm-3.7.1-py3-none-any.whl (12.8 MB)\n",
            "\u001b[2K     \u001b[90m━━━━━━━━━━━━━━━━━━━━━━━━━━━━━━━━━━━━━━━━\u001b[0m \u001b[32m12.8/12.8 MB\u001b[0m \u001b[31m31.2 MB/s\u001b[0m eta \u001b[36m0:00:00\u001b[0m00:01\u001b[0m00:01\u001b[0m\n",
            "\u001b[?25hRequirement already satisfied: spacy<3.8.0,>=3.7.2 in /home/donbr/kgmgmt/kg_rememberall/.venv/lib/python3.11/site-packages (from en-core-web-sm==3.7.1) (3.7.5)\n",
            "Requirement already satisfied: spacy-legacy<3.1.0,>=3.0.11 in /home/donbr/kgmgmt/kg_rememberall/.venv/lib/python3.11/site-packages (from spacy<3.8.0,>=3.7.2->en-core-web-sm==3.7.1) (3.0.12)\n",
            "Requirement already satisfied: spacy-loggers<2.0.0,>=1.0.0 in /home/donbr/kgmgmt/kg_rememberall/.venv/lib/python3.11/site-packages (from spacy<3.8.0,>=3.7.2->en-core-web-sm==3.7.1) (1.0.5)\n",
            "Requirement already satisfied: murmurhash<1.1.0,>=0.28.0 in /home/donbr/kgmgmt/kg_rememberall/.venv/lib/python3.11/site-packages (from spacy<3.8.0,>=3.7.2->en-core-web-sm==3.7.1) (1.0.11)\n",
            "Requirement already satisfied: cymem<2.1.0,>=2.0.2 in /home/donbr/kgmgmt/kg_rememberall/.venv/lib/python3.11/site-packages (from spacy<3.8.0,>=3.7.2->en-core-web-sm==3.7.1) (2.0.10)\n",
            "Requirement already satisfied: preshed<3.1.0,>=3.0.2 in /home/donbr/kgmgmt/kg_rememberall/.venv/lib/python3.11/site-packages (from spacy<3.8.0,>=3.7.2->en-core-web-sm==3.7.1) (3.0.9)\n",
            "Requirement already satisfied: thinc<8.3.0,>=8.2.2 in /home/donbr/kgmgmt/kg_rememberall/.venv/lib/python3.11/site-packages (from spacy<3.8.0,>=3.7.2->en-core-web-sm==3.7.1) (8.2.5)\n",
            "Requirement already satisfied: wasabi<1.2.0,>=0.9.1 in /home/donbr/kgmgmt/kg_rememberall/.venv/lib/python3.11/site-packages (from spacy<3.8.0,>=3.7.2->en-core-web-sm==3.7.1) (1.1.3)\n",
            "Requirement already satisfied: srsly<3.0.0,>=2.4.3 in /home/donbr/kgmgmt/kg_rememberall/.venv/lib/python3.11/site-packages (from spacy<3.8.0,>=3.7.2->en-core-web-sm==3.7.1) (2.5.0)\n",
            "Requirement already satisfied: catalogue<2.1.0,>=2.0.6 in /home/donbr/kgmgmt/kg_rememberall/.venv/lib/python3.11/site-packages (from spacy<3.8.0,>=3.7.2->en-core-web-sm==3.7.1) (2.0.10)\n",
            "Requirement already satisfied: weasel<0.5.0,>=0.1.0 in /home/donbr/kgmgmt/kg_rememberall/.venv/lib/python3.11/site-packages (from spacy<3.8.0,>=3.7.2->en-core-web-sm==3.7.1) (0.4.1)\n",
            "Requirement already satisfied: typer<1.0.0,>=0.3.0 in /home/donbr/kgmgmt/kg_rememberall/.venv/lib/python3.11/site-packages (from spacy<3.8.0,>=3.7.2->en-core-web-sm==3.7.1) (0.13.1)\n",
            "Requirement already satisfied: tqdm<5.0.0,>=4.38.0 in /home/donbr/kgmgmt/kg_rememberall/.venv/lib/python3.11/site-packages (from spacy<3.8.0,>=3.7.2->en-core-web-sm==3.7.1) (4.67.1)\n",
            "Requirement already satisfied: requests<3.0.0,>=2.13.0 in /home/donbr/kgmgmt/kg_rememberall/.venv/lib/python3.11/site-packages (from spacy<3.8.0,>=3.7.2->en-core-web-sm==3.7.1) (2.32.3)\n",
            "Requirement already satisfied: pydantic!=1.8,!=1.8.1,<3.0.0,>=1.7.4 in /home/donbr/kgmgmt/kg_rememberall/.venv/lib/python3.11/site-packages (from spacy<3.8.0,>=3.7.2->en-core-web-sm==3.7.1) (2.10.5)\n",
            "Requirement already satisfied: jinja2 in /home/donbr/kgmgmt/kg_rememberall/.venv/lib/python3.11/site-packages (from spacy<3.8.0,>=3.7.2->en-core-web-sm==3.7.1) (3.1.5)\n",
            "Requirement already satisfied: setuptools in /home/donbr/kgmgmt/kg_rememberall/.venv/lib/python3.11/site-packages (from spacy<3.8.0,>=3.7.2->en-core-web-sm==3.7.1) (65.5.0)\n",
            "Requirement already satisfied: packaging>=20.0 in /home/donbr/kgmgmt/kg_rememberall/.venv/lib/python3.11/site-packages (from spacy<3.8.0,>=3.7.2->en-core-web-sm==3.7.1) (24.2)\n",
            "Requirement already satisfied: langcodes<4.0.0,>=3.2.0 in /home/donbr/kgmgmt/kg_rememberall/.venv/lib/python3.11/site-packages (from spacy<3.8.0,>=3.7.2->en-core-web-sm==3.7.1) (3.5.0)\n",
            "Requirement already satisfied: numpy>=1.19.0 in /home/donbr/kgmgmt/kg_rememberall/.venv/lib/python3.11/site-packages (from spacy<3.8.0,>=3.7.2->en-core-web-sm==3.7.1) (1.26.4)\n",
            "Requirement already satisfied: language-data>=1.2 in /home/donbr/kgmgmt/kg_rememberall/.venv/lib/python3.11/site-packages (from langcodes<4.0.0,>=3.2.0->spacy<3.8.0,>=3.7.2->en-core-web-sm==3.7.1) (1.3.0)\n",
            "Requirement already satisfied: annotated-types>=0.6.0 in /home/donbr/kgmgmt/kg_rememberall/.venv/lib/python3.11/site-packages (from pydantic!=1.8,!=1.8.1,<3.0.0,>=1.7.4->spacy<3.8.0,>=3.7.2->en-core-web-sm==3.7.1) (0.7.0)\n",
            "Requirement already satisfied: pydantic-core==2.27.2 in /home/donbr/kgmgmt/kg_rememberall/.venv/lib/python3.11/site-packages (from pydantic!=1.8,!=1.8.1,<3.0.0,>=1.7.4->spacy<3.8.0,>=3.7.2->en-core-web-sm==3.7.1) (2.27.2)\n",
            "Requirement already satisfied: typing-extensions>=4.12.2 in /home/donbr/kgmgmt/kg_rememberall/.venv/lib/python3.11/site-packages (from pydantic!=1.8,!=1.8.1,<3.0.0,>=1.7.4->spacy<3.8.0,>=3.7.2->en-core-web-sm==3.7.1) (4.12.2)\n",
            "Requirement already satisfied: charset-normalizer<4,>=2 in /home/donbr/kgmgmt/kg_rememberall/.venv/lib/python3.11/site-packages (from requests<3.0.0,>=2.13.0->spacy<3.8.0,>=3.7.2->en-core-web-sm==3.7.1) (3.4.1)\n",
            "Requirement already satisfied: idna<4,>=2.5 in /home/donbr/kgmgmt/kg_rememberall/.venv/lib/python3.11/site-packages (from requests<3.0.0,>=2.13.0->spacy<3.8.0,>=3.7.2->en-core-web-sm==3.7.1) (3.10)\n",
            "Requirement already satisfied: urllib3<3,>=1.21.1 in /home/donbr/kgmgmt/kg_rememberall/.venv/lib/python3.11/site-packages (from requests<3.0.0,>=2.13.0->spacy<3.8.0,>=3.7.2->en-core-web-sm==3.7.1) (2.3.0)\n",
            "Requirement already satisfied: certifi>=2017.4.17 in /home/donbr/kgmgmt/kg_rememberall/.venv/lib/python3.11/site-packages (from requests<3.0.0,>=2.13.0->spacy<3.8.0,>=3.7.2->en-core-web-sm==3.7.1) (2024.12.14)\n",
            "Requirement already satisfied: blis<0.8.0,>=0.7.8 in /home/donbr/kgmgmt/kg_rememberall/.venv/lib/python3.11/site-packages (from thinc<8.3.0,>=8.2.2->spacy<3.8.0,>=3.7.2->en-core-web-sm==3.7.1) (0.7.11)\n",
            "Requirement already satisfied: confection<1.0.0,>=0.0.1 in /home/donbr/kgmgmt/kg_rememberall/.venv/lib/python3.11/site-packages (from thinc<8.3.0,>=8.2.2->spacy<3.8.0,>=3.7.2->en-core-web-sm==3.7.1) (0.1.5)\n",
            "Requirement already satisfied: click>=8.0.0 in /home/donbr/kgmgmt/kg_rememberall/.venv/lib/python3.11/site-packages (from typer<1.0.0,>=0.3.0->spacy<3.8.0,>=3.7.2->en-core-web-sm==3.7.1) (8.1.8)\n",
            "Requirement already satisfied: shellingham>=1.3.0 in /home/donbr/kgmgmt/kg_rememberall/.venv/lib/python3.11/site-packages (from typer<1.0.0,>=0.3.0->spacy<3.8.0,>=3.7.2->en-core-web-sm==3.7.1) (1.5.4)\n",
            "Requirement already satisfied: rich>=10.11.0 in /home/donbr/kgmgmt/kg_rememberall/.venv/lib/python3.11/site-packages (from typer<1.0.0,>=0.3.0->spacy<3.8.0,>=3.7.2->en-core-web-sm==3.7.1) (13.9.4)\n",
            "Requirement already satisfied: cloudpathlib<1.0.0,>=0.7.0 in /home/donbr/kgmgmt/kg_rememberall/.venv/lib/python3.11/site-packages (from weasel<0.5.0,>=0.1.0->spacy<3.8.0,>=3.7.2->en-core-web-sm==3.7.1) (0.20.0)\n",
            "Requirement already satisfied: smart-open<8.0.0,>=5.2.1 in /home/donbr/kgmgmt/kg_rememberall/.venv/lib/python3.11/site-packages (from weasel<0.5.0,>=0.1.0->spacy<3.8.0,>=3.7.2->en-core-web-sm==3.7.1) (7.1.0)\n",
            "Requirement already satisfied: MarkupSafe>=2.0 in /home/donbr/kgmgmt/kg_rememberall/.venv/lib/python3.11/site-packages (from jinja2->spacy<3.8.0,>=3.7.2->en-core-web-sm==3.7.1) (3.0.2)\n",
            "Requirement already satisfied: marisa-trie>=1.1.0 in /home/donbr/kgmgmt/kg_rememberall/.venv/lib/python3.11/site-packages (from language-data>=1.2->langcodes<4.0.0,>=3.2.0->spacy<3.8.0,>=3.7.2->en-core-web-sm==3.7.1) (1.2.1)\n",
            "Requirement already satisfied: markdown-it-py>=2.2.0 in /home/donbr/kgmgmt/kg_rememberall/.venv/lib/python3.11/site-packages (from rich>=10.11.0->typer<1.0.0,>=0.3.0->spacy<3.8.0,>=3.7.2->en-core-web-sm==3.7.1) (3.0.0)\n",
            "Requirement already satisfied: pygments<3.0.0,>=2.13.0 in /home/donbr/kgmgmt/kg_rememberall/.venv/lib/python3.11/site-packages (from rich>=10.11.0->typer<1.0.0,>=0.3.0->spacy<3.8.0,>=3.7.2->en-core-web-sm==3.7.1) (2.19.1)\n",
            "Requirement already satisfied: wrapt in /home/donbr/kgmgmt/kg_rememberall/.venv/lib/python3.11/site-packages (from smart-open<8.0.0,>=5.2.1->weasel<0.5.0,>=0.1.0->spacy<3.8.0,>=3.7.2->en-core-web-sm==3.7.1) (1.17.2)\n",
            "Requirement already satisfied: mdurl~=0.1 in /home/donbr/kgmgmt/kg_rememberall/.venv/lib/python3.11/site-packages (from markdown-it-py>=2.2.0->rich>=10.11.0->typer<1.0.0,>=0.3.0->spacy<3.8.0,>=3.7.2->en-core-web-sm==3.7.1) (0.1.2)\n",
            "Installing collected packages: en-core-web-sm\n",
            "Successfully installed en-core-web-sm-3.7.1\n",
            "\n",
            "\u001b[1m[\u001b[0m\u001b[34;49mnotice\u001b[0m\u001b[1;39;49m]\u001b[0m\u001b[39;49m A new release of pip is available: \u001b[0m\u001b[31;49m24.0\u001b[0m\u001b[39;49m -> \u001b[0m\u001b[32;49m24.3.1\u001b[0m\n",
            "\u001b[1m[\u001b[0m\u001b[34;49mnotice\u001b[0m\u001b[1;39;49m]\u001b[0m\u001b[39;49m To update, run: \u001b[0m\u001b[32;49mpip install --upgrade pip\u001b[0m\n",
            "\u001b[38;5;2m✔ Download and installation successful\u001b[0m\n",
            "You can now load the package via spacy.load('en_core_web_sm')\n"
          ]
        }
      ],
      "source": [
        "!python -m spacy download en_core_web_sm"
      ]
    },
    {
      "cell_type": "markdown",
      "metadata": {
        "id": "mfpsa9tiDM5Y"
      },
      "source": [
        "## initial validation\n",
        "\n",
        "- appears to be working much better after switch to lower case entity labels and using proper english terms rather than standard NER upper case terms.\n",
        "\n",
        "- next steps\n",
        " - replicate some of the tests referenced in the GLiREL paper\n",
        " - co-reference resolution"
      ]
    },
    {
      "cell_type": "code",
      "execution_count": 8,
      "metadata": {},
      "outputs": [],
      "source": [
        "import os\n",
        "\n",
        "HF_LOGIN = os.environ.get(\"HF_LOGIN\")"
      ]
    },
    {
      "cell_type": "code",
      "execution_count": 9,
      "metadata": {
        "colab": {
          "base_uri": "https://localhost:8080/",
          "height": 1000,
          "referenced_widgets": [
            "2faa3450781447199d1b8a2844d33e6f",
            "c57492b543794491bca6749cd1b2d27c",
            "b771a76eb64d4bfd857764c994450c13",
            "397a0cf04f314fe79f8cc138d466e7e1",
            "606d7f6508c34ee5889190b07eb03f0f",
            "2ca7a575cb6f4887bed4aa7cf4acea9b",
            "c1141427793944cc89b0871272f3bc84",
            "70ba01361666460386aa2d4ef9c266cb",
            "5b6f07164fad4c77b1d0427fadc92f49",
            "159930d22ed148b2814282557278c409",
            "8d1a9a122db44e1ab0ed73b756f3997d"
          ]
        },
        "id": "O8CAbckIzCh6",
        "outputId": "489ec39d-e985-4b6f-a810-b0ff480cced1"
      },
      "outputs": [
        {
          "data": {
            "application/vnd.jupyter.widget-view+json": {
              "model_id": "5110f92d34714234953fdb5da6edfc27",
              "version_major": 2,
              "version_minor": 0
            },
            "text/plain": [
              "Fetching 5 files:   0%|          | 0/5 [00:00<?, ?it/s]"
            ]
          },
          "metadata": {},
          "output_type": "display_data"
        },
        {
          "name": "stderr",
          "output_type": "stream",
          "text": [
            "/home/donbr/kgmgmt/kg_rememberall/.venv/lib/python3.11/site-packages/transformers/convert_slow_tokenizer.py:561: UserWarning: The sentencepiece tokenizer that you are converting to a fast tokenizer uses the byte fallback option which is not implemented in the fast tokenizers. In practice this means that the fast version of the tokenizer can produce unknown tokens whereas the sentencepiece version would have converted these unknown tokens into a sequence of byte tokens matching the original piece of text.\n",
            "  warnings.warn(\n",
            "Asking to truncate to max_length but no maximum length is provided and the model has no predefined maximum length. Default to no truncation.\n"
          ]
        },
        {
          "name": "stdout",
          "output_type": "stream",
          "text": [
            "Recognized Entities:\n",
            "Entity: Sedan | Type: location | Span: (45, 50)\n",
            "Entity: Meuse | Type: location | Span: (62, 67)\n",
            "Entity: second week of May | Type: date | Span: (98, 116)\n",
            "Entity: Amiens | Type: location | Span: (142, 148)\n",
            "Entity: British and French Armies | Type: military | Span: (184, 209)\n",
            "Entity: Belgium | Type: nation | Span: (226, 233)\n",
            "Entity: Belgian King | Type: person | Span: (255, 267)\n",
            "Entity: French High Command | Type: military | Span: (327, 346)\n",
            "Entity: Armies of the north | Type: military unit | Span: (398, 417)\n",
            "Entity: Belgium | Type: nation | Span: (614, 621)\n",
            "Entity: General Weygand | Type: person | Span: (736, 751)\n",
            "Entity: General Gamelin | Type: person | Span: (781, 796)\n",
            "Entity: French and British Armies | Type: military | Span: (824, 849)\n",
            "Entity: Belgium | Type: nation | Span: (853, 860)\n",
            "Entity: Belgians | Type: nation | Span: (902, 910)\n",
            "Entity: French Army | Type: military | Span: (963, 974)\n",
            "Entity: Somme | Type: location | Span: (1013, 1018)\n"
          ]
        },
        {
          "name": "stderr",
          "output_type": "stream",
          "text": [
            "/home/donbr/kgmgmt/kg_rememberall/.venv/lib/python3.11/site-packages/transformers/convert_slow_tokenizer.py:561: UserWarning: The sentencepiece tokenizer that you are converting to a fast tokenizer uses the byte fallback option which is not implemented in the fast tokenizers. In practice this means that the fast version of the tokenizer can produce unknown tokens whereas the sentencepiece version would have converted these unknown tokens into a sequence of byte tokens matching the original piece of text.\n",
            "  warnings.warn(\n",
            "/home/donbr/kgmgmt/kg_rememberall/.venv/lib/python3.11/site-packages/glirel/model.py:704: FutureWarning: You are using `torch.load` with `weights_only=False` (the current default value), which uses the default pickle module implicitly. It is possible to construct malicious pickle data which will execute arbitrary code during unpickling (See https://github.com/pytorch/pytorch/blob/main/SECURITY.md#untrusted-models for more details). In a future release, the default value for `weights_only` will be flipped to `True`. This limits the functions that could be executed during unpickling. Arbitrary objects will no longer be allowed to be loaded via this mode unless they are explicitly allowlisted by the user via `torch.serialization.add_safe_globals`. We recommend you start setting `weights_only=True` for any use case where you don't have full control of the loaded file. Please open an issue on GitHub for any issues related to this experimental feature.\n",
            "  state_dict = torch.load(model_file, map_location=torch.device(map_location))\n"
          ]
        },
        {
          "name": "stdout",
          "output_type": "stream",
          "text": [
            "\n",
            "Extracted Relations:\n",
            "Relation: ['General', 'Weygand', ','] -[commands]-> ['French', 'Army', 'which'] | Score: 0.659993588924408\n",
            "Relation: ['General', 'Weygand', ','] -[commands]-> ['French', 'and', 'British', 'Armies', 'in'] | Score: 0.6598259806632996\n",
            "Relation: ['General', 'Weygand', ','] -[commands]-> ['Armies', 'of', 'the', 'north', 'were'] | Score: 0.6482151746749878\n",
            "Relation: ['French', 'and', 'British', 'Armies', 'in'] -[commands]-> ['General', 'Weygand', ','] | Score: 0.6403449177742004\n",
            "Relation: ['Belgium', 'at'] -[commands]-> ['General', 'Weygand', ','] | Score: 0.6274427771568298\n",
            "Relation: ['Belgium', '.'] -[commands]-> ['General', 'Weygand', ','] | Score: 0.626865804195404\n",
            "Relation: ['Belgian', 'King', ';'] -[commands]-> ['General', 'Weygand', ','] | Score: 0.6187615394592285\n",
            "Relation: ['French', 'Army', 'which'] -[commands]-> ['General', 'Weygand', ','] | Score: 0.6144334673881531\n",
            "Relation: ['Armies', 'of', 'the', 'north', 'were'] -[commands]-> ['General', 'Weygand', ','] | Score: 0.6071716547012329\n",
            "Relation: ['Belgium', 'to'] -[commands]-> ['General', 'Weygand', ','] | Score: 0.6050918102264404\n",
            "Relation: ['General', 'Weygand', ','] -[commands]-> ['Belgian', 'King', ';'] | Score: 0.604274332523346\n",
            "Relation: ['British', 'and', 'French', 'Armies', 'who'] -[commands]-> ['General', 'Weygand', ','] | Score: 0.5934995412826538\n",
            "Relation: ['French', 'High', 'Command', 'hoped'] -[commands]-> ['General', 'Weygand', ','] | Score: 0.5906540751457214\n",
            "Relation: ['General', 'Gamelin', ','] -[commands]-> ['French', 'and', 'British', 'Armies', 'in'] | Score: 0.5876659154891968\n",
            "Relation: ['General', 'Weygand', ','] -[commands]-> ['Belgium', '.'] | Score: 0.587438702583313\n",
            "Relation: ['Belgians', 'and'] -[commands]-> ['General', 'Weygand', ','] | Score: 0.5847018361091614\n",
            "Relation: ['General', 'Weygand', ','] -[commands]-> ['French', 'High', 'Command', 'hoped'] | Score: 0.58228999376297\n",
            "Relation: ['General', 'Gamelin', ','] -[commands]-> ['French', 'Army', 'which'] | Score: 0.5782142877578735\n",
            "Relation: ['General', 'Gamelin', ','] -[commands]-> ['Armies', 'of', 'the', 'north', 'were'] | Score: 0.5656644105911255\n",
            "Relation: ['General', 'Weygand', ','] -[commands]-> ['Belgium', 'at'] | Score: 0.5641253590583801\n",
            "Relation: ['General', 'Weygand', ','] -[commands]-> ['Belgium', 'to'] | Score: 0.5631008148193359\n",
            "Relation: ['French', 'and', 'British', 'Armies', 'in'] -[commands]-> ['General', 'Gamelin', ','] | Score: 0.5614953637123108\n",
            "Relation: ['General', 'Weygand', ','] -[commands]-> ['British', 'and', 'French', 'Armies', 'who'] | Score: 0.5462662577629089\n",
            "Relation: ['Sedan', 'and'] -[commands]-> ['General', 'Weygand', ','] | Score: 0.5445989370346069\n",
            "Relation: ['Belgium', 'at'] -[commands]-> ['General', 'Gamelin', ','] | Score: 0.542022168636322\n",
            "Relation: ['Belgium', '.'] -[commands]-> ['General', 'Gamelin', ','] | Score: 0.5387710332870483\n",
            "Relation: ['Belgian', 'King', ';'] -[commands]-> ['General', 'Gamelin', ','] | Score: 0.5337871313095093\n",
            "Relation: ['French', 'Army', 'which'] -[commands]-> ['General', 'Gamelin', ','] | Score: 0.5317426919937134\n",
            "Relation: ['Armies', 'of', 'the', 'north', 'were'] -[commands]-> ['General', 'Gamelin', ','] | Score: 0.5267791152000427\n",
            "Relation: ['Somme', 'in'] -[commands]-> ['General', 'Weygand', ','] | Score: 0.5246862173080444\n",
            "Relation: ['General', 'Gamelin', ','] -[commands]-> ['Belgian', 'King', ';'] | Score: 0.5203912854194641\n",
            "Relation: ['Belgium', 'to'] -[commands]-> ['General', 'Gamelin', ','] | Score: 0.5191677808761597\n",
            "Relation: ['Meuse', 'were'] -[commands]-> ['General', 'Weygand', ','] | Score: 0.5144509673118591\n",
            "Relation: ['General', 'Weygand', ','] -[leads]-> ['French', 'and', 'British', 'Armies', 'in'] | Score: 0.5113725662231445\n",
            "Relation: ['Belgium', '.'] -[defends]-> ['Sedan', 'and'] | Score: 0.5110804438591003\n",
            "Relation: ['French', 'High', 'Command', 'hoped'] -[commands]-> ['General', 'Gamelin', ','] | Score: 0.5104029774665833\n",
            "Relation: ['British', 'and', 'French', 'Armies', 'who'] -[commands]-> ['General', 'Gamelin', ','] | Score: 0.5069580078125\n",
            "Relation: ['General', 'Weygand', ','] -[commands]-> ['Belgians', 'and'] | Score: 0.5064329504966736\n",
            "Relation: ['General', 'Weygand', ','] -[leads]-> ['French', 'Army', 'which'] | Score: 0.5036876797676086\n",
            "Relation: ['General', 'Gamelin', ','] -[commands]-> ['Belgium', '.'] | Score: 0.5030355453491211\n"
          ]
        }
      ],
      "source": [
        "# Import necessary libraries\n",
        "from gliner import GLiNER  # For Named Entity Recognition\n",
        "from glirel import GLiREL  # For Relation Extraction\n",
        "import spacy              # For text processing and tokenization\n",
        "\n",
        "# Load the full text of Winston Churchill's speech\n",
        "speech_text = \"\"\"\n",
        "From the moment that the French defenses at Sedan and on the Meuse were broken at the end of the second week of May, only a rapid retreat to Amiens and the south could have saved the British and French Armies who had entered Belgium at the appeal of the Belgian King; but this strategic fact was not immediately realized. The French High Command hoped they would be able to close the gap, and the Armies of the north were under their orders. Moreover, a retirement of this kind would have involved almost certainly the destruction of the fine Belgian Army of over 20 divisions and the abandonment of the whole of Belgium. Therefore, when the force and scope of the German penetration were realized and when a new French Generalissimo, General Weygand, assumed command in place of General Gamelin, an effort was made by the French and British Armies in Belgium to keep on holding the right hand of the Belgians and to give their own right hand to a newly created French Army which was to have advanced across the Somme in great strength to grasp it.\n",
        "\"\"\"  # Replace with the complete speech text\n",
        "\n",
        "# Initialize the GLiNER model for NER\n",
        "gliner_model = GLiNER.from_pretrained(\"urchade/gliner_medium-v2.1\")\n",
        "\n",
        "# Define the entity labels relevant to the speech\n",
        "entity_labels = [\n",
        "    \"person\",         # Winston Churchill, General Weygand\n",
        "    \"military\",       # Armies, divisions, forces\n",
        "    \"nation\",         # British, French, Belgian\n",
        "    \"location\",       # Sedan, Meuse, Amiens, Belgium\n",
        "    \"battle\",         # specific military engagements\n",
        "    \"date\",          # temporal references\n",
        "    \"military unit\",  # divisions, armies\n",
        "    \"rank\",          # General, Commander\n",
        "    \"title\"          # other formal titles/positions\n",
        "]\n",
        "\n",
        "# Perform Named Entity Recognition on the speech text\n",
        "entities = gliner_model.predict_entities(speech_text, entity_labels, threshold=0.5)\n",
        "\n",
        "# Display the recognized entities\n",
        "print(\"Recognized Entities:\")\n",
        "for entity in entities:\n",
        "    print(f\"Entity: {entity['text']} | Type: {entity['label']} | Span: ({entity['start']}, {entity['end']})\")\n",
        "\n",
        "# Initialize spaCy for tokenization\n",
        "nlp = spacy.load(\"en_core_web_sm\")\n",
        "doc = nlp(speech_text)\n",
        "tokens = [token.text for token in doc]\n",
        "\n",
        "# Initialize the GLiREL model for Relation Extraction\n",
        "glirel_model = GLiREL.from_pretrained(\"jackboyla/glirel-large-v0\")\n",
        "\n",
        "# Define the relation labels to identify\n",
        "relation_labels = [\n",
        "    \"leads\",\n",
        "    \"participates in\",\n",
        "    \"located in\",\n",
        "    \"defends\",\n",
        "    \"opposes\",\n",
        "    \"commands\",\n",
        "    \"part of\",\n",
        "    \"attacks\",\n",
        "    \"retreats from\",\n",
        "    \"allies with\"\n",
        "]\n",
        "\n",
        "# Prepare the NER data in the format required by GLiREL\n",
        "ner_data = []\n",
        "for entity in entities:\n",
        "    start_token = len(nlp(speech_text[:entity['start']]))\n",
        "    end_token = len(nlp(speech_text[:entity['end']]))\n",
        "    ner_data.append([start_token, end_token, entity['label'], entity['text']])\n",
        "\n",
        "# Perform Relation Extraction using GLiREL\n",
        "relations = glirel_model.predict_relations(tokens, relation_labels, threshold=0.5, ner=ner_data, top_k=5)\n",
        "\n",
        "# Display the extracted relations\n",
        "print(\"\\nExtracted Relations:\")\n",
        "for relation in relations:\n",
        "    print(f\"Relation: {relation['head_text']} -[{relation['label']}]-> {relation['tail_text']} | Score: {relation['score']}\")\n"
      ]
    },
    {
      "cell_type": "code",
      "execution_count": null,
      "metadata": {
        "id": "IDCLhe_jzziX"
      },
      "outputs": [],
      "source": []
    },
    {
      "cell_type": "markdown",
      "metadata": {
        "id": "SXgDTHfb4MiL"
      },
      "source": [
        "The upper case and abbreviated standard Named Entity Recognition (NER) labels, don't appear to work well as is.\n",
        "- **\"PERSON\"** – People, including fictional characters.\n",
        "- **\"NORP\"** – Nationalities, religious, or political groups.\n",
        "- **\"FAC\"** – Buildings, airports, highways, bridges, etc.\n",
        "- **\"ORG\"** – Organizations, such as companies, institutions, etc.\n",
        "- **\"GPE\"** – Geopolitical entities, such as countries, cities, states.\n",
        "- **\"LOC\"** – Non-GPE locations, such as mountains, bodies of water, etc.\n",
        "- **\"PRODUCT\"** – Objects, vehicles, foods, etc. (not services).\n",
        "- **\"EVENT\"** – Named hurricanes, battles, wars, sports events, etc.\n",
        "- **\"WORK_OF_ART\"** – Titles of books, songs, movies, etc.\n",
        "- **\"LAW\"** – Named documents made into laws.\n",
        "- **\"LANGUAGE\"** – Any named language.\n",
        "- **\"DATE\"** – Absolute or relative dates or periods.\n",
        "- **\"TIME\"** – Times smaller than a day.\n",
        "- **\"PERCENT\"** – Percentages, including \"%\".\n",
        "- **\"MONEY\"** – Monetary values, including unit.\n",
        "- **\"QUANTITY\"** – Measurements, such as weight or distance.\n",
        "- **\"ORDINAL\"** – \"first\", \"second\", etc.\n",
        "- **\"CARDINAL\"** – Numerals that do not fall under another type.\n",
        "\n",
        "---\n",
        "\n",
        "These labels are commonly used in **Named Entity Recognition (NER)** tasks to categorize entities in text. They are part of the standard NER framework in tools like **spaCy** and other NLP libraries."
      ]
    },
    {
      "cell_type": "code",
      "execution_count": null,
      "metadata": {
        "id": "9K4GEgWk4O_l"
      },
      "outputs": [],
      "source": []
    }
  ],
  "metadata": {
    "accelerator": "GPU",
    "colab": {
      "gpuType": "L4",
      "machine_shape": "hm",
      "provenance": []
    },
    "kernelspec": {
      "display_name": ".venv",
      "language": "python",
      "name": "python3"
    },
    "language_info": {
      "codemirror_mode": {
        "name": "ipython",
        "version": 3
      },
      "file_extension": ".py",
      "mimetype": "text/x-python",
      "name": "python",
      "nbconvert_exporter": "python",
      "pygments_lexer": "ipython3",
      "version": "3.11.8"
    },
    "widgets": {
      "application/vnd.jupyter.widget-state+json": {
        "159930d22ed148b2814282557278c409": {
          "model_module": "@jupyter-widgets/base",
          "model_module_version": "1.2.0",
          "model_name": "LayoutModel",
          "state": {
            "_model_module": "@jupyter-widgets/base",
            "_model_module_version": "1.2.0",
            "_model_name": "LayoutModel",
            "_view_count": null,
            "_view_module": "@jupyter-widgets/base",
            "_view_module_version": "1.2.0",
            "_view_name": "LayoutView",
            "align_content": null,
            "align_items": null,
            "align_self": null,
            "border": null,
            "bottom": null,
            "display": null,
            "flex": null,
            "flex_flow": null,
            "grid_area": null,
            "grid_auto_columns": null,
            "grid_auto_flow": null,
            "grid_auto_rows": null,
            "grid_column": null,
            "grid_gap": null,
            "grid_row": null,
            "grid_template_areas": null,
            "grid_template_columns": null,
            "grid_template_rows": null,
            "height": null,
            "justify_content": null,
            "justify_items": null,
            "left": null,
            "margin": null,
            "max_height": null,
            "max_width": null,
            "min_height": null,
            "min_width": null,
            "object_fit": null,
            "object_position": null,
            "order": null,
            "overflow": null,
            "overflow_x": null,
            "overflow_y": null,
            "padding": null,
            "right": null,
            "top": null,
            "visibility": null,
            "width": null
          }
        },
        "2ca7a575cb6f4887bed4aa7cf4acea9b": {
          "model_module": "@jupyter-widgets/base",
          "model_module_version": "1.2.0",
          "model_name": "LayoutModel",
          "state": {
            "_model_module": "@jupyter-widgets/base",
            "_model_module_version": "1.2.0",
            "_model_name": "LayoutModel",
            "_view_count": null,
            "_view_module": "@jupyter-widgets/base",
            "_view_module_version": "1.2.0",
            "_view_name": "LayoutView",
            "align_content": null,
            "align_items": null,
            "align_self": null,
            "border": null,
            "bottom": null,
            "display": null,
            "flex": null,
            "flex_flow": null,
            "grid_area": null,
            "grid_auto_columns": null,
            "grid_auto_flow": null,
            "grid_auto_rows": null,
            "grid_column": null,
            "grid_gap": null,
            "grid_row": null,
            "grid_template_areas": null,
            "grid_template_columns": null,
            "grid_template_rows": null,
            "height": null,
            "justify_content": null,
            "justify_items": null,
            "left": null,
            "margin": null,
            "max_height": null,
            "max_width": null,
            "min_height": null,
            "min_width": null,
            "object_fit": null,
            "object_position": null,
            "order": null,
            "overflow": null,
            "overflow_x": null,
            "overflow_y": null,
            "padding": null,
            "right": null,
            "top": null,
            "visibility": null,
            "width": null
          }
        },
        "2faa3450781447199d1b8a2844d33e6f": {
          "model_module": "@jupyter-widgets/controls",
          "model_module_version": "1.5.0",
          "model_name": "HBoxModel",
          "state": {
            "_dom_classes": [],
            "_model_module": "@jupyter-widgets/controls",
            "_model_module_version": "1.5.0",
            "_model_name": "HBoxModel",
            "_view_count": null,
            "_view_module": "@jupyter-widgets/controls",
            "_view_module_version": "1.5.0",
            "_view_name": "HBoxView",
            "box_style": "",
            "children": [
              "IPY_MODEL_c57492b543794491bca6749cd1b2d27c",
              "IPY_MODEL_b771a76eb64d4bfd857764c994450c13",
              "IPY_MODEL_397a0cf04f314fe79f8cc138d466e7e1"
            ],
            "layout": "IPY_MODEL_606d7f6508c34ee5889190b07eb03f0f"
          }
        },
        "397a0cf04f314fe79f8cc138d466e7e1": {
          "model_module": "@jupyter-widgets/controls",
          "model_module_version": "1.5.0",
          "model_name": "HTMLModel",
          "state": {
            "_dom_classes": [],
            "_model_module": "@jupyter-widgets/controls",
            "_model_module_version": "1.5.0",
            "_model_name": "HTMLModel",
            "_view_count": null,
            "_view_module": "@jupyter-widgets/controls",
            "_view_module_version": "1.5.0",
            "_view_name": "HTMLView",
            "description": "",
            "description_tooltip": null,
            "layout": "IPY_MODEL_159930d22ed148b2814282557278c409",
            "placeholder": "​",
            "style": "IPY_MODEL_8d1a9a122db44e1ab0ed73b756f3997d",
            "value": " 5/5 [00:00&lt;00:00, 418.12it/s]"
          }
        },
        "5b6f07164fad4c77b1d0427fadc92f49": {
          "model_module": "@jupyter-widgets/controls",
          "model_module_version": "1.5.0",
          "model_name": "ProgressStyleModel",
          "state": {
            "_model_module": "@jupyter-widgets/controls",
            "_model_module_version": "1.5.0",
            "_model_name": "ProgressStyleModel",
            "_view_count": null,
            "_view_module": "@jupyter-widgets/base",
            "_view_module_version": "1.2.0",
            "_view_name": "StyleView",
            "bar_color": null,
            "description_width": ""
          }
        },
        "606d7f6508c34ee5889190b07eb03f0f": {
          "model_module": "@jupyter-widgets/base",
          "model_module_version": "1.2.0",
          "model_name": "LayoutModel",
          "state": {
            "_model_module": "@jupyter-widgets/base",
            "_model_module_version": "1.2.0",
            "_model_name": "LayoutModel",
            "_view_count": null,
            "_view_module": "@jupyter-widgets/base",
            "_view_module_version": "1.2.0",
            "_view_name": "LayoutView",
            "align_content": null,
            "align_items": null,
            "align_self": null,
            "border": null,
            "bottom": null,
            "display": null,
            "flex": null,
            "flex_flow": null,
            "grid_area": null,
            "grid_auto_columns": null,
            "grid_auto_flow": null,
            "grid_auto_rows": null,
            "grid_column": null,
            "grid_gap": null,
            "grid_row": null,
            "grid_template_areas": null,
            "grid_template_columns": null,
            "grid_template_rows": null,
            "height": null,
            "justify_content": null,
            "justify_items": null,
            "left": null,
            "margin": null,
            "max_height": null,
            "max_width": null,
            "min_height": null,
            "min_width": null,
            "object_fit": null,
            "object_position": null,
            "order": null,
            "overflow": null,
            "overflow_x": null,
            "overflow_y": null,
            "padding": null,
            "right": null,
            "top": null,
            "visibility": null,
            "width": null
          }
        },
        "70ba01361666460386aa2d4ef9c266cb": {
          "model_module": "@jupyter-widgets/base",
          "model_module_version": "1.2.0",
          "model_name": "LayoutModel",
          "state": {
            "_model_module": "@jupyter-widgets/base",
            "_model_module_version": "1.2.0",
            "_model_name": "LayoutModel",
            "_view_count": null,
            "_view_module": "@jupyter-widgets/base",
            "_view_module_version": "1.2.0",
            "_view_name": "LayoutView",
            "align_content": null,
            "align_items": null,
            "align_self": null,
            "border": null,
            "bottom": null,
            "display": null,
            "flex": null,
            "flex_flow": null,
            "grid_area": null,
            "grid_auto_columns": null,
            "grid_auto_flow": null,
            "grid_auto_rows": null,
            "grid_column": null,
            "grid_gap": null,
            "grid_row": null,
            "grid_template_areas": null,
            "grid_template_columns": null,
            "grid_template_rows": null,
            "height": null,
            "justify_content": null,
            "justify_items": null,
            "left": null,
            "margin": null,
            "max_height": null,
            "max_width": null,
            "min_height": null,
            "min_width": null,
            "object_fit": null,
            "object_position": null,
            "order": null,
            "overflow": null,
            "overflow_x": null,
            "overflow_y": null,
            "padding": null,
            "right": null,
            "top": null,
            "visibility": null,
            "width": null
          }
        },
        "8d1a9a122db44e1ab0ed73b756f3997d": {
          "model_module": "@jupyter-widgets/controls",
          "model_module_version": "1.5.0",
          "model_name": "DescriptionStyleModel",
          "state": {
            "_model_module": "@jupyter-widgets/controls",
            "_model_module_version": "1.5.0",
            "_model_name": "DescriptionStyleModel",
            "_view_count": null,
            "_view_module": "@jupyter-widgets/base",
            "_view_module_version": "1.2.0",
            "_view_name": "StyleView",
            "description_width": ""
          }
        },
        "b771a76eb64d4bfd857764c994450c13": {
          "model_module": "@jupyter-widgets/controls",
          "model_module_version": "1.5.0",
          "model_name": "FloatProgressModel",
          "state": {
            "_dom_classes": [],
            "_model_module": "@jupyter-widgets/controls",
            "_model_module_version": "1.5.0",
            "_model_name": "FloatProgressModel",
            "_view_count": null,
            "_view_module": "@jupyter-widgets/controls",
            "_view_module_version": "1.5.0",
            "_view_name": "ProgressView",
            "bar_style": "success",
            "description": "",
            "description_tooltip": null,
            "layout": "IPY_MODEL_70ba01361666460386aa2d4ef9c266cb",
            "max": 5,
            "min": 0,
            "orientation": "horizontal",
            "style": "IPY_MODEL_5b6f07164fad4c77b1d0427fadc92f49",
            "value": 5
          }
        },
        "c1141427793944cc89b0871272f3bc84": {
          "model_module": "@jupyter-widgets/controls",
          "model_module_version": "1.5.0",
          "model_name": "DescriptionStyleModel",
          "state": {
            "_model_module": "@jupyter-widgets/controls",
            "_model_module_version": "1.5.0",
            "_model_name": "DescriptionStyleModel",
            "_view_count": null,
            "_view_module": "@jupyter-widgets/base",
            "_view_module_version": "1.2.0",
            "_view_name": "StyleView",
            "description_width": ""
          }
        },
        "c57492b543794491bca6749cd1b2d27c": {
          "model_module": "@jupyter-widgets/controls",
          "model_module_version": "1.5.0",
          "model_name": "HTMLModel",
          "state": {
            "_dom_classes": [],
            "_model_module": "@jupyter-widgets/controls",
            "_model_module_version": "1.5.0",
            "_model_name": "HTMLModel",
            "_view_count": null,
            "_view_module": "@jupyter-widgets/controls",
            "_view_module_version": "1.5.0",
            "_view_name": "HTMLView",
            "description": "",
            "description_tooltip": null,
            "layout": "IPY_MODEL_2ca7a575cb6f4887bed4aa7cf4acea9b",
            "placeholder": "​",
            "style": "IPY_MODEL_c1141427793944cc89b0871272f3bc84",
            "value": "Fetching 5 files: 100%"
          }
        }
      }
    }
  },
  "nbformat": 4,
  "nbformat_minor": 0
}
